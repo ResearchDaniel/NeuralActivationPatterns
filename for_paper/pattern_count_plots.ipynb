{
 "cells": [
  {
   "cell_type": "code",
   "execution_count": null,
   "metadata": {},
   "outputs": [],
   "source": [
    "import plotly.express as px\n",
    "\n",
    "from random import randrange\n",
    "import numpy as np\n",
    "import pandas as pd\n",
    "\n",
    "import plotly.io as pio\n",
    "import plotly.graph_objects as go\n",
    "from pathlib import Path\n",
    "\n",
    "import plotly.io as pio   \n",
    "pio.kaleido.scope.mathjax = None # Prevent text box in generated pdf https://github.com/plotly/plotly.py/issues/3469\n",
    "\n",
    "out_folder = \"figures\"\n",
    "\n",
    "def removeLabelsEqualsPart(fig):\n",
    "  def safeSplit(name):\n",
    "    names = name.split('=', 1)\n",
    "    return names[1] if len(names) > 1 else names[0]\n",
    "\n",
    "  fig.for_each_trace(lambda t: t.update(name =  safeSplit(t.name),\n",
    "                                      legendgroup =  safeSplit(t.name),\n",
    "                                      hovertemplate = t.hovertemplate.replace(t.name, safeSplit(t.name))\n",
    "                                     ) \n",
    "                    )\n",
    "  fig.for_each_annotation(lambda a: a.update(text=a.text.replace(\"=\", \" \")))\n",
    "def removeLabelsColumnName(fig, if_startswith=None):\n",
    "  def safeSplit(name):\n",
    "    if if_startswith is not None and name.startswith(if_startswith):\n",
    "      names = name.split('=', 1)\n",
    "      return names[1] if len(names) > 1 else names[0]\n",
    "    else:\n",
    "      return name\n",
    "\n",
    "\n",
    "  fig.for_each_trace(lambda t: t.update(name =  safeSplit(t.name),\n",
    "                                      legendgroup =  safeSplit(t.name),\n",
    "                                      hovertemplate = t.hovertemplate.replace(t.name, safeSplit(t.name))\n",
    "                                     ) \n",
    "                    )\n",
    "  fig.for_each_annotation(lambda a: a.update(text=safeSplit(a.text)))  \n",
    "  \n",
    "\n",
    "\n",
    "pio.templates[\"garamond\"] = go.layout.Template({'layout': {'font': {'family': 'Garamond'}, 'colorway': px.colors.qualitative.T10}})\n",
    "pio.templates.default = \"plotly_white+garamond\"\n",
    " \n",
    "df = pd.read_feather('model_pattern_count.feather')\n",
    "category_orders_cifar ={\"Layer\": [\"conv2d\", \"max_pooling2d\", \"conv2d_1\", \"max_pooling2d_1\", \"conv2d_2\", \"flatten\", \"dense\", \"dense_1\"],\n",
    "                        \"Input size\": [1000, 2000, 3000, 4000, 5000, 6000, 7000, 8000, 9000, 10000]\n",
    "                }\n",
    "category_orders_mnist ={\"Layer\": [\"conv2d\", \"max_pooling2d\", \"conv2d_1\", \"max_pooling2d_1\", \"flatten\", \"dropout\", \"dense\"],}  \n",
    "category_orders_inception_v3 ={\"Layer\": [f\"mixed{i}\" for i in range(1, 11)] + [\"prediction\"]} \n",
    "category_orders = {\"mnist\": category_orders_mnist, \"cifar10\": category_orders_cifar, \"inception_v3\": category_orders_inception_v3}                  \n",
    "\n",
    "print(df.describe())            "
   ]
  },
  {
   "cell_type": "code",
   "execution_count": null,
   "metadata": {},
   "outputs": [],
   "source": [
    "px.bar(df[(df[\"Model\"] == \"mnist\") & (df[\"Minimum pattern size\"] == 5)], x=\"Input size\", y=\"Number of patterns\", facet_row=\"Model\", facet_col=\"Layer\")"
   ]
  },
  {
   "cell_type": "code",
   "execution_count": null,
   "metadata": {},
   "outputs": [],
   "source": [
    "models = [\"mnist\", \"cifar10\", \"inception_v3\"]\n",
    "layers = {\"mnist\": \"conv2d_1\", \"cifar10\" : \"conv2d_2\", \"inception_v3\": \"mixed5\"}\n",
    "\n",
    "def plotMinPatternSize(model, layer, data):\n",
    "    fig = px.bar(data[(data[\"Model\"] == model) & (data[\"Layer\"] == layer) & ((data[\"Input size\"]==10000) | (data[\"Input size\"]==1000)  | (data[\"Input size\"]==5000))], \n",
    "                    x=\"Minimum pattern size\", y=\"Number of patterns\", \n",
    "                    #facet_col=\"Layer\", \n",
    "                    facet_row=\"Input size\", #width=1200, \n",
    "                    height=600,\n",
    "                    category_orders = {\"Input size\": [1000, 5000, 10000]},\n",
    "                    title=f\"Model: {model}, layer: {layer}\")\n",
    "    fig.update_layout(title_x=0.5)\n",
    "    #fig.update_yaxes(matches=None)\n",
    "    #removeLabelsColumnName(fig)\n",
    "    #fig.show()\n",
    "    return fig\n",
    "    \n",
    "for model in models:\n",
    "    fig = plotMinPatternSize(model, layers[model], df)\n",
    "    fig.show()\n",
    "    fig.write_image(Path(out_folder, f\"{model}_min_pattern_size.pdf\"))\n"
   ]
  },
  {
   "cell_type": "markdown",
   "metadata": {},
   "source": [
    "### Input data size VS Minimum pattern size "
   ]
  },
  {
   "cell_type": "code",
   "execution_count": null,
   "metadata": {},
   "outputs": [],
   "source": [
    "\n",
    "for model in [\"cifar10\", \"mnist\"]:\n",
    "    dff = df\n",
    "    dff[\"Input size\"] = dff[\"Input size\"].astype(\"category\")\n",
    "    cat_orders = category_orders[model]\n",
    "    cat_orders[\"Minimum pattern size\"] = [5, 6, 7, 8, 9, 10]\n",
    "    fig = px.bar(dff[dff[\"Model\"] == model], x=\"Input size\", y=\"Number of patterns\", barmode='group', facet_col=\"Layer\", facet_row=\"Minimum pattern size\", \n",
    "    category_orders=cat_orders, height=1000)\n",
    "    removeLabelsColumnName(fig, \"Layer\")\n",
    "\n",
    "\n",
    "    fig.write_image(Path(out_folder, f\"{model}_min_pattern_size_input_size.pdf\"))\n",
    "    fig.show()"
   ]
  },
  {
   "cell_type": "code",
   "execution_count": null,
   "metadata": {},
   "outputs": [],
   "source": [
    "model = \"inception_v3\"\n",
    "\n",
    "fig = px.bar(df[(df[\"Model\"] == model) & (df[\"Minimum pattern size\"] == 5)], x=\"Input size\", y=\"Number of patterns\", barmode='group', facet_col=\"Layer\", category_orders=category_orders[model], height=1000)\n",
    "\n",
    "#removeLabelsEqualsPart(fig)\n",
    "#fig.update_xaxes(title_text =\"\")\n",
    "#fig.update_yaxes(title_text =\"\")\n",
    "fig.show()"
   ]
  },
  {
   "cell_type": "code",
   "execution_count": null,
   "metadata": {},
   "outputs": [],
   "source": [
    "fig = px.bar(df[(df[\"Model\"] == \"inception_v3\") & (df[\"Minimum pattern size\"] == 5)], x=\"Input size\", y=\"Number of patterns\", barmode='group', facet_col=\"Layer\", height=1000)\n",
    "\n",
    "#removeLabelsEqualsPart(fig)\n",
    "#fig.update_xaxes(title_text =\"\")\n",
    "#fig.update_yaxes(title_text =\"\")\n",
    "fig.show()"
   ]
  },
  {
   "cell_type": "code",
   "execution_count": null,
   "metadata": {},
   "outputs": [],
   "source": []
  }
 ],
 "metadata": {
  "interpreter": {
   "hash": "14279f1ded93770885b3962cab484226a7f359751cd28d8c4779b849768de9d8"
  },
  "kernelspec": {
   "display_name": "Python 3.8.10 ('venv': venv)",
   "language": "python",
   "name": "python3"
  },
  "language_info": {
   "codemirror_mode": {
    "name": "ipython",
    "version": 3
   },
   "file_extension": ".py",
   "mimetype": "text/x-python",
   "name": "python",
   "nbconvert_exporter": "python",
   "pygments_lexer": "ipython3",
   "version": "3.8.10"
  },
  "orig_nbformat": 4
 },
 "nbformat": 4,
 "nbformat_minor": 2
}
