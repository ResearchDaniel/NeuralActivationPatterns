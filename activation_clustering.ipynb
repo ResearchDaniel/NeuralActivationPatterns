{
  "cells": [
    {
      "cell_type": "code",
      "execution_count": null,
      "metadata": {
        "id": "dfj0fLAam6q-"
      },
      "outputs": [],
      "source": [
        "import numpy as np\n",
        "from tensorflow import keras\n",
        "from tensorflow.keras import layers\n"
      ]
    },
    {
      "cell_type": "markdown",
      "metadata": {},
      "source": [
        "## Setup training/test data"
      ]
    },
    {
      "cell_type": "code",
      "execution_count": null,
      "metadata": {
        "colab": {
          "base_uri": "https://localhost:8080/"
        },
        "id": "2CL91oq-nlPm",
        "outputId": "7c8cb848-b987-4a26-881a-1271d6c8dd4f"
      },
      "outputs": [],
      "source": [
        "# Model / data parameters\n",
        "num_classes = 10\n",
        "input_shape = (28, 28, 1)\n",
        "\n",
        "# the data, split between train and test sets\n",
        "(x_train, y_train_l), (x_test, y_test_l) = keras.datasets.mnist.load_data()\n",
        "\n",
        "# Scale images to the [0, 1] range\n",
        "x_train = x_train.astype(\"float32\") / 255\n",
        "x_test = x_test.astype(\"float32\") / 255\n",
        "# Make sure images have shape (28, 28, 1)\n",
        "x_train = np.expand_dims(x_train, -1)\n",
        "x_test = np.expand_dims(x_test, -1)\n",
        "print(\"x_train shape:\", x_train.shape)\n",
        "print(x_train.shape[0], \"train samples\")\n",
        "print(x_test.shape[0], \"test samples\")\n",
        "\n",
        "\n",
        "# convert class vectors to binary class matrices\n",
        "y_train = keras.utils.to_categorical(y_train_l, num_classes)\n",
        "y_test = keras.utils.to_categorical(y_test_l, num_classes)"
      ]
    },
    {
      "cell_type": "markdown",
      "metadata": {},
      "source": [
        "## Load pretrained model"
      ]
    },
    {
      "cell_type": "code",
      "execution_count": null,
      "metadata": {},
      "outputs": [],
      "source": [
        "model_save_name = 'mnist_classifier'\n",
        "path = F\"{model_save_name}\" \n",
        "#model.save(path)\n",
        "model = keras.models.load_model(path)\n",
        "model.layer_summary()"
      ]
    },
    {
      "cell_type": "markdown",
      "metadata": {},
      "source": [
        "## Compute network layer activations for each image"
      ]
    },
    {
      "cell_type": "code",
      "execution_count": 40,
      "metadata": {},
      "outputs": [],
      "source": [
        "%reload_ext autoreload\n",
        "%autoreload 2\n",
        "\n",
        "import nap\n",
        "ap = nap.NeuralActivationPattern(x_test[:1000], y_test_l[:1000], model)"
      ]
    },
    {
      "cell_type": "code",
      "execution_count": 41,
      "metadata": {},
      "outputs": [],
      "source": [
        "def show_image_grid(images, labels, img_idx, title, images_per_row, img_scale):\n",
        "    import plotly.express as px\n",
        "    imSize = (images[0].shape[0], images[0].shape[1])\n",
        "    # Get indices of the largest \n",
        "    sampleSize = len(img_idx)\n",
        "    nCols = min(sampleSize, images_per_row)\n",
        "    nRows =  1 +sampleSize % images_per_row\n",
        "    img = np.array([images[idx].reshape(imSize) for idx in img_idx])\n",
        "    fig = px.imshow(img, facet_col=0, binary_string=True, facet_col_wrap=nCols, \n",
        "                    #width=int(nCols*imSize[0]*img_scale), \n",
        "                    #height=50+int(nRows*10 + nRows*imSize[1]*img_scale), \n",
        "                    title=title\n",
        "                    )\n",
        "    # Set facet titles\n",
        "    for i, im in enumerate(img_idx):\n",
        "        fig.layout.annotations[i]['text'] = f\"{labels[im]}\"\n",
        "    #fig.update_yaxes(automargin=False, title=title)\n",
        "    #fig.update_xaxes(automargin=True)\n",
        "    fig.update_layout(margin=dict(b=0))\n",
        "    #fig.update_annotations(standoff=10)\n",
        "    fig.show()\n",
        "\n",
        "def show_pattern(average, representatives, outliers, images, labels, title):\n",
        "    import plotly.express as px\n",
        "    import plotly.subplots as sp\n",
        "    imSize = (images[0].shape[0], images[0].shape[1])\n",
        "    img = np.array([average.reshape(imSize)] + [images[idx].reshape(imSize) for idx in representatives] + [images[idx].reshape(imSize) for idx in outliers])\n",
        "    fig = px.imshow(img, facet_col=0, binary_string=True, title = title)\n",
        "    fig.layout.annotations[0]['text'] = \"Average\"\n",
        "    for i, im in enumerate(representatives):\n",
        "        fig.layout.annotations[1+i]['text'] = f\"Representative | {labels[im]}\"\n",
        "    for i, im in enumerate(outliers):\n",
        "        fig.layout.annotations[len(representatives)+1+i]['text'] = f\"Outlier | {labels[im]}\"\n",
        "    fig.show()\n",
        "\n",
        "def show_images(images, labels, layer_img_idx, titles, images_per_row = 10, img_scale = 7.0):\n",
        "    for layer, img_idx in enumerate(layer_img_idx):\n",
        "        show_image_grid(images, labels, img_idx, titles[layer], images_per_row, img_scale)\n"
      ]
    },
    {
      "cell_type": "markdown",
      "metadata": {},
      "source": [
        "## Show the images generating highest activations for each layer"
      ]
    },
    {
      "cell_type": "code",
      "execution_count": 42,
      "metadata": {},
      "outputs": [
        {
          "name": "stdout",
          "output_type": "stream",
          "text": [
            "             Layer    Activation shape\n",
            "0           conv2d  (1000, 26, 26, 32)\n",
            "1    max_pooling2d  (1000, 13, 13, 32)\n",
            "2         conv2d_1  (1000, 11, 11, 64)\n",
            "3  max_pooling2d_1    (1000, 5, 5, 64)\n",
            "4          flatten        (1000, 1600)\n",
            "5          dropout        (1000, 1600)\n",
            "6            dense          (1000, 10)\n"
          ]
        },
        {
          "data": {
            "application/vnd.plotly.v1+json": {
              "config": {
                "plotlyServerURL": "https://plot.ly"
              },
              "data": [
                {
                  "hovertemplate": "x: %{x}<br>y: %{y}<extra></extra>",
                  "name": "0",
                  "source": "data:image/png;base64,iVBORw0KGgoAAAANSUhEUgAAABwAAAAcCAAAAABXZoBIAAABDklEQVR4Xs3QvUrDUBwF8DM4OAQJtIODYIdMLhYcHSI4uGZwlJJHKD5AxRdwLwiio9DBwYIQFEHHTFaXGkQQC9YHEA6n1+Hmmua6OniG/3B+94sL/Oe009RI6vs90Ny7LkiR5M15WLduLrJEMatp98v1dlwtV9bMq96Ozo9FT5KM8gaAZCgjHVYbU7v+eSMAsEvxePEXkgOEB5/Me3FlCO7ddS+vnGaNOQKwM3i4dW/J6mRz8i7JSI+RLwBa7uyRL0AictwTSSa+hZfieA37JDkMPdyiJutANCKp07q1P2RiAGhJMoUtF0qMl2Y4OrsAVmYApmXrUsx9fL7q4fabwzv/hwBsiiT7k07gy1/nGzk506xmYtM1AAAAAElFTkSuQmCC",
                  "type": "image",
                  "xaxis": "x",
                  "yaxis": "y"
                },
                {
                  "hovertemplate": "x: %{x}<br>y: %{y}<extra></extra>",
                  "name": "1",
                  "source": "data:image/png;base64,iVBORw0KGgoAAAANSUhEUgAAABwAAAAcCAAAAABXZoBIAAABQklEQVR4XsXRvyvEcRzH8ScuA9+TX+UUia6UQcrGgG7CYJFYDL6DWCwMKGW53cBmZ5PhkiLJLbcoIuEo3eX8OHR+dnndGb73w/f7B/BaPu/35/FePp83/F/KO1ZWU+nU6UpvkZOYPFM2G/nbAgB8ARc8x9df6OlL921ToURuovpSOja9AKXj01XUhI6bckhQ8uc7BqTWfLcgfQzmupmoDY2Y9L5mAFC3n1RiqjiPuLckxeZq8ZpfUrzrFwFlE0lJ0ZNH6TvYbTegfs965+eYUwBKziVJ93VOADrjUiQi6bzfSfgfFJv1eDYlXZsO63jTTSlQNHonJUdsZhzqtt0qm0PSqQ2HpcVsXXmlV6tyWccz+Fp2LnaAbtdDQ2bMWhnFgR6AMNBYCB/uDGcyNH9wZP2C9LRkNwCjbXlXUtj8tcw/zw9/mZqSH+fsUQAAAABJRU5ErkJggg==",
                  "type": "image",
                  "xaxis": "x2",
                  "yaxis": "y2"
                },
                {
                  "hovertemplate": "x: %{x}<br>y: %{y}<extra></extra>",
                  "name": "2",
                  "source": "data:image/png;base64,iVBORw0KGgoAAAANSUhEUgAAABwAAAAcCAAAAABXZoBIAAABEElEQVR4Xs3Qr0sDYQDG8a/eYAtDhxYVVhzCgtM5kGE2iDCLYpAl4zAoYjJZRPAfEMyCZSJDYQgyEKvFIBqEqU1BZhoiPKfhvfd+YRV8yvvc87k7joP/mnR1vrT77bqtxbhA8lCdR0lS97yYiuGaQmn0mbHXHM5gcB9UJj01WQ0/KKkRevPAtSS9lPP5g7bR/gCrkqRNgMLOr/ixDIAzdCvpKIY39qom6amM/7XAw5JtV0B2NIL1Z9vWbQlwKuOVwpydAux8mTN3kgUuWhEcTgEktpo5gJVXIOHj7EwbpjcmgLd3XH9n/N78Fy/bgQCMhe0sE8XkcQiLUYPKpaVuzbFjjy3phf2Ruz3g89ROf5UfRSCgGQUB5GkAAAAASUVORK5CYII=",
                  "type": "image",
                  "xaxis": "x3",
                  "yaxis": "y3"
                },
                {
                  "hovertemplate": "x: %{x}<br>y: %{y}<extra></extra>",
                  "name": "3",
                  "source": "data:image/png;base64,iVBORw0KGgoAAAANSUhEUgAAABwAAAAcCAAAAABXZoBIAAABM0lEQVR4XsWPwSuDcRyHnzE5UeRCa1IoJrVcKJwUMYmFCweSg4tyUPwDlNNy0U5y4eLk5KDchHLYdpm4kE1KZtrW3u0zDu823ted5/T9PU+fww/+kxrP4eey225Nuk8k6W0dBn19tuYISsrnlNw4zSjVWWWJw5Ie5/slfYRCCd1b4poUbqRO2vTCcTE6v7s/zrubeKFnYoScPaag8ESTd7+e12l7HL9qy8WGF13AdvhbAwMZKaV8WjKM9O6PCQCjUUmSHvbGdmILtsiGJOmuBbb07LEkx4ohSYleoCGiI0tslpRcnWkGfv/TDzdz0eLDzq1kroB2w7Z0cvliXl1DS5VlWaK6AmDKN1kLRMoa4EAyrrPZrCQpPlsBgKMYW89c5mGccxF8LtoSHYGkpFigw+b/mi+IS5FIOddcrgAAAABJRU5ErkJggg==",
                  "type": "image",
                  "xaxis": "x4",
                  "yaxis": "y4"
                },
                {
                  "hovertemplate": "x: %{x}<br>y: %{y}<extra></extra>",
                  "name": "4",
                  "source": "data:image/png;base64,iVBORw0KGgoAAAANSUhEUgAAABwAAAAcCAAAAABXZoBIAAABJ0lEQVR4Xs2SP0sDQRTEfxetQkRCsDglxsYro6CNjYJtBBuvsxDUxkI5VOzFbyCp/AD+wU4s7SwsAtFKSCmpIsYEhePg7a3F3d5dgq3gVMPM7L437MI/g5XS8z041ny3FnTl8TbVgfm3QESUSNBTIhsAjBpzc0pHZKRgpMQs1aATUPykfwY8JQGAsQfVsGFlQDQoK301rJEzRIeavAultdQ0MytQWtre8nRhtmk9n3ylCeBalERVRJRc5LPezOuAOdjTdsiF3Lesl2KZwzA+EpsfN1in/a4PwGo1Nn+DZ65NqmQwPixksJ4sFMHxHEMnm0qr9hxg3tO97PpHAFR3JrDudt9NFnAzFUXai7EcLeR3eklQ1WuNmMbfxLaXYXofS1M/SHJ/hB/Wb3sjzBjjWwAAAABJRU5ErkJggg==",
                  "type": "image",
                  "xaxis": "x5",
                  "yaxis": "y5"
                },
                {
                  "hovertemplate": "x: %{x}<br>y: %{y}<extra></extra>",
                  "name": "5",
                  "source": "data:image/png;base64,iVBORw0KGgoAAAANSUhEUgAAABwAAAAcCAAAAABXZoBIAAABHklEQVR4Xs2PyytEYRiHH5eTXBZKTJqw0VgpGrFQs5c/QMmOlMW45LKRlBUbNvZKtrKcDQvWmtiwMDKxEUbnjBgz5neyOJc5c/bKs/m+nqe373vhH9O/cWTb2emwBph/LUmSytvhwtDih1x+dsLN8pKkG8/WOEe+GYDHUyLjPCfuvQyALUnH8Q4YlXRZ1egrSpsGQOO5lKmOzJ0MGwAMWpXovgnEog3Au3EBD72OqndTz9RsxACsJ+DMlR77gVX0mRwJtslyMErfqdSK/+ZtDDDz3cGBOmqdyxWYM2OJg2D0SUqH7V17OUlfWwuZrKS3yiovbdx1tgCl9V1omoD0tT+65v1kyVcV4qYTl8MBgHiuWCikV6Nh7zLQGjZ/xC9iZJi6RJd9hQAAAABJRU5ErkJggg==",
                  "type": "image",
                  "xaxis": "x6",
                  "yaxis": "y6"
                },
                {
                  "hovertemplate": "x: %{x}<br>y: %{y}<extra></extra>",
                  "name": "6",
                  "source": "data:image/png;base64,iVBORw0KGgoAAAANSUhEUgAAABwAAAAcCAAAAABXZoBIAAABGklEQVR4Xr3PO0sDQRiF4VcTAyGFbSBYKKJ4a8QFAyqIWFhkEWzsbbXRP2ETC9NYCN6wttBWIUEQy0RBsE4aJYUSJZg90WJ23dn9ATnV952HYWag9+mLbInC3mEH7j4jrZ+0JElH8Z7M0nyAnWY+hkV9bCTPjGohQpliWyqxVvUkSc8RLEnSwwic6qAitQohpfd/JEmrMDg3kHuUjkNcNzdVJ8w6Kt0PA/0ApABobr4YTEF+xoxAV5J0GaxPklyCkwBc7YSzna6kWtLMk41vTzpJAH4D/HoAW7OLWeDrXCFIenUc56beMu+2vsmFqf5THrLQ/6eft3LWMqZrljVWbALG6gG135djBuP+2dvduABMbUvXrpuL973OHzIxufN/aSRhAAAAAElFTkSuQmCC",
                  "type": "image",
                  "xaxis": "x7",
                  "yaxis": "y7"
                },
                {
                  "hovertemplate": "x: %{x}<br>y: %{y}<extra></extra>",
                  "name": "7",
                  "source": "data:image/png;base64,iVBORw0KGgoAAAANSUhEUgAAABwAAAAcCAAAAABXZoBIAAABHElEQVR4XsWRvUoDURBGzw2isCD6AIqV6SQQ0iwG00ewSiCPYSpBUliKXWqximBjEQLB1kLEMmlSaBGQNCksLIWZHYu92b2bB9Aphvm+c+cHLvxrDFVV7apbXgcQDVREREXe2+uMuqygSLxZZFujAOplapY8rDazd8BRKCBWNV1UaIxU1fQiZPtvIjqvAfFSRGW2F8C2iOgDAKdLUZEW5DsBBgCMnwF2IINnANO0BqAHsJHWDRcMcaUkFd6ZmFni2dQSs6EX4A+6Tuu6qMgcigd1jiOIbu4BvgFc6pefDnDG+MMdNsEZnce8iVdVU83SC5CPnZglZqv0eZ51AWzfBr+yqBUYRK0vD3/6Fe/5gwCqJ+z2nPVnd7n39/ELmTqlZUna8FoAAAAASUVORK5CYII=",
                  "type": "image",
                  "xaxis": "x8",
                  "yaxis": "y8"
                },
                {
                  "hovertemplate": "x: %{x}<br>y: %{y}<extra></extra>",
                  "name": "8",
                  "source": "data:image/png;base64,iVBORw0KGgoAAAANSUhEUgAAABwAAAAcCAAAAABXZoBIAAAAk0lEQVR4XsWRQRLDIAhFXzu5V8jN8GSak9GFBAyddpu3Ef8bHUR4FFUzk5oCIDaRKgB1Z12qinNmppm+59IzWdiyHOcuuYM42eA49GYK3pRqFUDPpuSPu+wrpEUFnntDQRtz1TWccxDw+xXWd8oxoq50sw4xSF1dDN4BvhtyGvBLNr1tlz/LL40hCLILME69okf4AIAderOB//2DAAAAAElFTkSuQmCC",
                  "type": "image",
                  "xaxis": "x9",
                  "yaxis": "y9"
                },
                {
                  "hovertemplate": "x: %{x}<br>y: %{y}<extra></extra>",
                  "name": "9",
                  "source": "data:image/png;base64,iVBORw0KGgoAAAANSUhEUgAAABwAAAAcCAAAAABXZoBIAAABCUlEQVR4Xs2RL0tDURyGn6n3TsFikKEYBMuSIPgNJizYDRfbdKCYbCKCMLBo0iIYFkSWbHI/gMEgRtNkdWvDIHfTXV4Nd+fMc7QKPuX38j7nwPkD/4zccJZnYXcwdU7v1vFAIe5qSC++9GRslCR1Vk09YcLrdhsI6nOThfKTKQGoqrsGQHDUkg4dx3hxCYCVa0lJxZUZx2ep9GMjLJRKlU4qSf39wJd79qxtXzEzsFL9VtGTSZpkSNLziWupZiO8upH0shW61pA//ZC06NeGmqQ7AMY8AzRs+kVu2GQefnkagLAO8+Q+m3YBwMPoopIaeeDbl414u28evDvNpi60E0WPqkXrjvgDvgBpB426jUn1EAAAAABJRU5ErkJggg==",
                  "type": "image",
                  "xaxis": "x10",
                  "yaxis": "y10"
                }
              ],
              "layout": {
                "annotations": [
                  {
                    "font": {},
                    "showarrow": false,
                    "text": "8",
                    "x": 0.04100000000000001,
                    "xanchor": "center",
                    "xref": "paper",
                    "y": 1,
                    "yanchor": "bottom",
                    "yref": "paper"
                  },
                  {
                    "font": {},
                    "showarrow": false,
                    "text": "8",
                    "x": 0.14300000000000004,
                    "xanchor": "center",
                    "xref": "paper",
                    "y": 1,
                    "yanchor": "bottom",
                    "yref": "paper"
                  },
                  {
                    "font": {},
                    "showarrow": false,
                    "text": "0",
                    "x": 0.24500000000000005,
                    "xanchor": "center",
                    "xref": "paper",
                    "y": 1,
                    "yanchor": "bottom",
                    "yref": "paper"
                  },
                  {
                    "font": {},
                    "showarrow": false,
                    "text": "8",
                    "x": 0.3470000000000001,
                    "xanchor": "center",
                    "xref": "paper",
                    "y": 1,
                    "yanchor": "bottom",
                    "yref": "paper"
                  },
                  {
                    "font": {},
                    "showarrow": false,
                    "text": "5",
                    "x": 0.44900000000000007,
                    "xanchor": "center",
                    "xref": "paper",
                    "y": 1,
                    "yanchor": "bottom",
                    "yref": "paper"
                  },
                  {
                    "font": {},
                    "showarrow": false,
                    "text": "2",
                    "x": 0.5510000000000002,
                    "xanchor": "center",
                    "xref": "paper",
                    "y": 1,
                    "yanchor": "bottom",
                    "yref": "paper"
                  },
                  {
                    "font": {},
                    "showarrow": false,
                    "text": "0",
                    "x": 0.6530000000000001,
                    "xanchor": "center",
                    "xref": "paper",
                    "y": 1,
                    "yanchor": "bottom",
                    "yref": "paper"
                  },
                  {
                    "font": {},
                    "showarrow": false,
                    "text": "0",
                    "x": 0.7550000000000001,
                    "xanchor": "center",
                    "xref": "paper",
                    "y": 1,
                    "yanchor": "bottom",
                    "yref": "paper"
                  },
                  {
                    "font": {},
                    "showarrow": false,
                    "text": "3",
                    "x": 0.8570000000000002,
                    "xanchor": "center",
                    "xref": "paper",
                    "y": 1,
                    "yanchor": "bottom",
                    "yref": "paper"
                  },
                  {
                    "font": {},
                    "showarrow": false,
                    "text": "3",
                    "x": 0.9590000000000002,
                    "xanchor": "center",
                    "xref": "paper",
                    "y": 1,
                    "yanchor": "bottom",
                    "yref": "paper"
                  }
                ],
                "margin": {
                  "b": 0
                },
                "template": {
                  "data": {
                    "bar": [
                      {
                        "error_x": {
                          "color": "#2a3f5f"
                        },
                        "error_y": {
                          "color": "#2a3f5f"
                        },
                        "marker": {
                          "line": {
                            "color": "#E5ECF6",
                            "width": 0.5
                          },
                          "pattern": {
                            "fillmode": "overlay",
                            "size": 10,
                            "solidity": 0.2
                          }
                        },
                        "type": "bar"
                      }
                    ],
                    "barpolar": [
                      {
                        "marker": {
                          "line": {
                            "color": "#E5ECF6",
                            "width": 0.5
                          },
                          "pattern": {
                            "fillmode": "overlay",
                            "size": 10,
                            "solidity": 0.2
                          }
                        },
                        "type": "barpolar"
                      }
                    ],
                    "carpet": [
                      {
                        "aaxis": {
                          "endlinecolor": "#2a3f5f",
                          "gridcolor": "white",
                          "linecolor": "white",
                          "minorgridcolor": "white",
                          "startlinecolor": "#2a3f5f"
                        },
                        "baxis": {
                          "endlinecolor": "#2a3f5f",
                          "gridcolor": "white",
                          "linecolor": "white",
                          "minorgridcolor": "white",
                          "startlinecolor": "#2a3f5f"
                        },
                        "type": "carpet"
                      }
                    ],
                    "choropleth": [
                      {
                        "colorbar": {
                          "outlinewidth": 0,
                          "ticks": ""
                        },
                        "type": "choropleth"
                      }
                    ],
                    "contour": [
                      {
                        "colorbar": {
                          "outlinewidth": 0,
                          "ticks": ""
                        },
                        "colorscale": [
                          [
                            0,
                            "#0d0887"
                          ],
                          [
                            0.1111111111111111,
                            "#46039f"
                          ],
                          [
                            0.2222222222222222,
                            "#7201a8"
                          ],
                          [
                            0.3333333333333333,
                            "#9c179e"
                          ],
                          [
                            0.4444444444444444,
                            "#bd3786"
                          ],
                          [
                            0.5555555555555556,
                            "#d8576b"
                          ],
                          [
                            0.6666666666666666,
                            "#ed7953"
                          ],
                          [
                            0.7777777777777778,
                            "#fb9f3a"
                          ],
                          [
                            0.8888888888888888,
                            "#fdca26"
                          ],
                          [
                            1,
                            "#f0f921"
                          ]
                        ],
                        "type": "contour"
                      }
                    ],
                    "contourcarpet": [
                      {
                        "colorbar": {
                          "outlinewidth": 0,
                          "ticks": ""
                        },
                        "type": "contourcarpet"
                      }
                    ],
                    "heatmap": [
                      {
                        "colorbar": {
                          "outlinewidth": 0,
                          "ticks": ""
                        },
                        "colorscale": [
                          [
                            0,
                            "#0d0887"
                          ],
                          [
                            0.1111111111111111,
                            "#46039f"
                          ],
                          [
                            0.2222222222222222,
                            "#7201a8"
                          ],
                          [
                            0.3333333333333333,
                            "#9c179e"
                          ],
                          [
                            0.4444444444444444,
                            "#bd3786"
                          ],
                          [
                            0.5555555555555556,
                            "#d8576b"
                          ],
                          [
                            0.6666666666666666,
                            "#ed7953"
                          ],
                          [
                            0.7777777777777778,
                            "#fb9f3a"
                          ],
                          [
                            0.8888888888888888,
                            "#fdca26"
                          ],
                          [
                            1,
                            "#f0f921"
                          ]
                        ],
                        "type": "heatmap"
                      }
                    ],
                    "heatmapgl": [
                      {
                        "colorbar": {
                          "outlinewidth": 0,
                          "ticks": ""
                        },
                        "colorscale": [
                          [
                            0,
                            "#0d0887"
                          ],
                          [
                            0.1111111111111111,
                            "#46039f"
                          ],
                          [
                            0.2222222222222222,
                            "#7201a8"
                          ],
                          [
                            0.3333333333333333,
                            "#9c179e"
                          ],
                          [
                            0.4444444444444444,
                            "#bd3786"
                          ],
                          [
                            0.5555555555555556,
                            "#d8576b"
                          ],
                          [
                            0.6666666666666666,
                            "#ed7953"
                          ],
                          [
                            0.7777777777777778,
                            "#fb9f3a"
                          ],
                          [
                            0.8888888888888888,
                            "#fdca26"
                          ],
                          [
                            1,
                            "#f0f921"
                          ]
                        ],
                        "type": "heatmapgl"
                      }
                    ],
                    "histogram": [
                      {
                        "marker": {
                          "pattern": {
                            "fillmode": "overlay",
                            "size": 10,
                            "solidity": 0.2
                          }
                        },
                        "type": "histogram"
                      }
                    ],
                    "histogram2d": [
                      {
                        "colorbar": {
                          "outlinewidth": 0,
                          "ticks": ""
                        },
                        "colorscale": [
                          [
                            0,
                            "#0d0887"
                          ],
                          [
                            0.1111111111111111,
                            "#46039f"
                          ],
                          [
                            0.2222222222222222,
                            "#7201a8"
                          ],
                          [
                            0.3333333333333333,
                            "#9c179e"
                          ],
                          [
                            0.4444444444444444,
                            "#bd3786"
                          ],
                          [
                            0.5555555555555556,
                            "#d8576b"
                          ],
                          [
                            0.6666666666666666,
                            "#ed7953"
                          ],
                          [
                            0.7777777777777778,
                            "#fb9f3a"
                          ],
                          [
                            0.8888888888888888,
                            "#fdca26"
                          ],
                          [
                            1,
                            "#f0f921"
                          ]
                        ],
                        "type": "histogram2d"
                      }
                    ],
                    "histogram2dcontour": [
                      {
                        "colorbar": {
                          "outlinewidth": 0,
                          "ticks": ""
                        },
                        "colorscale": [
                          [
                            0,
                            "#0d0887"
                          ],
                          [
                            0.1111111111111111,
                            "#46039f"
                          ],
                          [
                            0.2222222222222222,
                            "#7201a8"
                          ],
                          [
                            0.3333333333333333,
                            "#9c179e"
                          ],
                          [
                            0.4444444444444444,
                            "#bd3786"
                          ],
                          [
                            0.5555555555555556,
                            "#d8576b"
                          ],
                          [
                            0.6666666666666666,
                            "#ed7953"
                          ],
                          [
                            0.7777777777777778,
                            "#fb9f3a"
                          ],
                          [
                            0.8888888888888888,
                            "#fdca26"
                          ],
                          [
                            1,
                            "#f0f921"
                          ]
                        ],
                        "type": "histogram2dcontour"
                      }
                    ],
                    "mesh3d": [
                      {
                        "colorbar": {
                          "outlinewidth": 0,
                          "ticks": ""
                        },
                        "type": "mesh3d"
                      }
                    ],
                    "parcoords": [
                      {
                        "line": {
                          "colorbar": {
                            "outlinewidth": 0,
                            "ticks": ""
                          }
                        },
                        "type": "parcoords"
                      }
                    ],
                    "pie": [
                      {
                        "automargin": true,
                        "type": "pie"
                      }
                    ],
                    "scatter": [
                      {
                        "marker": {
                          "colorbar": {
                            "outlinewidth": 0,
                            "ticks": ""
                          }
                        },
                        "type": "scatter"
                      }
                    ],
                    "scatter3d": [
                      {
                        "line": {
                          "colorbar": {
                            "outlinewidth": 0,
                            "ticks": ""
                          }
                        },
                        "marker": {
                          "colorbar": {
                            "outlinewidth": 0,
                            "ticks": ""
                          }
                        },
                        "type": "scatter3d"
                      }
                    ],
                    "scattercarpet": [
                      {
                        "marker": {
                          "colorbar": {
                            "outlinewidth": 0,
                            "ticks": ""
                          }
                        },
                        "type": "scattercarpet"
                      }
                    ],
                    "scattergeo": [
                      {
                        "marker": {
                          "colorbar": {
                            "outlinewidth": 0,
                            "ticks": ""
                          }
                        },
                        "type": "scattergeo"
                      }
                    ],
                    "scattergl": [
                      {
                        "marker": {
                          "colorbar": {
                            "outlinewidth": 0,
                            "ticks": ""
                          }
                        },
                        "type": "scattergl"
                      }
                    ],
                    "scattermapbox": [
                      {
                        "marker": {
                          "colorbar": {
                            "outlinewidth": 0,
                            "ticks": ""
                          }
                        },
                        "type": "scattermapbox"
                      }
                    ],
                    "scatterpolar": [
                      {
                        "marker": {
                          "colorbar": {
                            "outlinewidth": 0,
                            "ticks": ""
                          }
                        },
                        "type": "scatterpolar"
                      }
                    ],
                    "scatterpolargl": [
                      {
                        "marker": {
                          "colorbar": {
                            "outlinewidth": 0,
                            "ticks": ""
                          }
                        },
                        "type": "scatterpolargl"
                      }
                    ],
                    "scatterternary": [
                      {
                        "marker": {
                          "colorbar": {
                            "outlinewidth": 0,
                            "ticks": ""
                          }
                        },
                        "type": "scatterternary"
                      }
                    ],
                    "surface": [
                      {
                        "colorbar": {
                          "outlinewidth": 0,
                          "ticks": ""
                        },
                        "colorscale": [
                          [
                            0,
                            "#0d0887"
                          ],
                          [
                            0.1111111111111111,
                            "#46039f"
                          ],
                          [
                            0.2222222222222222,
                            "#7201a8"
                          ],
                          [
                            0.3333333333333333,
                            "#9c179e"
                          ],
                          [
                            0.4444444444444444,
                            "#bd3786"
                          ],
                          [
                            0.5555555555555556,
                            "#d8576b"
                          ],
                          [
                            0.6666666666666666,
                            "#ed7953"
                          ],
                          [
                            0.7777777777777778,
                            "#fb9f3a"
                          ],
                          [
                            0.8888888888888888,
                            "#fdca26"
                          ],
                          [
                            1,
                            "#f0f921"
                          ]
                        ],
                        "type": "surface"
                      }
                    ],
                    "table": [
                      {
                        "cells": {
                          "fill": {
                            "color": "#EBF0F8"
                          },
                          "line": {
                            "color": "white"
                          }
                        },
                        "header": {
                          "fill": {
                            "color": "#C8D4E3"
                          },
                          "line": {
                            "color": "white"
                          }
                        },
                        "type": "table"
                      }
                    ]
                  },
                  "layout": {
                    "annotationdefaults": {
                      "arrowcolor": "#2a3f5f",
                      "arrowhead": 0,
                      "arrowwidth": 1
                    },
                    "autotypenumbers": "strict",
                    "coloraxis": {
                      "colorbar": {
                        "outlinewidth": 0,
                        "ticks": ""
                      }
                    },
                    "colorscale": {
                      "diverging": [
                        [
                          0,
                          "#8e0152"
                        ],
                        [
                          0.1,
                          "#c51b7d"
                        ],
                        [
                          0.2,
                          "#de77ae"
                        ],
                        [
                          0.3,
                          "#f1b6da"
                        ],
                        [
                          0.4,
                          "#fde0ef"
                        ],
                        [
                          0.5,
                          "#f7f7f7"
                        ],
                        [
                          0.6,
                          "#e6f5d0"
                        ],
                        [
                          0.7,
                          "#b8e186"
                        ],
                        [
                          0.8,
                          "#7fbc41"
                        ],
                        [
                          0.9,
                          "#4d9221"
                        ],
                        [
                          1,
                          "#276419"
                        ]
                      ],
                      "sequential": [
                        [
                          0,
                          "#0d0887"
                        ],
                        [
                          0.1111111111111111,
                          "#46039f"
                        ],
                        [
                          0.2222222222222222,
                          "#7201a8"
                        ],
                        [
                          0.3333333333333333,
                          "#9c179e"
                        ],
                        [
                          0.4444444444444444,
                          "#bd3786"
                        ],
                        [
                          0.5555555555555556,
                          "#d8576b"
                        ],
                        [
                          0.6666666666666666,
                          "#ed7953"
                        ],
                        [
                          0.7777777777777778,
                          "#fb9f3a"
                        ],
                        [
                          0.8888888888888888,
                          "#fdca26"
                        ],
                        [
                          1,
                          "#f0f921"
                        ]
                      ],
                      "sequentialminus": [
                        [
                          0,
                          "#0d0887"
                        ],
                        [
                          0.1111111111111111,
                          "#46039f"
                        ],
                        [
                          0.2222222222222222,
                          "#7201a8"
                        ],
                        [
                          0.3333333333333333,
                          "#9c179e"
                        ],
                        [
                          0.4444444444444444,
                          "#bd3786"
                        ],
                        [
                          0.5555555555555556,
                          "#d8576b"
                        ],
                        [
                          0.6666666666666666,
                          "#ed7953"
                        ],
                        [
                          0.7777777777777778,
                          "#fb9f3a"
                        ],
                        [
                          0.8888888888888888,
                          "#fdca26"
                        ],
                        [
                          1,
                          "#f0f921"
                        ]
                      ]
                    },
                    "colorway": [
                      "#636efa",
                      "#EF553B",
                      "#00cc96",
                      "#ab63fa",
                      "#FFA15A",
                      "#19d3f3",
                      "#FF6692",
                      "#B6E880",
                      "#FF97FF",
                      "#FECB52"
                    ],
                    "font": {
                      "color": "#2a3f5f"
                    },
                    "geo": {
                      "bgcolor": "white",
                      "lakecolor": "white",
                      "landcolor": "#E5ECF6",
                      "showlakes": true,
                      "showland": true,
                      "subunitcolor": "white"
                    },
                    "hoverlabel": {
                      "align": "left"
                    },
                    "hovermode": "closest",
                    "mapbox": {
                      "style": "light"
                    },
                    "paper_bgcolor": "white",
                    "plot_bgcolor": "#E5ECF6",
                    "polar": {
                      "angularaxis": {
                        "gridcolor": "white",
                        "linecolor": "white",
                        "ticks": ""
                      },
                      "bgcolor": "#E5ECF6",
                      "radialaxis": {
                        "gridcolor": "white",
                        "linecolor": "white",
                        "ticks": ""
                      }
                    },
                    "scene": {
                      "xaxis": {
                        "backgroundcolor": "#E5ECF6",
                        "gridcolor": "white",
                        "gridwidth": 2,
                        "linecolor": "white",
                        "showbackground": true,
                        "ticks": "",
                        "zerolinecolor": "white"
                      },
                      "yaxis": {
                        "backgroundcolor": "#E5ECF6",
                        "gridcolor": "white",
                        "gridwidth": 2,
                        "linecolor": "white",
                        "showbackground": true,
                        "ticks": "",
                        "zerolinecolor": "white"
                      },
                      "zaxis": {
                        "backgroundcolor": "#E5ECF6",
                        "gridcolor": "white",
                        "gridwidth": 2,
                        "linecolor": "white",
                        "showbackground": true,
                        "ticks": "",
                        "zerolinecolor": "white"
                      }
                    },
                    "shapedefaults": {
                      "line": {
                        "color": "#2a3f5f"
                      }
                    },
                    "ternary": {
                      "aaxis": {
                        "gridcolor": "white",
                        "linecolor": "white",
                        "ticks": ""
                      },
                      "baxis": {
                        "gridcolor": "white",
                        "linecolor": "white",
                        "ticks": ""
                      },
                      "bgcolor": "#E5ECF6",
                      "caxis": {
                        "gridcolor": "white",
                        "linecolor": "white",
                        "ticks": ""
                      }
                    },
                    "title": {
                      "x": 0.05
                    },
                    "xaxis": {
                      "automargin": true,
                      "gridcolor": "white",
                      "linecolor": "white",
                      "ticks": "",
                      "title": {
                        "standoff": 15
                      },
                      "zerolinecolor": "white",
                      "zerolinewidth": 2
                    },
                    "yaxis": {
                      "automargin": true,
                      "gridcolor": "white",
                      "linecolor": "white",
                      "ticks": "",
                      "title": {
                        "standoff": 15
                      },
                      "zerolinecolor": "white",
                      "zerolinewidth": 2
                    }
                  }
                },
                "title": {
                  "text": "Highest activating images for layer 0"
                },
                "xaxis": {
                  "anchor": "y",
                  "domain": [
                    0,
                    0.08200000000000002
                  ]
                },
                "xaxis10": {
                  "anchor": "y10",
                  "domain": [
                    0.9180000000000001,
                    1
                  ],
                  "matches": "x"
                },
                "xaxis2": {
                  "anchor": "y2",
                  "domain": [
                    0.10200000000000002,
                    0.18400000000000005
                  ],
                  "matches": "x"
                },
                "xaxis3": {
                  "anchor": "y3",
                  "domain": [
                    0.20400000000000004,
                    0.28600000000000003
                  ],
                  "matches": "x"
                },
                "xaxis4": {
                  "anchor": "y4",
                  "domain": [
                    0.30600000000000005,
                    0.38800000000000007
                  ],
                  "matches": "x"
                },
                "xaxis5": {
                  "anchor": "y5",
                  "domain": [
                    0.4080000000000001,
                    0.4900000000000001
                  ],
                  "matches": "x"
                },
                "xaxis6": {
                  "anchor": "y6",
                  "domain": [
                    0.5100000000000001,
                    0.5920000000000001
                  ],
                  "matches": "x"
                },
                "xaxis7": {
                  "anchor": "y7",
                  "domain": [
                    0.6120000000000001,
                    0.6940000000000002
                  ],
                  "matches": "x"
                },
                "xaxis8": {
                  "anchor": "y8",
                  "domain": [
                    0.7140000000000001,
                    0.796
                  ],
                  "matches": "x"
                },
                "xaxis9": {
                  "anchor": "y9",
                  "domain": [
                    0.8160000000000002,
                    0.8980000000000001
                  ],
                  "matches": "x"
                },
                "yaxis": {
                  "anchor": "x",
                  "domain": [
                    0,
                    1
                  ]
                },
                "yaxis10": {
                  "anchor": "x10",
                  "domain": [
                    0,
                    1
                  ],
                  "matches": "y",
                  "showticklabels": false
                },
                "yaxis2": {
                  "anchor": "x2",
                  "domain": [
                    0,
                    1
                  ],
                  "matches": "y",
                  "showticklabels": false
                },
                "yaxis3": {
                  "anchor": "x3",
                  "domain": [
                    0,
                    1
                  ],
                  "matches": "y",
                  "showticklabels": false
                },
                "yaxis4": {
                  "anchor": "x4",
                  "domain": [
                    0,
                    1
                  ],
                  "matches": "y",
                  "showticklabels": false
                },
                "yaxis5": {
                  "anchor": "x5",
                  "domain": [
                    0,
                    1
                  ],
                  "matches": "y",
                  "showticklabels": false
                },
                "yaxis6": {
                  "anchor": "x6",
                  "domain": [
                    0,
                    1
                  ],
                  "matches": "y",
                  "showticklabels": false
                },
                "yaxis7": {
                  "anchor": "x7",
                  "domain": [
                    0,
                    1
                  ],
                  "matches": "y",
                  "showticklabels": false
                },
                "yaxis8": {
                  "anchor": "x8",
                  "domain": [
                    0,
                    1
                  ],
                  "matches": "y",
                  "showticklabels": false
                },
                "yaxis9": {
                  "anchor": "x9",
                  "domain": [
                    0,
                    1
                  ],
                  "matches": "y",
                  "showticklabels": false
                }
              }
            }
          },
          "metadata": {},
          "output_type": "display_data"
        },
        {
          "data": {
            "application/vnd.plotly.v1+json": {
              "config": {
                "plotlyServerURL": "https://plot.ly"
              },
              "data": [
                {
                  "hovertemplate": "x: %{x}<br>y: %{y}<extra></extra>",
                  "name": "0",
                  "source": "data:image/png;base64,iVBORw0KGgoAAAANSUhEUgAAABwAAAAcCAAAAABXZoBIAAABQklEQVR4XsXRvyvEcRzH8ScuA9+TX+UUia6UQcrGgG7CYJFYDL6DWCwMKGW53cBmZ5PhkiLJLbcoIuEo3eX8OHR+dnndGb73w/f7B/BaPu/35/FePp83/F/KO1ZWU+nU6UpvkZOYPFM2G/nbAgB8ARc8x9df6OlL921ToURuovpSOja9AKXj01XUhI6bckhQ8uc7BqTWfLcgfQzmupmoDY2Y9L5mAFC3n1RiqjiPuLckxeZq8ZpfUrzrFwFlE0lJ0ZNH6TvYbTegfs965+eYUwBKziVJ93VOADrjUiQi6bzfSfgfFJv1eDYlXZsO63jTTSlQNHonJUdsZhzqtt0qm0PSqQ2HpcVsXXmlV6tyWccz+Fp2LnaAbtdDQ2bMWhnFgR6AMNBYCB/uDGcyNH9wZP2C9LRkNwCjbXlXUtj8tcw/zw9/mZqSH+fsUQAAAABJRU5ErkJggg==",
                  "type": "image",
                  "xaxis": "x",
                  "yaxis": "y"
                },
                {
                  "hovertemplate": "x: %{x}<br>y: %{y}<extra></extra>",
                  "name": "1",
                  "source": "data:image/png;base64,iVBORw0KGgoAAAANSUhEUgAAABwAAAAcCAAAAABXZoBIAAABM0lEQVR4XsWPwSuDcRyHnzE5UeRCa1IoJrVcKJwUMYmFCweSg4tyUPwDlNNy0U5y4eLk5KDchHLYdpm4kE1KZtrW3u0zDu823ted5/T9PU+fww/+kxrP4eey225Nuk8k6W0dBn19tuYISsrnlNw4zSjVWWWJw5Ie5/slfYRCCd1b4poUbqRO2vTCcTE6v7s/zrubeKFnYoScPaag8ESTd7+e12l7HL9qy8WGF13AdvhbAwMZKaV8WjKM9O6PCQCjUUmSHvbGdmILtsiGJOmuBbb07LEkx4ohSYleoCGiI0tslpRcnWkGfv/TDzdz0eLDzq1kroB2w7Z0cvliXl1DS5VlWaK6AmDKN1kLRMoa4EAyrrPZrCQpPlsBgKMYW89c5mGccxF8LtoSHYGkpFigw+b/mi+IS5FIOddcrgAAAABJRU5ErkJggg==",
                  "type": "image",
                  "xaxis": "x2",
                  "yaxis": "y2"
                },
                {
                  "hovertemplate": "x: %{x}<br>y: %{y}<extra></extra>",
                  "name": "2",
                  "source": "data:image/png;base64,iVBORw0KGgoAAAANSUhEUgAAABwAAAAcCAAAAABXZoBIAAABDklEQVR4Xs3QvUrDUBwF8DM4OAQJtIODYIdMLhYcHSI4uGZwlJJHKD5AxRdwLwiio9DBwYIQFEHHTFaXGkQQC9YHEA6n1+Hmmua6OniG/3B+94sL/Oe009RI6vs90Ny7LkiR5M15WLduLrJEMatp98v1dlwtV9bMq96Ozo9FT5KM8gaAZCgjHVYbU7v+eSMAsEvxePEXkgOEB5/Me3FlCO7ddS+vnGaNOQKwM3i4dW/J6mRz8i7JSI+RLwBa7uyRL0AictwTSSa+hZfieA37JDkMPdyiJutANCKp07q1P2RiAGhJMoUtF0qMl2Y4OrsAVmYApmXrUsx9fL7q4fabwzv/hwBsiiT7k07gy1/nGzk506xmYtM1AAAAAElFTkSuQmCC",
                  "type": "image",
                  "xaxis": "x3",
                  "yaxis": "y3"
                },
                {
                  "hovertemplate": "x: %{x}<br>y: %{y}<extra></extra>",
                  "name": "3",
                  "source": "data:image/png;base64,iVBORw0KGgoAAAANSUhEUgAAABwAAAAcCAAAAABXZoBIAAABJ0lEQVR4Xs2SP0sDQRTEfxetQkRCsDglxsYro6CNjYJtBBuvsxDUxkI5VOzFbyCp/AD+wU4s7SwsAtFKSCmpIsYEhePg7a3F3d5dgq3gVMPM7L437MI/g5XS8z041ny3FnTl8TbVgfm3QESUSNBTIhsAjBpzc0pHZKRgpMQs1aATUPykfwY8JQGAsQfVsGFlQDQoK301rJEzRIeavAultdQ0MytQWtre8nRhtmk9n3ylCeBalERVRJRc5LPezOuAOdjTdsiF3Lesl2KZwzA+EpsfN1in/a4PwGo1Nn+DZ65NqmQwPixksJ4sFMHxHEMnm0qr9hxg3tO97PpHAFR3JrDudt9NFnAzFUXai7EcLeR3eklQ1WuNmMbfxLaXYXofS1M/SHJ/hB/Wb3sjzBjjWwAAAABJRU5ErkJggg==",
                  "type": "image",
                  "xaxis": "x4",
                  "yaxis": "y4"
                },
                {
                  "hovertemplate": "x: %{x}<br>y: %{y}<extra></extra>",
                  "name": "4",
                  "source": "data:image/png;base64,iVBORw0KGgoAAAANSUhEUgAAABwAAAAcCAAAAABXZoBIAAABNElEQVR4Xs3QPSxDURjG8edKqqnmphGaq4MIo/iYVMTSRNpFxURMJpNEWHBjkpg0wcBSIxGDjaQJERsD10CqkUh09hWLJjR53hpue8/pnQ3e6f2f33LOAf7ZGN7WOteEjtI7clc/mgMAQuMfFJIUntkBH66RFB4lk8nNN8Z9uEcu9o30AMAWX3wYyXC1ugbz1AUAUnI9FgKAwOCrDLhn3m2HDtuNyyJgREZR6K2d1iZ2W70tmUn4sevJQ5bT9Zb4pJzELSttWUsXcjCh27zI16xXOSnGlAWOyYTK0AptVW3kbqNK9PMmDDR4vVPWcBqFko7Vh7sThaMi7Ih0qjQfvrtVYYPMzzTXapn7msG0ycp9NhWEmVo4rZy36AhzqiQk83ePJJ3hOgMQnVx/dr9vO+y3P51fiX2G4mgwwtwAAAAASUVORK5CYII=",
                  "type": "image",
                  "xaxis": "x5",
                  "yaxis": "y5"
                },
                {
                  "hovertemplate": "x: %{x}<br>y: %{y}<extra></extra>",
                  "name": "5",
                  "source": "data:image/png;base64,iVBORw0KGgoAAAANSUhEUgAAABwAAAAcCAAAAABXZoBIAAAA+ElEQVR4Xs3PPUsDQRSF4RdRUcQsFgHBgBBil9ZCCCiCWgiLqSwFUfv9B5b2FhYBLSzEKp2dpSC2CkGCCPko/AkiZ2Ixu7ObK3YWnmrmPHOZGfiP2XNu5G4P3cg5d7FuUYV8XC79jlKnWsTaY0uDJEk6qT6NaXmuWmGqvpvNNooI0DjLSA/Lxmr9VIa9ZsUYdU/v55EVAm5MWoCAas1aAaL9rtf2zY8rgemZ0t1Qko53FqwBsPUpSbq2vc/i6bOkr8G2BZ9VSVIMUHx5VAZOmnkR8ChiLe9f3sISIP2IT38FgIkM78Mx2leb3XwHUIpf/dRBPD8uf55v3zinCtpAVD4AAAAASUVORK5CYII=",
                  "type": "image",
                  "xaxis": "x6",
                  "yaxis": "y6"
                },
                {
                  "hovertemplate": "x: %{x}<br>y: %{y}<extra></extra>",
                  "name": "6",
                  "source": "data:image/png;base64,iVBORw0KGgoAAAANSUhEUgAAABwAAAAcCAAAAABXZoBIAAABKklEQVR4Xr3QvUtCURzG8e9NS8tBjCKSImkpl5ZosZfBxKWCkJb6AxpqbKihliCcg5SQguZyLzCbGrQ9wSmKopYabtAbPNSgV0/3D/CZnnM+h3P4HWh9LKf4ArEpBlas3+vztHkA8O8U5cRe6DLJmyxK0lcpn0ql9qWsid2SdJWcBGBMeh01cEMqJDrqi7xUMu+N6Mjv9IykJcOwAt56a1uzpQOPiY2EMpJu3bsA1sTJvaSHETcA/Vu1MSvHbgHWayZ9bsbcxuy3VEhEo6unel92I4u7fT6AUEUfEZc1E67qphOgDYDe7cYnAD/PjBvrwbfckNM9M3eSQk3kTE97w0BPPH4hSdl2A6dfpMdyuVytTZMxX4HwvO3MaR8m/hsQvJSkXHou6JaW5g/2PI9nldsebAAAAABJRU5ErkJggg==",
                  "type": "image",
                  "xaxis": "x7",
                  "yaxis": "y7"
                },
                {
                  "hovertemplate": "x: %{x}<br>y: %{y}<extra></extra>",
                  "name": "7",
                  "source": "data:image/png;base64,iVBORw0KGgoAAAANSUhEUgAAABwAAAAcCAAAAABXZoBIAAABCUlEQVR4Xs2RL0tDURyGn6n3TsFikKEYBMuSIPgNJizYDRfbdKCYbCKCMLBo0iIYFkSWbHI/gMEgRtNkdWvDIHfTXV4Nd+fMc7QKPuX38j7nwPkD/4zccJZnYXcwdU7v1vFAIe5qSC++9GRslCR1Vk09YcLrdhsI6nOThfKTKQGoqrsGQHDUkg4dx3hxCYCVa0lJxZUZx2ep9GMjLJRKlU4qSf39wJd79qxtXzEzsFL9VtGTSZpkSNLziWupZiO8upH0shW61pA//ZC06NeGmqQ7AMY8AzRs+kVu2GQefnkagLAO8+Q+m3YBwMPoopIaeeDbl414u28evDvNpi60E0WPqkXrjvgDvgBpB426jUn1EAAAAABJRU5ErkJggg==",
                  "type": "image",
                  "xaxis": "x8",
                  "yaxis": "y8"
                },
                {
                  "hovertemplate": "x: %{x}<br>y: %{y}<extra></extra>",
                  "name": "8",
                  "source": "data:image/png;base64,iVBORw0KGgoAAAANSUhEUgAAABwAAAAcCAAAAABXZoBIAAABCUlEQVR4Xs3Qv0sCcRzG8YdwEiqCrtZoCPsFcRHRIIWrq3uTFf0B/Qc5ORw0mjRYQURBe1tjFDg1BFGY56+D4kQosncNp3D3bWoIek8fntf2kf68bdfdWTTHXptdoN3aGjRBkirPrwCcj5giZU8S9jVOssPZD43fHcRSjY915WqkTRx6o+RxLylD0UStdaE6K2m60rRNVMpxZiRJeQoGhVqlGRwD0T3ar3HYHEIt1HCDK9af0rakowdJG+Ne5AsTOf8doOP7vv/JfsTKcJOdLJ7WvwAK8TDecrE8JkmJ5BVQCptaZIJj5RLqeEthfKSZtyzL2q3SPp7b43A0hPMNer3Y0tRT/33/rm/LYXq3zMNEfAAAAABJRU5ErkJggg==",
                  "type": "image",
                  "xaxis": "x9",
                  "yaxis": "y9"
                },
                {
                  "hovertemplate": "x: %{x}<br>y: %{y}<extra></extra>",
                  "name": "9",
                  "source": "data:image/png;base64,iVBORw0KGgoAAAANSUhEUgAAABwAAAAcCAAAAABXZoBIAAAAjklEQVR4Xs2QQQ7CQAzEDOJfDC8jP0t52XDYTbsExA0J39aO1DTwp0QXRXgnQy3mEcfAGsN25jqiEU7rEHB93LteSdvuciDbdnQNwPhkdA3MlqrneUlofbwxz6Hui/ha0b7Sx7/19C8LdWbM3I3SsAFwGUIbIAR3gO02BoE6zIGWhvIIGVG6tlWdJ6b4IU/pZHwfDNJx6QAAAABJRU5ErkJggg==",
                  "type": "image",
                  "xaxis": "x10",
                  "yaxis": "y10"
                }
              ],
              "layout": {
                "annotations": [
                  {
                    "font": {},
                    "showarrow": false,
                    "text": "8",
                    "x": 0.04100000000000001,
                    "xanchor": "center",
                    "xref": "paper",
                    "y": 1,
                    "yanchor": "bottom",
                    "yref": "paper"
                  },
                  {
                    "font": {},
                    "showarrow": false,
                    "text": "8",
                    "x": 0.14300000000000004,
                    "xanchor": "center",
                    "xref": "paper",
                    "y": 1,
                    "yanchor": "bottom",
                    "yref": "paper"
                  },
                  {
                    "font": {},
                    "showarrow": false,
                    "text": "8",
                    "x": 0.24500000000000005,
                    "xanchor": "center",
                    "xref": "paper",
                    "y": 1,
                    "yanchor": "bottom",
                    "yref": "paper"
                  },
                  {
                    "font": {},
                    "showarrow": false,
                    "text": "5",
                    "x": 0.3470000000000001,
                    "xanchor": "center",
                    "xref": "paper",
                    "y": 1,
                    "yanchor": "bottom",
                    "yref": "paper"
                  },
                  {
                    "font": {},
                    "showarrow": false,
                    "text": "8",
                    "x": 0.44900000000000007,
                    "xanchor": "center",
                    "xref": "paper",
                    "y": 1,
                    "yanchor": "bottom",
                    "yref": "paper"
                  },
                  {
                    "font": {},
                    "showarrow": false,
                    "text": "3",
                    "x": 0.5510000000000002,
                    "xanchor": "center",
                    "xref": "paper",
                    "y": 1,
                    "yanchor": "bottom",
                    "yref": "paper"
                  },
                  {
                    "font": {},
                    "showarrow": false,
                    "text": "3",
                    "x": 0.6530000000000001,
                    "xanchor": "center",
                    "xref": "paper",
                    "y": 1,
                    "yanchor": "bottom",
                    "yref": "paper"
                  },
                  {
                    "font": {},
                    "showarrow": false,
                    "text": "3",
                    "x": 0.7550000000000001,
                    "xanchor": "center",
                    "xref": "paper",
                    "y": 1,
                    "yanchor": "bottom",
                    "yref": "paper"
                  },
                  {
                    "font": {},
                    "showarrow": false,
                    "text": "2",
                    "x": 0.8570000000000002,
                    "xanchor": "center",
                    "xref": "paper",
                    "y": 1,
                    "yanchor": "bottom",
                    "yref": "paper"
                  },
                  {
                    "font": {},
                    "showarrow": false,
                    "text": "3",
                    "x": 0.9590000000000002,
                    "xanchor": "center",
                    "xref": "paper",
                    "y": 1,
                    "yanchor": "bottom",
                    "yref": "paper"
                  }
                ],
                "margin": {
                  "b": 0
                },
                "template": {
                  "data": {
                    "bar": [
                      {
                        "error_x": {
                          "color": "#2a3f5f"
                        },
                        "error_y": {
                          "color": "#2a3f5f"
                        },
                        "marker": {
                          "line": {
                            "color": "#E5ECF6",
                            "width": 0.5
                          },
                          "pattern": {
                            "fillmode": "overlay",
                            "size": 10,
                            "solidity": 0.2
                          }
                        },
                        "type": "bar"
                      }
                    ],
                    "barpolar": [
                      {
                        "marker": {
                          "line": {
                            "color": "#E5ECF6",
                            "width": 0.5
                          },
                          "pattern": {
                            "fillmode": "overlay",
                            "size": 10,
                            "solidity": 0.2
                          }
                        },
                        "type": "barpolar"
                      }
                    ],
                    "carpet": [
                      {
                        "aaxis": {
                          "endlinecolor": "#2a3f5f",
                          "gridcolor": "white",
                          "linecolor": "white",
                          "minorgridcolor": "white",
                          "startlinecolor": "#2a3f5f"
                        },
                        "baxis": {
                          "endlinecolor": "#2a3f5f",
                          "gridcolor": "white",
                          "linecolor": "white",
                          "minorgridcolor": "white",
                          "startlinecolor": "#2a3f5f"
                        },
                        "type": "carpet"
                      }
                    ],
                    "choropleth": [
                      {
                        "colorbar": {
                          "outlinewidth": 0,
                          "ticks": ""
                        },
                        "type": "choropleth"
                      }
                    ],
                    "contour": [
                      {
                        "colorbar": {
                          "outlinewidth": 0,
                          "ticks": ""
                        },
                        "colorscale": [
                          [
                            0,
                            "#0d0887"
                          ],
                          [
                            0.1111111111111111,
                            "#46039f"
                          ],
                          [
                            0.2222222222222222,
                            "#7201a8"
                          ],
                          [
                            0.3333333333333333,
                            "#9c179e"
                          ],
                          [
                            0.4444444444444444,
                            "#bd3786"
                          ],
                          [
                            0.5555555555555556,
                            "#d8576b"
                          ],
                          [
                            0.6666666666666666,
                            "#ed7953"
                          ],
                          [
                            0.7777777777777778,
                            "#fb9f3a"
                          ],
                          [
                            0.8888888888888888,
                            "#fdca26"
                          ],
                          [
                            1,
                            "#f0f921"
                          ]
                        ],
                        "type": "contour"
                      }
                    ],
                    "contourcarpet": [
                      {
                        "colorbar": {
                          "outlinewidth": 0,
                          "ticks": ""
                        },
                        "type": "contourcarpet"
                      }
                    ],
                    "heatmap": [
                      {
                        "colorbar": {
                          "outlinewidth": 0,
                          "ticks": ""
                        },
                        "colorscale": [
                          [
                            0,
                            "#0d0887"
                          ],
                          [
                            0.1111111111111111,
                            "#46039f"
                          ],
                          [
                            0.2222222222222222,
                            "#7201a8"
                          ],
                          [
                            0.3333333333333333,
                            "#9c179e"
                          ],
                          [
                            0.4444444444444444,
                            "#bd3786"
                          ],
                          [
                            0.5555555555555556,
                            "#d8576b"
                          ],
                          [
                            0.6666666666666666,
                            "#ed7953"
                          ],
                          [
                            0.7777777777777778,
                            "#fb9f3a"
                          ],
                          [
                            0.8888888888888888,
                            "#fdca26"
                          ],
                          [
                            1,
                            "#f0f921"
                          ]
                        ],
                        "type": "heatmap"
                      }
                    ],
                    "heatmapgl": [
                      {
                        "colorbar": {
                          "outlinewidth": 0,
                          "ticks": ""
                        },
                        "colorscale": [
                          [
                            0,
                            "#0d0887"
                          ],
                          [
                            0.1111111111111111,
                            "#46039f"
                          ],
                          [
                            0.2222222222222222,
                            "#7201a8"
                          ],
                          [
                            0.3333333333333333,
                            "#9c179e"
                          ],
                          [
                            0.4444444444444444,
                            "#bd3786"
                          ],
                          [
                            0.5555555555555556,
                            "#d8576b"
                          ],
                          [
                            0.6666666666666666,
                            "#ed7953"
                          ],
                          [
                            0.7777777777777778,
                            "#fb9f3a"
                          ],
                          [
                            0.8888888888888888,
                            "#fdca26"
                          ],
                          [
                            1,
                            "#f0f921"
                          ]
                        ],
                        "type": "heatmapgl"
                      }
                    ],
                    "histogram": [
                      {
                        "marker": {
                          "pattern": {
                            "fillmode": "overlay",
                            "size": 10,
                            "solidity": 0.2
                          }
                        },
                        "type": "histogram"
                      }
                    ],
                    "histogram2d": [
                      {
                        "colorbar": {
                          "outlinewidth": 0,
                          "ticks": ""
                        },
                        "colorscale": [
                          [
                            0,
                            "#0d0887"
                          ],
                          [
                            0.1111111111111111,
                            "#46039f"
                          ],
                          [
                            0.2222222222222222,
                            "#7201a8"
                          ],
                          [
                            0.3333333333333333,
                            "#9c179e"
                          ],
                          [
                            0.4444444444444444,
                            "#bd3786"
                          ],
                          [
                            0.5555555555555556,
                            "#d8576b"
                          ],
                          [
                            0.6666666666666666,
                            "#ed7953"
                          ],
                          [
                            0.7777777777777778,
                            "#fb9f3a"
                          ],
                          [
                            0.8888888888888888,
                            "#fdca26"
                          ],
                          [
                            1,
                            "#f0f921"
                          ]
                        ],
                        "type": "histogram2d"
                      }
                    ],
                    "histogram2dcontour": [
                      {
                        "colorbar": {
                          "outlinewidth": 0,
                          "ticks": ""
                        },
                        "colorscale": [
                          [
                            0,
                            "#0d0887"
                          ],
                          [
                            0.1111111111111111,
                            "#46039f"
                          ],
                          [
                            0.2222222222222222,
                            "#7201a8"
                          ],
                          [
                            0.3333333333333333,
                            "#9c179e"
                          ],
                          [
                            0.4444444444444444,
                            "#bd3786"
                          ],
                          [
                            0.5555555555555556,
                            "#d8576b"
                          ],
                          [
                            0.6666666666666666,
                            "#ed7953"
                          ],
                          [
                            0.7777777777777778,
                            "#fb9f3a"
                          ],
                          [
                            0.8888888888888888,
                            "#fdca26"
                          ],
                          [
                            1,
                            "#f0f921"
                          ]
                        ],
                        "type": "histogram2dcontour"
                      }
                    ],
                    "mesh3d": [
                      {
                        "colorbar": {
                          "outlinewidth": 0,
                          "ticks": ""
                        },
                        "type": "mesh3d"
                      }
                    ],
                    "parcoords": [
                      {
                        "line": {
                          "colorbar": {
                            "outlinewidth": 0,
                            "ticks": ""
                          }
                        },
                        "type": "parcoords"
                      }
                    ],
                    "pie": [
                      {
                        "automargin": true,
                        "type": "pie"
                      }
                    ],
                    "scatter": [
                      {
                        "marker": {
                          "colorbar": {
                            "outlinewidth": 0,
                            "ticks": ""
                          }
                        },
                        "type": "scatter"
                      }
                    ],
                    "scatter3d": [
                      {
                        "line": {
                          "colorbar": {
                            "outlinewidth": 0,
                            "ticks": ""
                          }
                        },
                        "marker": {
                          "colorbar": {
                            "outlinewidth": 0,
                            "ticks": ""
                          }
                        },
                        "type": "scatter3d"
                      }
                    ],
                    "scattercarpet": [
                      {
                        "marker": {
                          "colorbar": {
                            "outlinewidth": 0,
                            "ticks": ""
                          }
                        },
                        "type": "scattercarpet"
                      }
                    ],
                    "scattergeo": [
                      {
                        "marker": {
                          "colorbar": {
                            "outlinewidth": 0,
                            "ticks": ""
                          }
                        },
                        "type": "scattergeo"
                      }
                    ],
                    "scattergl": [
                      {
                        "marker": {
                          "colorbar": {
                            "outlinewidth": 0,
                            "ticks": ""
                          }
                        },
                        "type": "scattergl"
                      }
                    ],
                    "scattermapbox": [
                      {
                        "marker": {
                          "colorbar": {
                            "outlinewidth": 0,
                            "ticks": ""
                          }
                        },
                        "type": "scattermapbox"
                      }
                    ],
                    "scatterpolar": [
                      {
                        "marker": {
                          "colorbar": {
                            "outlinewidth": 0,
                            "ticks": ""
                          }
                        },
                        "type": "scatterpolar"
                      }
                    ],
                    "scatterpolargl": [
                      {
                        "marker": {
                          "colorbar": {
                            "outlinewidth": 0,
                            "ticks": ""
                          }
                        },
                        "type": "scatterpolargl"
                      }
                    ],
                    "scatterternary": [
                      {
                        "marker": {
                          "colorbar": {
                            "outlinewidth": 0,
                            "ticks": ""
                          }
                        },
                        "type": "scatterternary"
                      }
                    ],
                    "surface": [
                      {
                        "colorbar": {
                          "outlinewidth": 0,
                          "ticks": ""
                        },
                        "colorscale": [
                          [
                            0,
                            "#0d0887"
                          ],
                          [
                            0.1111111111111111,
                            "#46039f"
                          ],
                          [
                            0.2222222222222222,
                            "#7201a8"
                          ],
                          [
                            0.3333333333333333,
                            "#9c179e"
                          ],
                          [
                            0.4444444444444444,
                            "#bd3786"
                          ],
                          [
                            0.5555555555555556,
                            "#d8576b"
                          ],
                          [
                            0.6666666666666666,
                            "#ed7953"
                          ],
                          [
                            0.7777777777777778,
                            "#fb9f3a"
                          ],
                          [
                            0.8888888888888888,
                            "#fdca26"
                          ],
                          [
                            1,
                            "#f0f921"
                          ]
                        ],
                        "type": "surface"
                      }
                    ],
                    "table": [
                      {
                        "cells": {
                          "fill": {
                            "color": "#EBF0F8"
                          },
                          "line": {
                            "color": "white"
                          }
                        },
                        "header": {
                          "fill": {
                            "color": "#C8D4E3"
                          },
                          "line": {
                            "color": "white"
                          }
                        },
                        "type": "table"
                      }
                    ]
                  },
                  "layout": {
                    "annotationdefaults": {
                      "arrowcolor": "#2a3f5f",
                      "arrowhead": 0,
                      "arrowwidth": 1
                    },
                    "autotypenumbers": "strict",
                    "coloraxis": {
                      "colorbar": {
                        "outlinewidth": 0,
                        "ticks": ""
                      }
                    },
                    "colorscale": {
                      "diverging": [
                        [
                          0,
                          "#8e0152"
                        ],
                        [
                          0.1,
                          "#c51b7d"
                        ],
                        [
                          0.2,
                          "#de77ae"
                        ],
                        [
                          0.3,
                          "#f1b6da"
                        ],
                        [
                          0.4,
                          "#fde0ef"
                        ],
                        [
                          0.5,
                          "#f7f7f7"
                        ],
                        [
                          0.6,
                          "#e6f5d0"
                        ],
                        [
                          0.7,
                          "#b8e186"
                        ],
                        [
                          0.8,
                          "#7fbc41"
                        ],
                        [
                          0.9,
                          "#4d9221"
                        ],
                        [
                          1,
                          "#276419"
                        ]
                      ],
                      "sequential": [
                        [
                          0,
                          "#0d0887"
                        ],
                        [
                          0.1111111111111111,
                          "#46039f"
                        ],
                        [
                          0.2222222222222222,
                          "#7201a8"
                        ],
                        [
                          0.3333333333333333,
                          "#9c179e"
                        ],
                        [
                          0.4444444444444444,
                          "#bd3786"
                        ],
                        [
                          0.5555555555555556,
                          "#d8576b"
                        ],
                        [
                          0.6666666666666666,
                          "#ed7953"
                        ],
                        [
                          0.7777777777777778,
                          "#fb9f3a"
                        ],
                        [
                          0.8888888888888888,
                          "#fdca26"
                        ],
                        [
                          1,
                          "#f0f921"
                        ]
                      ],
                      "sequentialminus": [
                        [
                          0,
                          "#0d0887"
                        ],
                        [
                          0.1111111111111111,
                          "#46039f"
                        ],
                        [
                          0.2222222222222222,
                          "#7201a8"
                        ],
                        [
                          0.3333333333333333,
                          "#9c179e"
                        ],
                        [
                          0.4444444444444444,
                          "#bd3786"
                        ],
                        [
                          0.5555555555555556,
                          "#d8576b"
                        ],
                        [
                          0.6666666666666666,
                          "#ed7953"
                        ],
                        [
                          0.7777777777777778,
                          "#fb9f3a"
                        ],
                        [
                          0.8888888888888888,
                          "#fdca26"
                        ],
                        [
                          1,
                          "#f0f921"
                        ]
                      ]
                    },
                    "colorway": [
                      "#636efa",
                      "#EF553B",
                      "#00cc96",
                      "#ab63fa",
                      "#FFA15A",
                      "#19d3f3",
                      "#FF6692",
                      "#B6E880",
                      "#FF97FF",
                      "#FECB52"
                    ],
                    "font": {
                      "color": "#2a3f5f"
                    },
                    "geo": {
                      "bgcolor": "white",
                      "lakecolor": "white",
                      "landcolor": "#E5ECF6",
                      "showlakes": true,
                      "showland": true,
                      "subunitcolor": "white"
                    },
                    "hoverlabel": {
                      "align": "left"
                    },
                    "hovermode": "closest",
                    "mapbox": {
                      "style": "light"
                    },
                    "paper_bgcolor": "white",
                    "plot_bgcolor": "#E5ECF6",
                    "polar": {
                      "angularaxis": {
                        "gridcolor": "white",
                        "linecolor": "white",
                        "ticks": ""
                      },
                      "bgcolor": "#E5ECF6",
                      "radialaxis": {
                        "gridcolor": "white",
                        "linecolor": "white",
                        "ticks": ""
                      }
                    },
                    "scene": {
                      "xaxis": {
                        "backgroundcolor": "#E5ECF6",
                        "gridcolor": "white",
                        "gridwidth": 2,
                        "linecolor": "white",
                        "showbackground": true,
                        "ticks": "",
                        "zerolinecolor": "white"
                      },
                      "yaxis": {
                        "backgroundcolor": "#E5ECF6",
                        "gridcolor": "white",
                        "gridwidth": 2,
                        "linecolor": "white",
                        "showbackground": true,
                        "ticks": "",
                        "zerolinecolor": "white"
                      },
                      "zaxis": {
                        "backgroundcolor": "#E5ECF6",
                        "gridcolor": "white",
                        "gridwidth": 2,
                        "linecolor": "white",
                        "showbackground": true,
                        "ticks": "",
                        "zerolinecolor": "white"
                      }
                    },
                    "shapedefaults": {
                      "line": {
                        "color": "#2a3f5f"
                      }
                    },
                    "ternary": {
                      "aaxis": {
                        "gridcolor": "white",
                        "linecolor": "white",
                        "ticks": ""
                      },
                      "baxis": {
                        "gridcolor": "white",
                        "linecolor": "white",
                        "ticks": ""
                      },
                      "bgcolor": "#E5ECF6",
                      "caxis": {
                        "gridcolor": "white",
                        "linecolor": "white",
                        "ticks": ""
                      }
                    },
                    "title": {
                      "x": 0.05
                    },
                    "xaxis": {
                      "automargin": true,
                      "gridcolor": "white",
                      "linecolor": "white",
                      "ticks": "",
                      "title": {
                        "standoff": 15
                      },
                      "zerolinecolor": "white",
                      "zerolinewidth": 2
                    },
                    "yaxis": {
                      "automargin": true,
                      "gridcolor": "white",
                      "linecolor": "white",
                      "ticks": "",
                      "title": {
                        "standoff": 15
                      },
                      "zerolinecolor": "white",
                      "zerolinewidth": 2
                    }
                  }
                },
                "title": {
                  "text": "Highest activating images for layer 1"
                },
                "xaxis": {
                  "anchor": "y",
                  "domain": [
                    0,
                    0.08200000000000002
                  ]
                },
                "xaxis10": {
                  "anchor": "y10",
                  "domain": [
                    0.9180000000000001,
                    1
                  ],
                  "matches": "x"
                },
                "xaxis2": {
                  "anchor": "y2",
                  "domain": [
                    0.10200000000000002,
                    0.18400000000000005
                  ],
                  "matches": "x"
                },
                "xaxis3": {
                  "anchor": "y3",
                  "domain": [
                    0.20400000000000004,
                    0.28600000000000003
                  ],
                  "matches": "x"
                },
                "xaxis4": {
                  "anchor": "y4",
                  "domain": [
                    0.30600000000000005,
                    0.38800000000000007
                  ],
                  "matches": "x"
                },
                "xaxis5": {
                  "anchor": "y5",
                  "domain": [
                    0.4080000000000001,
                    0.4900000000000001
                  ],
                  "matches": "x"
                },
                "xaxis6": {
                  "anchor": "y6",
                  "domain": [
                    0.5100000000000001,
                    0.5920000000000001
                  ],
                  "matches": "x"
                },
                "xaxis7": {
                  "anchor": "y7",
                  "domain": [
                    0.6120000000000001,
                    0.6940000000000002
                  ],
                  "matches": "x"
                },
                "xaxis8": {
                  "anchor": "y8",
                  "domain": [
                    0.7140000000000001,
                    0.796
                  ],
                  "matches": "x"
                },
                "xaxis9": {
                  "anchor": "y9",
                  "domain": [
                    0.8160000000000002,
                    0.8980000000000001
                  ],
                  "matches": "x"
                },
                "yaxis": {
                  "anchor": "x",
                  "domain": [
                    0,
                    1
                  ]
                },
                "yaxis10": {
                  "anchor": "x10",
                  "domain": [
                    0,
                    1
                  ],
                  "matches": "y",
                  "showticklabels": false
                },
                "yaxis2": {
                  "anchor": "x2",
                  "domain": [
                    0,
                    1
                  ],
                  "matches": "y",
                  "showticklabels": false
                },
                "yaxis3": {
                  "anchor": "x3",
                  "domain": [
                    0,
                    1
                  ],
                  "matches": "y",
                  "showticklabels": false
                },
                "yaxis4": {
                  "anchor": "x4",
                  "domain": [
                    0,
                    1
                  ],
                  "matches": "y",
                  "showticklabels": false
                },
                "yaxis5": {
                  "anchor": "x5",
                  "domain": [
                    0,
                    1
                  ],
                  "matches": "y",
                  "showticklabels": false
                },
                "yaxis6": {
                  "anchor": "x6",
                  "domain": [
                    0,
                    1
                  ],
                  "matches": "y",
                  "showticklabels": false
                },
                "yaxis7": {
                  "anchor": "x7",
                  "domain": [
                    0,
                    1
                  ],
                  "matches": "y",
                  "showticklabels": false
                },
                "yaxis8": {
                  "anchor": "x8",
                  "domain": [
                    0,
                    1
                  ],
                  "matches": "y",
                  "showticklabels": false
                },
                "yaxis9": {
                  "anchor": "x9",
                  "domain": [
                    0,
                    1
                  ],
                  "matches": "y",
                  "showticklabels": false
                }
              }
            }
          },
          "metadata": {},
          "output_type": "display_data"
        },
        {
          "data": {
            "application/vnd.plotly.v1+json": {
              "config": {
                "plotlyServerURL": "https://plot.ly"
              },
              "data": [
                {
                  "hovertemplate": "x: %{x}<br>y: %{y}<extra></extra>",
                  "name": "0",
                  "source": "data:image/png;base64,iVBORw0KGgoAAAANSUhEUgAAABwAAAAcCAAAAABXZoBIAAAAjklEQVR4Xs2QQQ7CQAzEDOJfDC8jP0t52XDYTbsExA0J39aO1DTwp0QXRXgnQy3mEcfAGsN25jqiEU7rEHB93LteSdvuciDbdnQNwPhkdA3MlqrneUlofbwxz6Hui/ha0b7Sx7/19C8LdWbM3I3SsAFwGUIbIAR3gO02BoE6zIGWhvIIGVG6tlWdJ6b4IU/pZHwfDNJx6QAAAABJRU5ErkJggg==",
                  "type": "image",
                  "xaxis": "x",
                  "yaxis": "y"
                },
                {
                  "hovertemplate": "x: %{x}<br>y: %{y}<extra></extra>",
                  "name": "1",
                  "source": "data:image/png;base64,iVBORw0KGgoAAAANSUhEUgAAABwAAAAcCAAAAABXZoBIAAABF0lEQVR4Xs2RsSuEYRzHP6frjeFMLErUOyiZLU6WQzEwmSWTLLIgww3yD1hMSjJIJCwGddt1NnGXWLiBJCU6p8v3eQ3v+9zrnn+Az/I8v+/nN/ye3wP/jATASnB94gqIpAm+v6IyW2NkZ/93h5HFSFLe5kmAuWFoH4ibLQl7yZwBlO8ovh6WYh8yLamW9d0YgNSl9DLuhE3Rme6B5qntGVs3shpOu7nhtyZdR/fSlX3Kbq8rASbWc8YYY4K9RVcBeKm1U0mqzLsmpKWj/14SxNPGVB+9JyeaLWyFl8HMwZukW6ivr+2i632hxOhQkPYAPvseQgEwWZUkKZCkSjHfuKvccyQ/ystjNqz/SueRz3EBbs5t8jf8ANQ4gIuQIU1YAAAAAElFTkSuQmCC",
                  "type": "image",
                  "xaxis": "x2",
                  "yaxis": "y2"
                },
                {
                  "hovertemplate": "x: %{x}<br>y: %{y}<extra></extra>",
                  "name": "2",
                  "source": "data:image/png;base64,iVBORw0KGgoAAAANSUhEUgAAABwAAAAcCAAAAABXZoBIAAABN0lEQVR4Xr2Rv0sCYRyHP+KPToQbUrIQkeimGmoIW2yoJchADKwlkGq3JQhaIoLWxqbGQEmwNomm2qJzKS6Ufk0RF4idwRn0vbfBznvv/QP8LN/3eZ7xBfo/z/8Ne/BLaLtaNw4djCf9rG2i+nj2KsbaJJ50BqQYvs/LVybXgQLNSAAQTqzvvtON4ooDGYcT+9aJ/fYBwM9Fr4E6LOWK9qJTcyPZUK3AOwDAbFG/bBCplUxQTMCbZVnM2I6IHgCQL2uaQUSnywExdRdLHz5YdLsgenuBxRKZlUHOyNdbHOVarDHq4AalHQCUEr3EejTd+shzEd4jUh1a/SI15yC8deJoYs+w7iubKxEZAKQ1owM4n434zrziY2jWmabExz6X7vgIQMmGhp+TUTmoV4+bnOfnl0TTz/0BMbtnNpiYjhkAAAAASUVORK5CYII=",
                  "type": "image",
                  "xaxis": "x3",
                  "yaxis": "y3"
                },
                {
                  "hovertemplate": "x: %{x}<br>y: %{y}<extra></extra>",
                  "name": "3",
                  "source": "data:image/png;base64,iVBORw0KGgoAAAANSUhEUgAAABwAAAAcCAAAAABXZoBIAAABE0lEQVR4XtWPuy9DYRyGX6cuqRMSA4tEhDQNCWewGkwSkZhMBhKbTZq4jJgkIv4AnQwWJjYqQnLiMunSNI0OEksjBEtd+pwanPtfwDu9z/fk932/T/rDaeuJn3jp37WLr7Y9ZMSFpPkHAHDWO+JKC59Q2NoBh6dMZ9SlnqnOJWVa1vU35Mcj8hwW3boGVKfD0iGXcKtxdXdCqTsig5uWC9Y9Z02S5G0eLPFuljMa2/RZdSfv93SvtOpUgh9lqU36IGnggz0f0m+cmiGpAwjAhtxggDoKy9Z9eNkeafml4cMaG5IaXGtMZLuk4pddbpxRKqnLlVtvUJLalx4BB4CLKVMKJiWpeTbRN1ov3ei4Enrx3+QHz1Fwzi1+fEAAAAAASUVORK5CYII=",
                  "type": "image",
                  "xaxis": "x4",
                  "yaxis": "y4"
                },
                {
                  "hovertemplate": "x: %{x}<br>y: %{y}<extra></extra>",
                  "name": "4",
                  "source": "data:image/png;base64,iVBORw0KGgoAAAANSUhEUgAAABwAAAAcCAAAAABXZoBIAAABQklEQVR4XsXRvyvEcRzH8ScuA9+TX+UUia6UQcrGgG7CYJFYDL6DWCwMKGW53cBmZ5PhkiLJLbcoIuEo3eX8OHR+dnndGb73w/f7B/BaPu/35/FePp83/F/KO1ZWU+nU6UpvkZOYPFM2G/nbAgB8ARc8x9df6OlL921ToURuovpSOja9AKXj01XUhI6bckhQ8uc7BqTWfLcgfQzmupmoDY2Y9L5mAFC3n1RiqjiPuLckxeZq8ZpfUrzrFwFlE0lJ0ZNH6TvYbTegfs965+eYUwBKziVJ93VOADrjUiQi6bzfSfgfFJv1eDYlXZsO63jTTSlQNHonJUdsZhzqtt0qm0PSqQ2HpcVsXXmlV6tyWccz+Fp2LnaAbtdDQ2bMWhnFgR6AMNBYCB/uDGcyNH9wZP2C9LRkNwCjbXlXUtj8tcw/zw9/mZqSH+fsUQAAAABJRU5ErkJggg==",
                  "type": "image",
                  "xaxis": "x5",
                  "yaxis": "y5"
                },
                {
                  "hovertemplate": "x: %{x}<br>y: %{y}<extra></extra>",
                  "name": "5",
                  "source": "data:image/png;base64,iVBORw0KGgoAAAANSUhEUgAAABwAAAAcCAAAAABXZoBIAAABI0lEQVR4XsXRMUvDQBjG8b/i1DroIChYdVAo1EFBEBSEdHFQEUvRxS8gjm66OnQUjIsFl3QUOjq4SEGkpQgFhzi4CK4OxUBteKxDm+SSD6DvdM/7u3u54+BfK1+6/Ok5C8PJPpA6b0uS5GwlidGKpE5LkuykcSDJXU9b5ba61am4bX5Kbgag2JTqcb2W3Jn+Mu9LVdO2v6XjIOz48u3xCEtSYyJMu560Gr2oJFlhgGJbOgT6G6YNAW5PIBdiL468wTwBfsCiifUXCiECR9GFwOsYId2QVow80tQDwUmvBpX9CDeWeYpSxpVcJ5g8V5bWgKFBzj6OwevzDQCnFnd7/kAAsldf/f+UJL0vGQQwa7cGdH82CURjAUgVckD3wuua3b+tX4Y6fukE7MN6AAAAAElFTkSuQmCC",
                  "type": "image",
                  "xaxis": "x6",
                  "yaxis": "y6"
                },
                {
                  "hovertemplate": "x: %{x}<br>y: %{y}<extra></extra>",
                  "name": "6",
                  "source": "data:image/png;base64,iVBORw0KGgoAAAANSUhEUgAAABwAAAAcCAAAAABXZoBIAAABEklEQVR4XmNgGGBQMf/Q/3//HvGgizMwiBYf+/P377+/D/8qwIRY4JIH1X/O+XzhLsOtE+xwMRgw/n5FEsKyZEOVYWBg6v8bgS4GB1x//+qjizEwQWl5FFFUwHnu73SYOgSAulZDn+FXJYOI9EWGTxsYnv5DUSJ5+S8U/Pv79++BTBRJw2///v37d37P4X////379+/fbjlkWfXaGUoynAwsMjIyMjItL/6+CUKWRQGSM/+cZUYXRIAvfx0ZEP5EBQasDAwMCEmO852IOBCfxPLvD5zHwMD19+8EKFMq/f3fv/VIcgyMqp/+XI23tLR0n/X979+/VWjWZX6HBcKjyY4YTrGdf+3v339/rzVDXDNAAACnFnG0iyzB4gAAAABJRU5ErkJggg==",
                  "type": "image",
                  "xaxis": "x7",
                  "yaxis": "y7"
                },
                {
                  "hovertemplate": "x: %{x}<br>y: %{y}<extra></extra>",
                  "name": "7",
                  "source": "data:image/png;base64,iVBORw0KGgoAAAANSUhEUgAAABwAAAAcCAAAAABXZoBIAAABKklEQVR4Xr3QvUtCURzG8e9NS8tBjCKSImkpl5ZosZfBxKWCkJb6AxpqbKihliCcg5SQguZyLzCbGrQ9wSmKopYabtAbPNSgV0/3D/CZnnM+h3P4HWh9LKf4ArEpBlas3+vztHkA8O8U5cRe6DLJmyxK0lcpn0ql9qWsid2SdJWcBGBMeh01cEMqJDrqi7xUMu+N6Mjv9IykJcOwAt56a1uzpQOPiY2EMpJu3bsA1sTJvaSHETcA/Vu1MSvHbgHWayZ9bsbcxuy3VEhEo6unel92I4u7fT6AUEUfEZc1E67qphOgDYDe7cYnAD/PjBvrwbfckNM9M3eSQk3kTE97w0BPPH4hSdl2A6dfpMdyuVytTZMxX4HwvO3MaR8m/hsQvJSkXHou6JaW5g/2PI9nldsebAAAAABJRU5ErkJggg==",
                  "type": "image",
                  "xaxis": "x8",
                  "yaxis": "y8"
                },
                {
                  "hovertemplate": "x: %{x}<br>y: %{y}<extra></extra>",
                  "name": "8",
                  "source": "data:image/png;base64,iVBORw0KGgoAAAANSUhEUgAAABwAAAAcCAAAAABXZoBIAAAAjUlEQVR4Xs2QQRICMQgEey3/Jb5sycuSn+GBDSGoR6vsS8IMRYbAHyOmVZqomn1z1Zyu+t4zzdkjwBGuxc054B5FOxlN4CEAjDAAzMxl8YMydhXOrdQbJVADDSURS1QD0qIfXQC6pf+pgZ6jCBmJdRfdFdHtTV+lCzQ4k7SYQXOaoF9O361rhsIYWf8lL6n9ZnzTYhfvAAAAAElFTkSuQmCC",
                  "type": "image",
                  "xaxis": "x9",
                  "yaxis": "y9"
                },
                {
                  "hovertemplate": "x: %{x}<br>y: %{y}<extra></extra>",
                  "name": "9",
                  "source": "data:image/png;base64,iVBORw0KGgoAAAANSUhEUgAAABwAAAAcCAAAAABXZoBIAAABEUlEQVR4Xs2QP0uCURjFf5VGYBiBLhXxRn8IoqDJsaiGiJagPWhsCYdoCaHRoG8QBLb0AWxoCF43KcKWliKzJQKF2jR7Ozbovdy3T+CZzjm/e597eaCbFU+Ec4/j9/eGzq4mgdKj0wLQfx5ICiTpJ5sEnJvTl4sAtfINy/OD+a1fAwCvokrx6KToAczkdeyw4Vd9TkQg0o4D1a+0ZdFDfa/aBGxL1i9Juw6CNQc+qNYZ2FEb9gKwoGwQglGaFtK4DjFS3FrfUug7JOs6taGlDWePfZtlfUzZeCHtGD+b9qVSAsz6xn2vWbh/eV6HlbkY1Vymbs4CY7lARo3MaKe1T6UO4oy8g//2dGe6kGL/i27THyDdY62bpWGMAAAAAElFTkSuQmCC",
                  "type": "image",
                  "xaxis": "x10",
                  "yaxis": "y10"
                }
              ],
              "layout": {
                "annotations": [
                  {
                    "font": {},
                    "showarrow": false,
                    "text": "3",
                    "x": 0.04100000000000001,
                    "xanchor": "center",
                    "xref": "paper",
                    "y": 1,
                    "yanchor": "bottom",
                    "yref": "paper"
                  },
                  {
                    "font": {},
                    "showarrow": false,
                    "text": "3",
                    "x": 0.14300000000000004,
                    "xanchor": "center",
                    "xref": "paper",
                    "y": 1,
                    "yanchor": "bottom",
                    "yref": "paper"
                  },
                  {
                    "font": {},
                    "showarrow": false,
                    "text": "3",
                    "x": 0.24500000000000005,
                    "xanchor": "center",
                    "xref": "paper",
                    "y": 1,
                    "yanchor": "bottom",
                    "yref": "paper"
                  },
                  {
                    "font": {},
                    "showarrow": false,
                    "text": "0",
                    "x": 0.3470000000000001,
                    "xanchor": "center",
                    "xref": "paper",
                    "y": 1,
                    "yanchor": "bottom",
                    "yref": "paper"
                  },
                  {
                    "font": {},
                    "showarrow": false,
                    "text": "8",
                    "x": 0.44900000000000007,
                    "xanchor": "center",
                    "xref": "paper",
                    "y": 1,
                    "yanchor": "bottom",
                    "yref": "paper"
                  },
                  {
                    "font": {},
                    "showarrow": false,
                    "text": "0",
                    "x": 0.5510000000000002,
                    "xanchor": "center",
                    "xref": "paper",
                    "y": 1,
                    "yanchor": "bottom",
                    "yref": "paper"
                  },
                  {
                    "font": {},
                    "showarrow": false,
                    "text": "5",
                    "x": 0.6530000000000001,
                    "xanchor": "center",
                    "xref": "paper",
                    "y": 1,
                    "yanchor": "bottom",
                    "yref": "paper"
                  },
                  {
                    "font": {},
                    "showarrow": false,
                    "text": "3",
                    "x": 0.7550000000000001,
                    "xanchor": "center",
                    "xref": "paper",
                    "y": 1,
                    "yanchor": "bottom",
                    "yref": "paper"
                  },
                  {
                    "font": {},
                    "showarrow": false,
                    "text": "5",
                    "x": 0.8570000000000002,
                    "xanchor": "center",
                    "xref": "paper",
                    "y": 1,
                    "yanchor": "bottom",
                    "yref": "paper"
                  },
                  {
                    "font": {},
                    "showarrow": false,
                    "text": "0",
                    "x": 0.9590000000000002,
                    "xanchor": "center",
                    "xref": "paper",
                    "y": 1,
                    "yanchor": "bottom",
                    "yref": "paper"
                  }
                ],
                "margin": {
                  "b": 0
                },
                "template": {
                  "data": {
                    "bar": [
                      {
                        "error_x": {
                          "color": "#2a3f5f"
                        },
                        "error_y": {
                          "color": "#2a3f5f"
                        },
                        "marker": {
                          "line": {
                            "color": "#E5ECF6",
                            "width": 0.5
                          },
                          "pattern": {
                            "fillmode": "overlay",
                            "size": 10,
                            "solidity": 0.2
                          }
                        },
                        "type": "bar"
                      }
                    ],
                    "barpolar": [
                      {
                        "marker": {
                          "line": {
                            "color": "#E5ECF6",
                            "width": 0.5
                          },
                          "pattern": {
                            "fillmode": "overlay",
                            "size": 10,
                            "solidity": 0.2
                          }
                        },
                        "type": "barpolar"
                      }
                    ],
                    "carpet": [
                      {
                        "aaxis": {
                          "endlinecolor": "#2a3f5f",
                          "gridcolor": "white",
                          "linecolor": "white",
                          "minorgridcolor": "white",
                          "startlinecolor": "#2a3f5f"
                        },
                        "baxis": {
                          "endlinecolor": "#2a3f5f",
                          "gridcolor": "white",
                          "linecolor": "white",
                          "minorgridcolor": "white",
                          "startlinecolor": "#2a3f5f"
                        },
                        "type": "carpet"
                      }
                    ],
                    "choropleth": [
                      {
                        "colorbar": {
                          "outlinewidth": 0,
                          "ticks": ""
                        },
                        "type": "choropleth"
                      }
                    ],
                    "contour": [
                      {
                        "colorbar": {
                          "outlinewidth": 0,
                          "ticks": ""
                        },
                        "colorscale": [
                          [
                            0,
                            "#0d0887"
                          ],
                          [
                            0.1111111111111111,
                            "#46039f"
                          ],
                          [
                            0.2222222222222222,
                            "#7201a8"
                          ],
                          [
                            0.3333333333333333,
                            "#9c179e"
                          ],
                          [
                            0.4444444444444444,
                            "#bd3786"
                          ],
                          [
                            0.5555555555555556,
                            "#d8576b"
                          ],
                          [
                            0.6666666666666666,
                            "#ed7953"
                          ],
                          [
                            0.7777777777777778,
                            "#fb9f3a"
                          ],
                          [
                            0.8888888888888888,
                            "#fdca26"
                          ],
                          [
                            1,
                            "#f0f921"
                          ]
                        ],
                        "type": "contour"
                      }
                    ],
                    "contourcarpet": [
                      {
                        "colorbar": {
                          "outlinewidth": 0,
                          "ticks": ""
                        },
                        "type": "contourcarpet"
                      }
                    ],
                    "heatmap": [
                      {
                        "colorbar": {
                          "outlinewidth": 0,
                          "ticks": ""
                        },
                        "colorscale": [
                          [
                            0,
                            "#0d0887"
                          ],
                          [
                            0.1111111111111111,
                            "#46039f"
                          ],
                          [
                            0.2222222222222222,
                            "#7201a8"
                          ],
                          [
                            0.3333333333333333,
                            "#9c179e"
                          ],
                          [
                            0.4444444444444444,
                            "#bd3786"
                          ],
                          [
                            0.5555555555555556,
                            "#d8576b"
                          ],
                          [
                            0.6666666666666666,
                            "#ed7953"
                          ],
                          [
                            0.7777777777777778,
                            "#fb9f3a"
                          ],
                          [
                            0.8888888888888888,
                            "#fdca26"
                          ],
                          [
                            1,
                            "#f0f921"
                          ]
                        ],
                        "type": "heatmap"
                      }
                    ],
                    "heatmapgl": [
                      {
                        "colorbar": {
                          "outlinewidth": 0,
                          "ticks": ""
                        },
                        "colorscale": [
                          [
                            0,
                            "#0d0887"
                          ],
                          [
                            0.1111111111111111,
                            "#46039f"
                          ],
                          [
                            0.2222222222222222,
                            "#7201a8"
                          ],
                          [
                            0.3333333333333333,
                            "#9c179e"
                          ],
                          [
                            0.4444444444444444,
                            "#bd3786"
                          ],
                          [
                            0.5555555555555556,
                            "#d8576b"
                          ],
                          [
                            0.6666666666666666,
                            "#ed7953"
                          ],
                          [
                            0.7777777777777778,
                            "#fb9f3a"
                          ],
                          [
                            0.8888888888888888,
                            "#fdca26"
                          ],
                          [
                            1,
                            "#f0f921"
                          ]
                        ],
                        "type": "heatmapgl"
                      }
                    ],
                    "histogram": [
                      {
                        "marker": {
                          "pattern": {
                            "fillmode": "overlay",
                            "size": 10,
                            "solidity": 0.2
                          }
                        },
                        "type": "histogram"
                      }
                    ],
                    "histogram2d": [
                      {
                        "colorbar": {
                          "outlinewidth": 0,
                          "ticks": ""
                        },
                        "colorscale": [
                          [
                            0,
                            "#0d0887"
                          ],
                          [
                            0.1111111111111111,
                            "#46039f"
                          ],
                          [
                            0.2222222222222222,
                            "#7201a8"
                          ],
                          [
                            0.3333333333333333,
                            "#9c179e"
                          ],
                          [
                            0.4444444444444444,
                            "#bd3786"
                          ],
                          [
                            0.5555555555555556,
                            "#d8576b"
                          ],
                          [
                            0.6666666666666666,
                            "#ed7953"
                          ],
                          [
                            0.7777777777777778,
                            "#fb9f3a"
                          ],
                          [
                            0.8888888888888888,
                            "#fdca26"
                          ],
                          [
                            1,
                            "#f0f921"
                          ]
                        ],
                        "type": "histogram2d"
                      }
                    ],
                    "histogram2dcontour": [
                      {
                        "colorbar": {
                          "outlinewidth": 0,
                          "ticks": ""
                        },
                        "colorscale": [
                          [
                            0,
                            "#0d0887"
                          ],
                          [
                            0.1111111111111111,
                            "#46039f"
                          ],
                          [
                            0.2222222222222222,
                            "#7201a8"
                          ],
                          [
                            0.3333333333333333,
                            "#9c179e"
                          ],
                          [
                            0.4444444444444444,
                            "#bd3786"
                          ],
                          [
                            0.5555555555555556,
                            "#d8576b"
                          ],
                          [
                            0.6666666666666666,
                            "#ed7953"
                          ],
                          [
                            0.7777777777777778,
                            "#fb9f3a"
                          ],
                          [
                            0.8888888888888888,
                            "#fdca26"
                          ],
                          [
                            1,
                            "#f0f921"
                          ]
                        ],
                        "type": "histogram2dcontour"
                      }
                    ],
                    "mesh3d": [
                      {
                        "colorbar": {
                          "outlinewidth": 0,
                          "ticks": ""
                        },
                        "type": "mesh3d"
                      }
                    ],
                    "parcoords": [
                      {
                        "line": {
                          "colorbar": {
                            "outlinewidth": 0,
                            "ticks": ""
                          }
                        },
                        "type": "parcoords"
                      }
                    ],
                    "pie": [
                      {
                        "automargin": true,
                        "type": "pie"
                      }
                    ],
                    "scatter": [
                      {
                        "marker": {
                          "colorbar": {
                            "outlinewidth": 0,
                            "ticks": ""
                          }
                        },
                        "type": "scatter"
                      }
                    ],
                    "scatter3d": [
                      {
                        "line": {
                          "colorbar": {
                            "outlinewidth": 0,
                            "ticks": ""
                          }
                        },
                        "marker": {
                          "colorbar": {
                            "outlinewidth": 0,
                            "ticks": ""
                          }
                        },
                        "type": "scatter3d"
                      }
                    ],
                    "scattercarpet": [
                      {
                        "marker": {
                          "colorbar": {
                            "outlinewidth": 0,
                            "ticks": ""
                          }
                        },
                        "type": "scattercarpet"
                      }
                    ],
                    "scattergeo": [
                      {
                        "marker": {
                          "colorbar": {
                            "outlinewidth": 0,
                            "ticks": ""
                          }
                        },
                        "type": "scattergeo"
                      }
                    ],
                    "scattergl": [
                      {
                        "marker": {
                          "colorbar": {
                            "outlinewidth": 0,
                            "ticks": ""
                          }
                        },
                        "type": "scattergl"
                      }
                    ],
                    "scattermapbox": [
                      {
                        "marker": {
                          "colorbar": {
                            "outlinewidth": 0,
                            "ticks": ""
                          }
                        },
                        "type": "scattermapbox"
                      }
                    ],
                    "scatterpolar": [
                      {
                        "marker": {
                          "colorbar": {
                            "outlinewidth": 0,
                            "ticks": ""
                          }
                        },
                        "type": "scatterpolar"
                      }
                    ],
                    "scatterpolargl": [
                      {
                        "marker": {
                          "colorbar": {
                            "outlinewidth": 0,
                            "ticks": ""
                          }
                        },
                        "type": "scatterpolargl"
                      }
                    ],
                    "scatterternary": [
                      {
                        "marker": {
                          "colorbar": {
                            "outlinewidth": 0,
                            "ticks": ""
                          }
                        },
                        "type": "scatterternary"
                      }
                    ],
                    "surface": [
                      {
                        "colorbar": {
                          "outlinewidth": 0,
                          "ticks": ""
                        },
                        "colorscale": [
                          [
                            0,
                            "#0d0887"
                          ],
                          [
                            0.1111111111111111,
                            "#46039f"
                          ],
                          [
                            0.2222222222222222,
                            "#7201a8"
                          ],
                          [
                            0.3333333333333333,
                            "#9c179e"
                          ],
                          [
                            0.4444444444444444,
                            "#bd3786"
                          ],
                          [
                            0.5555555555555556,
                            "#d8576b"
                          ],
                          [
                            0.6666666666666666,
                            "#ed7953"
                          ],
                          [
                            0.7777777777777778,
                            "#fb9f3a"
                          ],
                          [
                            0.8888888888888888,
                            "#fdca26"
                          ],
                          [
                            1,
                            "#f0f921"
                          ]
                        ],
                        "type": "surface"
                      }
                    ],
                    "table": [
                      {
                        "cells": {
                          "fill": {
                            "color": "#EBF0F8"
                          },
                          "line": {
                            "color": "white"
                          }
                        },
                        "header": {
                          "fill": {
                            "color": "#C8D4E3"
                          },
                          "line": {
                            "color": "white"
                          }
                        },
                        "type": "table"
                      }
                    ]
                  },
                  "layout": {
                    "annotationdefaults": {
                      "arrowcolor": "#2a3f5f",
                      "arrowhead": 0,
                      "arrowwidth": 1
                    },
                    "autotypenumbers": "strict",
                    "coloraxis": {
                      "colorbar": {
                        "outlinewidth": 0,
                        "ticks": ""
                      }
                    },
                    "colorscale": {
                      "diverging": [
                        [
                          0,
                          "#8e0152"
                        ],
                        [
                          0.1,
                          "#c51b7d"
                        ],
                        [
                          0.2,
                          "#de77ae"
                        ],
                        [
                          0.3,
                          "#f1b6da"
                        ],
                        [
                          0.4,
                          "#fde0ef"
                        ],
                        [
                          0.5,
                          "#f7f7f7"
                        ],
                        [
                          0.6,
                          "#e6f5d0"
                        ],
                        [
                          0.7,
                          "#b8e186"
                        ],
                        [
                          0.8,
                          "#7fbc41"
                        ],
                        [
                          0.9,
                          "#4d9221"
                        ],
                        [
                          1,
                          "#276419"
                        ]
                      ],
                      "sequential": [
                        [
                          0,
                          "#0d0887"
                        ],
                        [
                          0.1111111111111111,
                          "#46039f"
                        ],
                        [
                          0.2222222222222222,
                          "#7201a8"
                        ],
                        [
                          0.3333333333333333,
                          "#9c179e"
                        ],
                        [
                          0.4444444444444444,
                          "#bd3786"
                        ],
                        [
                          0.5555555555555556,
                          "#d8576b"
                        ],
                        [
                          0.6666666666666666,
                          "#ed7953"
                        ],
                        [
                          0.7777777777777778,
                          "#fb9f3a"
                        ],
                        [
                          0.8888888888888888,
                          "#fdca26"
                        ],
                        [
                          1,
                          "#f0f921"
                        ]
                      ],
                      "sequentialminus": [
                        [
                          0,
                          "#0d0887"
                        ],
                        [
                          0.1111111111111111,
                          "#46039f"
                        ],
                        [
                          0.2222222222222222,
                          "#7201a8"
                        ],
                        [
                          0.3333333333333333,
                          "#9c179e"
                        ],
                        [
                          0.4444444444444444,
                          "#bd3786"
                        ],
                        [
                          0.5555555555555556,
                          "#d8576b"
                        ],
                        [
                          0.6666666666666666,
                          "#ed7953"
                        ],
                        [
                          0.7777777777777778,
                          "#fb9f3a"
                        ],
                        [
                          0.8888888888888888,
                          "#fdca26"
                        ],
                        [
                          1,
                          "#f0f921"
                        ]
                      ]
                    },
                    "colorway": [
                      "#636efa",
                      "#EF553B",
                      "#00cc96",
                      "#ab63fa",
                      "#FFA15A",
                      "#19d3f3",
                      "#FF6692",
                      "#B6E880",
                      "#FF97FF",
                      "#FECB52"
                    ],
                    "font": {
                      "color": "#2a3f5f"
                    },
                    "geo": {
                      "bgcolor": "white",
                      "lakecolor": "white",
                      "landcolor": "#E5ECF6",
                      "showlakes": true,
                      "showland": true,
                      "subunitcolor": "white"
                    },
                    "hoverlabel": {
                      "align": "left"
                    },
                    "hovermode": "closest",
                    "mapbox": {
                      "style": "light"
                    },
                    "paper_bgcolor": "white",
                    "plot_bgcolor": "#E5ECF6",
                    "polar": {
                      "angularaxis": {
                        "gridcolor": "white",
                        "linecolor": "white",
                        "ticks": ""
                      },
                      "bgcolor": "#E5ECF6",
                      "radialaxis": {
                        "gridcolor": "white",
                        "linecolor": "white",
                        "ticks": ""
                      }
                    },
                    "scene": {
                      "xaxis": {
                        "backgroundcolor": "#E5ECF6",
                        "gridcolor": "white",
                        "gridwidth": 2,
                        "linecolor": "white",
                        "showbackground": true,
                        "ticks": "",
                        "zerolinecolor": "white"
                      },
                      "yaxis": {
                        "backgroundcolor": "#E5ECF6",
                        "gridcolor": "white",
                        "gridwidth": 2,
                        "linecolor": "white",
                        "showbackground": true,
                        "ticks": "",
                        "zerolinecolor": "white"
                      },
                      "zaxis": {
                        "backgroundcolor": "#E5ECF6",
                        "gridcolor": "white",
                        "gridwidth": 2,
                        "linecolor": "white",
                        "showbackground": true,
                        "ticks": "",
                        "zerolinecolor": "white"
                      }
                    },
                    "shapedefaults": {
                      "line": {
                        "color": "#2a3f5f"
                      }
                    },
                    "ternary": {
                      "aaxis": {
                        "gridcolor": "white",
                        "linecolor": "white",
                        "ticks": ""
                      },
                      "baxis": {
                        "gridcolor": "white",
                        "linecolor": "white",
                        "ticks": ""
                      },
                      "bgcolor": "#E5ECF6",
                      "caxis": {
                        "gridcolor": "white",
                        "linecolor": "white",
                        "ticks": ""
                      }
                    },
                    "title": {
                      "x": 0.05
                    },
                    "xaxis": {
                      "automargin": true,
                      "gridcolor": "white",
                      "linecolor": "white",
                      "ticks": "",
                      "title": {
                        "standoff": 15
                      },
                      "zerolinecolor": "white",
                      "zerolinewidth": 2
                    },
                    "yaxis": {
                      "automargin": true,
                      "gridcolor": "white",
                      "linecolor": "white",
                      "ticks": "",
                      "title": {
                        "standoff": 15
                      },
                      "zerolinecolor": "white",
                      "zerolinewidth": 2
                    }
                  }
                },
                "title": {
                  "text": "Highest activating images for layer 2"
                },
                "xaxis": {
                  "anchor": "y",
                  "domain": [
                    0,
                    0.08200000000000002
                  ]
                },
                "xaxis10": {
                  "anchor": "y10",
                  "domain": [
                    0.9180000000000001,
                    1
                  ],
                  "matches": "x"
                },
                "xaxis2": {
                  "anchor": "y2",
                  "domain": [
                    0.10200000000000002,
                    0.18400000000000005
                  ],
                  "matches": "x"
                },
                "xaxis3": {
                  "anchor": "y3",
                  "domain": [
                    0.20400000000000004,
                    0.28600000000000003
                  ],
                  "matches": "x"
                },
                "xaxis4": {
                  "anchor": "y4",
                  "domain": [
                    0.30600000000000005,
                    0.38800000000000007
                  ],
                  "matches": "x"
                },
                "xaxis5": {
                  "anchor": "y5",
                  "domain": [
                    0.4080000000000001,
                    0.4900000000000001
                  ],
                  "matches": "x"
                },
                "xaxis6": {
                  "anchor": "y6",
                  "domain": [
                    0.5100000000000001,
                    0.5920000000000001
                  ],
                  "matches": "x"
                },
                "xaxis7": {
                  "anchor": "y7",
                  "domain": [
                    0.6120000000000001,
                    0.6940000000000002
                  ],
                  "matches": "x"
                },
                "xaxis8": {
                  "anchor": "y8",
                  "domain": [
                    0.7140000000000001,
                    0.796
                  ],
                  "matches": "x"
                },
                "xaxis9": {
                  "anchor": "y9",
                  "domain": [
                    0.8160000000000002,
                    0.8980000000000001
                  ],
                  "matches": "x"
                },
                "yaxis": {
                  "anchor": "x",
                  "domain": [
                    0,
                    1
                  ]
                },
                "yaxis10": {
                  "anchor": "x10",
                  "domain": [
                    0,
                    1
                  ],
                  "matches": "y",
                  "showticklabels": false
                },
                "yaxis2": {
                  "anchor": "x2",
                  "domain": [
                    0,
                    1
                  ],
                  "matches": "y",
                  "showticklabels": false
                },
                "yaxis3": {
                  "anchor": "x3",
                  "domain": [
                    0,
                    1
                  ],
                  "matches": "y",
                  "showticklabels": false
                },
                "yaxis4": {
                  "anchor": "x4",
                  "domain": [
                    0,
                    1
                  ],
                  "matches": "y",
                  "showticklabels": false
                },
                "yaxis5": {
                  "anchor": "x5",
                  "domain": [
                    0,
                    1
                  ],
                  "matches": "y",
                  "showticklabels": false
                },
                "yaxis6": {
                  "anchor": "x6",
                  "domain": [
                    0,
                    1
                  ],
                  "matches": "y",
                  "showticklabels": false
                },
                "yaxis7": {
                  "anchor": "x7",
                  "domain": [
                    0,
                    1
                  ],
                  "matches": "y",
                  "showticklabels": false
                },
                "yaxis8": {
                  "anchor": "x8",
                  "domain": [
                    0,
                    1
                  ],
                  "matches": "y",
                  "showticklabels": false
                },
                "yaxis9": {
                  "anchor": "x9",
                  "domain": [
                    0,
                    1
                  ],
                  "matches": "y",
                  "showticklabels": false
                }
              }
            }
          },
          "metadata": {},
          "output_type": "display_data"
        },
        {
          "data": {
            "application/vnd.plotly.v1+json": {
              "config": {
                "plotlyServerURL": "https://plot.ly"
              },
              "data": [
                {
                  "hovertemplate": "x: %{x}<br>y: %{y}<extra></extra>",
                  "name": "0",
                  "source": "data:image/png;base64,iVBORw0KGgoAAAANSUhEUgAAABwAAAAcCAAAAABXZoBIAAABN0lEQVR4Xr2Rv0sCYRyHP+KPToQbUrIQkeimGmoIW2yoJchADKwlkGq3JQhaIoLWxqbGQEmwNomm2qJzKS6Ufk0RF4idwRn0vbfBznvv/QP8LN/3eZ7xBfo/z/8Ne/BLaLtaNw4djCf9rG2i+nj2KsbaJJ50BqQYvs/LVybXgQLNSAAQTqzvvtON4ooDGYcT+9aJ/fYBwM9Fr4E6LOWK9qJTcyPZUK3AOwDAbFG/bBCplUxQTMCbZVnM2I6IHgCQL2uaQUSnywExdRdLHz5YdLsgenuBxRKZlUHOyNdbHOVarDHq4AalHQCUEr3EejTd+shzEd4jUh1a/SI15yC8deJoYs+w7iubKxEZAKQ1owM4n434zrziY2jWmabExz6X7vgIQMmGhp+TUTmoV4+bnOfnl0TTz/0BMbtnNpiYjhkAAAAASUVORK5CYII=",
                  "type": "image",
                  "xaxis": "x",
                  "yaxis": "y"
                },
                {
                  "hovertemplate": "x: %{x}<br>y: %{y}<extra></extra>",
                  "name": "1",
                  "source": "data:image/png;base64,iVBORw0KGgoAAAANSUhEUgAAABwAAAAcCAAAAABXZoBIAAABQklEQVR4XsXRvyvEcRzH8ScuA9+TX+UUia6UQcrGgG7CYJFYDL6DWCwMKGW53cBmZ5PhkiLJLbcoIuEo3eX8OHR+dnndGb73w/f7B/BaPu/35/FePp83/F/KO1ZWU+nU6UpvkZOYPFM2G/nbAgB8ARc8x9df6OlL921ToURuovpSOja9AKXj01XUhI6bckhQ8uc7BqTWfLcgfQzmupmoDY2Y9L5mAFC3n1RiqjiPuLckxeZq8ZpfUrzrFwFlE0lJ0ZNH6TvYbTegfs965+eYUwBKziVJ93VOADrjUiQi6bzfSfgfFJv1eDYlXZsO63jTTSlQNHonJUdsZhzqtt0qm0PSqQ2HpcVsXXmlV6tyWccz+Fp2LnaAbtdDQ2bMWhnFgR6AMNBYCB/uDGcyNH9wZP2C9LRkNwCjbXlXUtj8tcw/zw9/mZqSH+fsUQAAAABJRU5ErkJggg==",
                  "type": "image",
                  "xaxis": "x2",
                  "yaxis": "y2"
                },
                {
                  "hovertemplate": "x: %{x}<br>y: %{y}<extra></extra>",
                  "name": "2",
                  "source": "data:image/png;base64,iVBORw0KGgoAAAANSUhEUgAAABwAAAAcCAAAAABXZoBIAAABE0lEQVR4XtWPuy9DYRyGX6cuqRMSA4tEhDQNCWewGkwSkZhMBhKbTZq4jJgkIv4AnQwWJjYqQnLiMunSNI0OEksjBEtd+pwanPtfwDu9z/fk932/T/rDaeuJn3jp37WLr7Y9ZMSFpPkHAHDWO+JKC59Q2NoBh6dMZ9SlnqnOJWVa1vU35Mcj8hwW3boGVKfD0iGXcKtxdXdCqTsig5uWC9Y9Z02S5G0eLPFuljMa2/RZdSfv93SvtOpUgh9lqU36IGnggz0f0m+cmiGpAwjAhtxggDoKy9Z9eNkeafml4cMaG5IaXGtMZLuk4pddbpxRKqnLlVtvUJLalx4BB4CLKVMKJiWpeTbRN1ov3ei4Enrx3+QHz1Fwzi1+fEAAAAAASUVORK5CYII=",
                  "type": "image",
                  "xaxis": "x3",
                  "yaxis": "y3"
                },
                {
                  "hovertemplate": "x: %{x}<br>y: %{y}<extra></extra>",
                  "name": "3",
                  "source": "data:image/png;base64,iVBORw0KGgoAAAANSUhEUgAAABwAAAAcCAAAAABXZoBIAAABF0lEQVR4Xs2RsSuEYRzHP6frjeFMLErUOyiZLU6WQzEwmSWTLLIgww3yD1hMSjJIJCwGddt1NnGXWLiBJCU6p8v3eQ3v+9zrnn+Az/I8v+/nN/ye3wP/jATASnB94gqIpAm+v6IyW2NkZ/93h5HFSFLe5kmAuWFoH4ibLQl7yZwBlO8ovh6WYh8yLamW9d0YgNSl9DLuhE3Rme6B5qntGVs3shpOu7nhtyZdR/fSlX3Kbq8rASbWc8YYY4K9RVcBeKm1U0mqzLsmpKWj/14SxNPGVB+9JyeaLWyFl8HMwZukW6ivr+2i632hxOhQkPYAPvseQgEwWZUkKZCkSjHfuKvccyQ/ystjNqz/SueRz3EBbs5t8jf8ANQ4gIuQIU1YAAAAAElFTkSuQmCC",
                  "type": "image",
                  "xaxis": "x4",
                  "yaxis": "y4"
                },
                {
                  "hovertemplate": "x: %{x}<br>y: %{y}<extra></extra>",
                  "name": "4",
                  "source": "data:image/png;base64,iVBORw0KGgoAAAANSUhEUgAAABwAAAAcCAAAAABXZoBIAAAAjklEQVR4Xs2QQQ7CQAzEDOJfDC8jP0t52XDYTbsExA0J39aO1DTwp0QXRXgnQy3mEcfAGsN25jqiEU7rEHB93LteSdvuciDbdnQNwPhkdA3MlqrneUlofbwxz6Hui/ha0b7Sx7/19C8LdWbM3I3SsAFwGUIbIAR3gO02BoE6zIGWhvIIGVG6tlWdJ6b4IU/pZHwfDNJx6QAAAABJRU5ErkJggg==",
                  "type": "image",
                  "xaxis": "x5",
                  "yaxis": "y5"
                },
                {
                  "hovertemplate": "x: %{x}<br>y: %{y}<extra></extra>",
                  "name": "5",
                  "source": "data:image/png;base64,iVBORw0KGgoAAAANSUhEUgAAABwAAAAcCAAAAABXZoBIAAABKklEQVR4Xr3QvUtCURzG8e9NS8tBjCKSImkpl5ZosZfBxKWCkJb6AxpqbKihliCcg5SQguZyLzCbGrQ9wSmKopYabtAbPNSgV0/3D/CZnnM+h3P4HWh9LKf4ArEpBlas3+vztHkA8O8U5cRe6DLJmyxK0lcpn0ql9qWsid2SdJWcBGBMeh01cEMqJDrqi7xUMu+N6Mjv9IykJcOwAt56a1uzpQOPiY2EMpJu3bsA1sTJvaSHETcA/Vu1MSvHbgHWayZ9bsbcxuy3VEhEo6unel92I4u7fT6AUEUfEZc1E67qphOgDYDe7cYnAD/PjBvrwbfckNM9M3eSQk3kTE97w0BPPH4hSdl2A6dfpMdyuVytTZMxX4HwvO3MaR8m/hsQvJSkXHou6JaW5g/2PI9nldsebAAAAABJRU5ErkJggg==",
                  "type": "image",
                  "xaxis": "x6",
                  "yaxis": "y6"
                },
                {
                  "hovertemplate": "x: %{x}<br>y: %{y}<extra></extra>",
                  "name": "6",
                  "source": "data:image/png;base64,iVBORw0KGgoAAAANSUhEUgAAABwAAAAcCAAAAABXZoBIAAABEUlEQVR4Xs2QP0uCURjFf5VGYBiBLhXxRn8IoqDJsaiGiJagPWhsCYdoCaHRoG8QBLb0AWxoCF43KcKWliKzJQKF2jR7Ozbovdy3T+CZzjm/e597eaCbFU+Ec4/j9/eGzq4mgdKj0wLQfx5ICiTpJ5sEnJvTl4sAtfINy/OD+a1fAwCvokrx6KToAczkdeyw4Vd9TkQg0o4D1a+0ZdFDfa/aBGxL1i9Juw6CNQc+qNYZ2FEb9gKwoGwQglGaFtK4DjFS3FrfUug7JOs6taGlDWePfZtlfUzZeCHtGD+b9qVSAsz6xn2vWbh/eV6HlbkY1Vymbs4CY7lARo3MaKe1T6UO4oy8g//2dGe6kGL/i27THyDdY62bpWGMAAAAAElFTkSuQmCC",
                  "type": "image",
                  "xaxis": "x7",
                  "yaxis": "y7"
                },
                {
                  "hovertemplate": "x: %{x}<br>y: %{y}<extra></extra>",
                  "name": "7",
                  "source": "data:image/png;base64,iVBORw0KGgoAAAANSUhEUgAAABwAAAAcCAAAAABXZoBIAAABEUlEQVR4Xs3LTStEUQDG8eeyGjWTUhbKSxNzS8pLUSZFzMaWD2CjRM3CwgZ7CxsbrGTLhrJCMUtNNjakZIgs1HgZNWle7p/FjHOu+wnmWZ3/+Z0j1e769zOXU8HL6tbKQL6tsSkIUuTUg2yJh6vS7kAQF3k7GGrp3Pv2oHA06KeGZe+6T5K6kxPbQHbFh618RSVJTr2c0CHkuiwuMWlDsXtYMNWTP6/zoaLwZGK0MOIjydkCE/P2XWWJCtZJ0vR/kqSUOX0EfsZzhRkTF+8dVqThdHndVorHdhPx2RtWrSkJn5vjbnPYdd2NIj/HIR/G0h7Ayy0AmbmwzyQlTu6obsfeOn+HSO+YJD2fvRYN1tx+AXxTcYRMGfO2AAAAAElFTkSuQmCC",
                  "type": "image",
                  "xaxis": "x8",
                  "yaxis": "y8"
                },
                {
                  "hovertemplate": "x: %{x}<br>y: %{y}<extra></extra>",
                  "name": "8",
                  "source": "data:image/png;base64,iVBORw0KGgoAAAANSUhEUgAAABwAAAAcCAAAAABXZoBIAAAA4UlEQVR4XmNgGDaAEZkTLvx0IzIfCahc+vXvx7NTgejiDAwMDAyx//79+/fv3892LNINzyCS//79utGCKqXc+uvfkw0eurq6rnv+/fvdrook1/zo37+tyhA2h9+/f//uqyAkf/77d9gMxuHwePLvfw1cLu7vvw3scB4Dg/qaf3cZGBiYGBgYGBgsGRnafyLk2CRMGNjgvBf//223hnIV9e13/v/3N40BFkJZUxgYGLZ/ZWBgYGCwlmRg+Hu1aR1EKQMDA8PUNzBP/vv371dPCEQUFrba5qW8UOaKk6uhrJECAFeMXSPSE64iAAAAAElFTkSuQmCC",
                  "type": "image",
                  "xaxis": "x9",
                  "yaxis": "y9"
                },
                {
                  "hovertemplate": "x: %{x}<br>y: %{y}<extra></extra>",
                  "name": "9",
                  "source": "data:image/png;base64,iVBORw0KGgoAAAANSUhEUgAAABwAAAAcCAAAAABXZoBIAAABBElEQVR4Xr2RMU/DMBCFnxFTuiZrsuK1ZW3GwghZkRizkp2RvWsl2NqRwm+IxGiJCQpbhViarEWw3DkMNqa5H9Dn4c7vky2/M7B/KbFPxhMAwPOtAACK9ZaJians2YtrILfsljF6lxVbg8QwNZv66sTd/K8VTzFaFsJ10kwloki4h66MFRJ891GIEjfdzztw9/bUx06tf6d9zTLJUJHLx9TUkgEopy2v2LLlNpUMQDqMbpbExC8CDEKM3FjeJQBGw9DGTL478FUvct8NKiW/Ktus5xoA9AOFk35C+Pg8Tk8fVZecqU5dejPo/C8n04WcMVAaN6OvuSQAEFcTvq9nR9Lfr34Bg5x67apSOHQAAAAASUVORK5CYII=",
                  "type": "image",
                  "xaxis": "x10",
                  "yaxis": "y10"
                }
              ],
              "layout": {
                "annotations": [
                  {
                    "font": {},
                    "showarrow": false,
                    "text": "3",
                    "x": 0.04100000000000001,
                    "xanchor": "center",
                    "xref": "paper",
                    "y": 1,
                    "yanchor": "bottom",
                    "yref": "paper"
                  },
                  {
                    "font": {},
                    "showarrow": false,
                    "text": "8",
                    "x": 0.14300000000000004,
                    "xanchor": "center",
                    "xref": "paper",
                    "y": 1,
                    "yanchor": "bottom",
                    "yref": "paper"
                  },
                  {
                    "font": {},
                    "showarrow": false,
                    "text": "0",
                    "x": 0.24500000000000005,
                    "xanchor": "center",
                    "xref": "paper",
                    "y": 1,
                    "yanchor": "bottom",
                    "yref": "paper"
                  },
                  {
                    "font": {},
                    "showarrow": false,
                    "text": "3",
                    "x": 0.3470000000000001,
                    "xanchor": "center",
                    "xref": "paper",
                    "y": 1,
                    "yanchor": "bottom",
                    "yref": "paper"
                  },
                  {
                    "font": {},
                    "showarrow": false,
                    "text": "3",
                    "x": 0.44900000000000007,
                    "xanchor": "center",
                    "xref": "paper",
                    "y": 1,
                    "yanchor": "bottom",
                    "yref": "paper"
                  },
                  {
                    "font": {},
                    "showarrow": false,
                    "text": "3",
                    "x": 0.5510000000000002,
                    "xanchor": "center",
                    "xref": "paper",
                    "y": 1,
                    "yanchor": "bottom",
                    "yref": "paper"
                  },
                  {
                    "font": {},
                    "showarrow": false,
                    "text": "0",
                    "x": 0.6530000000000001,
                    "xanchor": "center",
                    "xref": "paper",
                    "y": 1,
                    "yanchor": "bottom",
                    "yref": "paper"
                  },
                  {
                    "font": {},
                    "showarrow": false,
                    "text": "0",
                    "x": 0.7550000000000001,
                    "xanchor": "center",
                    "xref": "paper",
                    "y": 1,
                    "yanchor": "bottom",
                    "yref": "paper"
                  },
                  {
                    "font": {},
                    "showarrow": false,
                    "text": "0",
                    "x": 0.8570000000000002,
                    "xanchor": "center",
                    "xref": "paper",
                    "y": 1,
                    "yanchor": "bottom",
                    "yref": "paper"
                  },
                  {
                    "font": {},
                    "showarrow": false,
                    "text": "5",
                    "x": 0.9590000000000002,
                    "xanchor": "center",
                    "xref": "paper",
                    "y": 1,
                    "yanchor": "bottom",
                    "yref": "paper"
                  }
                ],
                "margin": {
                  "b": 0
                },
                "template": {
                  "data": {
                    "bar": [
                      {
                        "error_x": {
                          "color": "#2a3f5f"
                        },
                        "error_y": {
                          "color": "#2a3f5f"
                        },
                        "marker": {
                          "line": {
                            "color": "#E5ECF6",
                            "width": 0.5
                          },
                          "pattern": {
                            "fillmode": "overlay",
                            "size": 10,
                            "solidity": 0.2
                          }
                        },
                        "type": "bar"
                      }
                    ],
                    "barpolar": [
                      {
                        "marker": {
                          "line": {
                            "color": "#E5ECF6",
                            "width": 0.5
                          },
                          "pattern": {
                            "fillmode": "overlay",
                            "size": 10,
                            "solidity": 0.2
                          }
                        },
                        "type": "barpolar"
                      }
                    ],
                    "carpet": [
                      {
                        "aaxis": {
                          "endlinecolor": "#2a3f5f",
                          "gridcolor": "white",
                          "linecolor": "white",
                          "minorgridcolor": "white",
                          "startlinecolor": "#2a3f5f"
                        },
                        "baxis": {
                          "endlinecolor": "#2a3f5f",
                          "gridcolor": "white",
                          "linecolor": "white",
                          "minorgridcolor": "white",
                          "startlinecolor": "#2a3f5f"
                        },
                        "type": "carpet"
                      }
                    ],
                    "choropleth": [
                      {
                        "colorbar": {
                          "outlinewidth": 0,
                          "ticks": ""
                        },
                        "type": "choropleth"
                      }
                    ],
                    "contour": [
                      {
                        "colorbar": {
                          "outlinewidth": 0,
                          "ticks": ""
                        },
                        "colorscale": [
                          [
                            0,
                            "#0d0887"
                          ],
                          [
                            0.1111111111111111,
                            "#46039f"
                          ],
                          [
                            0.2222222222222222,
                            "#7201a8"
                          ],
                          [
                            0.3333333333333333,
                            "#9c179e"
                          ],
                          [
                            0.4444444444444444,
                            "#bd3786"
                          ],
                          [
                            0.5555555555555556,
                            "#d8576b"
                          ],
                          [
                            0.6666666666666666,
                            "#ed7953"
                          ],
                          [
                            0.7777777777777778,
                            "#fb9f3a"
                          ],
                          [
                            0.8888888888888888,
                            "#fdca26"
                          ],
                          [
                            1,
                            "#f0f921"
                          ]
                        ],
                        "type": "contour"
                      }
                    ],
                    "contourcarpet": [
                      {
                        "colorbar": {
                          "outlinewidth": 0,
                          "ticks": ""
                        },
                        "type": "contourcarpet"
                      }
                    ],
                    "heatmap": [
                      {
                        "colorbar": {
                          "outlinewidth": 0,
                          "ticks": ""
                        },
                        "colorscale": [
                          [
                            0,
                            "#0d0887"
                          ],
                          [
                            0.1111111111111111,
                            "#46039f"
                          ],
                          [
                            0.2222222222222222,
                            "#7201a8"
                          ],
                          [
                            0.3333333333333333,
                            "#9c179e"
                          ],
                          [
                            0.4444444444444444,
                            "#bd3786"
                          ],
                          [
                            0.5555555555555556,
                            "#d8576b"
                          ],
                          [
                            0.6666666666666666,
                            "#ed7953"
                          ],
                          [
                            0.7777777777777778,
                            "#fb9f3a"
                          ],
                          [
                            0.8888888888888888,
                            "#fdca26"
                          ],
                          [
                            1,
                            "#f0f921"
                          ]
                        ],
                        "type": "heatmap"
                      }
                    ],
                    "heatmapgl": [
                      {
                        "colorbar": {
                          "outlinewidth": 0,
                          "ticks": ""
                        },
                        "colorscale": [
                          [
                            0,
                            "#0d0887"
                          ],
                          [
                            0.1111111111111111,
                            "#46039f"
                          ],
                          [
                            0.2222222222222222,
                            "#7201a8"
                          ],
                          [
                            0.3333333333333333,
                            "#9c179e"
                          ],
                          [
                            0.4444444444444444,
                            "#bd3786"
                          ],
                          [
                            0.5555555555555556,
                            "#d8576b"
                          ],
                          [
                            0.6666666666666666,
                            "#ed7953"
                          ],
                          [
                            0.7777777777777778,
                            "#fb9f3a"
                          ],
                          [
                            0.8888888888888888,
                            "#fdca26"
                          ],
                          [
                            1,
                            "#f0f921"
                          ]
                        ],
                        "type": "heatmapgl"
                      }
                    ],
                    "histogram": [
                      {
                        "marker": {
                          "pattern": {
                            "fillmode": "overlay",
                            "size": 10,
                            "solidity": 0.2
                          }
                        },
                        "type": "histogram"
                      }
                    ],
                    "histogram2d": [
                      {
                        "colorbar": {
                          "outlinewidth": 0,
                          "ticks": ""
                        },
                        "colorscale": [
                          [
                            0,
                            "#0d0887"
                          ],
                          [
                            0.1111111111111111,
                            "#46039f"
                          ],
                          [
                            0.2222222222222222,
                            "#7201a8"
                          ],
                          [
                            0.3333333333333333,
                            "#9c179e"
                          ],
                          [
                            0.4444444444444444,
                            "#bd3786"
                          ],
                          [
                            0.5555555555555556,
                            "#d8576b"
                          ],
                          [
                            0.6666666666666666,
                            "#ed7953"
                          ],
                          [
                            0.7777777777777778,
                            "#fb9f3a"
                          ],
                          [
                            0.8888888888888888,
                            "#fdca26"
                          ],
                          [
                            1,
                            "#f0f921"
                          ]
                        ],
                        "type": "histogram2d"
                      }
                    ],
                    "histogram2dcontour": [
                      {
                        "colorbar": {
                          "outlinewidth": 0,
                          "ticks": ""
                        },
                        "colorscale": [
                          [
                            0,
                            "#0d0887"
                          ],
                          [
                            0.1111111111111111,
                            "#46039f"
                          ],
                          [
                            0.2222222222222222,
                            "#7201a8"
                          ],
                          [
                            0.3333333333333333,
                            "#9c179e"
                          ],
                          [
                            0.4444444444444444,
                            "#bd3786"
                          ],
                          [
                            0.5555555555555556,
                            "#d8576b"
                          ],
                          [
                            0.6666666666666666,
                            "#ed7953"
                          ],
                          [
                            0.7777777777777778,
                            "#fb9f3a"
                          ],
                          [
                            0.8888888888888888,
                            "#fdca26"
                          ],
                          [
                            1,
                            "#f0f921"
                          ]
                        ],
                        "type": "histogram2dcontour"
                      }
                    ],
                    "mesh3d": [
                      {
                        "colorbar": {
                          "outlinewidth": 0,
                          "ticks": ""
                        },
                        "type": "mesh3d"
                      }
                    ],
                    "parcoords": [
                      {
                        "line": {
                          "colorbar": {
                            "outlinewidth": 0,
                            "ticks": ""
                          }
                        },
                        "type": "parcoords"
                      }
                    ],
                    "pie": [
                      {
                        "automargin": true,
                        "type": "pie"
                      }
                    ],
                    "scatter": [
                      {
                        "marker": {
                          "colorbar": {
                            "outlinewidth": 0,
                            "ticks": ""
                          }
                        },
                        "type": "scatter"
                      }
                    ],
                    "scatter3d": [
                      {
                        "line": {
                          "colorbar": {
                            "outlinewidth": 0,
                            "ticks": ""
                          }
                        },
                        "marker": {
                          "colorbar": {
                            "outlinewidth": 0,
                            "ticks": ""
                          }
                        },
                        "type": "scatter3d"
                      }
                    ],
                    "scattercarpet": [
                      {
                        "marker": {
                          "colorbar": {
                            "outlinewidth": 0,
                            "ticks": ""
                          }
                        },
                        "type": "scattercarpet"
                      }
                    ],
                    "scattergeo": [
                      {
                        "marker": {
                          "colorbar": {
                            "outlinewidth": 0,
                            "ticks": ""
                          }
                        },
                        "type": "scattergeo"
                      }
                    ],
                    "scattergl": [
                      {
                        "marker": {
                          "colorbar": {
                            "outlinewidth": 0,
                            "ticks": ""
                          }
                        },
                        "type": "scattergl"
                      }
                    ],
                    "scattermapbox": [
                      {
                        "marker": {
                          "colorbar": {
                            "outlinewidth": 0,
                            "ticks": ""
                          }
                        },
                        "type": "scattermapbox"
                      }
                    ],
                    "scatterpolar": [
                      {
                        "marker": {
                          "colorbar": {
                            "outlinewidth": 0,
                            "ticks": ""
                          }
                        },
                        "type": "scatterpolar"
                      }
                    ],
                    "scatterpolargl": [
                      {
                        "marker": {
                          "colorbar": {
                            "outlinewidth": 0,
                            "ticks": ""
                          }
                        },
                        "type": "scatterpolargl"
                      }
                    ],
                    "scatterternary": [
                      {
                        "marker": {
                          "colorbar": {
                            "outlinewidth": 0,
                            "ticks": ""
                          }
                        },
                        "type": "scatterternary"
                      }
                    ],
                    "surface": [
                      {
                        "colorbar": {
                          "outlinewidth": 0,
                          "ticks": ""
                        },
                        "colorscale": [
                          [
                            0,
                            "#0d0887"
                          ],
                          [
                            0.1111111111111111,
                            "#46039f"
                          ],
                          [
                            0.2222222222222222,
                            "#7201a8"
                          ],
                          [
                            0.3333333333333333,
                            "#9c179e"
                          ],
                          [
                            0.4444444444444444,
                            "#bd3786"
                          ],
                          [
                            0.5555555555555556,
                            "#d8576b"
                          ],
                          [
                            0.6666666666666666,
                            "#ed7953"
                          ],
                          [
                            0.7777777777777778,
                            "#fb9f3a"
                          ],
                          [
                            0.8888888888888888,
                            "#fdca26"
                          ],
                          [
                            1,
                            "#f0f921"
                          ]
                        ],
                        "type": "surface"
                      }
                    ],
                    "table": [
                      {
                        "cells": {
                          "fill": {
                            "color": "#EBF0F8"
                          },
                          "line": {
                            "color": "white"
                          }
                        },
                        "header": {
                          "fill": {
                            "color": "#C8D4E3"
                          },
                          "line": {
                            "color": "white"
                          }
                        },
                        "type": "table"
                      }
                    ]
                  },
                  "layout": {
                    "annotationdefaults": {
                      "arrowcolor": "#2a3f5f",
                      "arrowhead": 0,
                      "arrowwidth": 1
                    },
                    "autotypenumbers": "strict",
                    "coloraxis": {
                      "colorbar": {
                        "outlinewidth": 0,
                        "ticks": ""
                      }
                    },
                    "colorscale": {
                      "diverging": [
                        [
                          0,
                          "#8e0152"
                        ],
                        [
                          0.1,
                          "#c51b7d"
                        ],
                        [
                          0.2,
                          "#de77ae"
                        ],
                        [
                          0.3,
                          "#f1b6da"
                        ],
                        [
                          0.4,
                          "#fde0ef"
                        ],
                        [
                          0.5,
                          "#f7f7f7"
                        ],
                        [
                          0.6,
                          "#e6f5d0"
                        ],
                        [
                          0.7,
                          "#b8e186"
                        ],
                        [
                          0.8,
                          "#7fbc41"
                        ],
                        [
                          0.9,
                          "#4d9221"
                        ],
                        [
                          1,
                          "#276419"
                        ]
                      ],
                      "sequential": [
                        [
                          0,
                          "#0d0887"
                        ],
                        [
                          0.1111111111111111,
                          "#46039f"
                        ],
                        [
                          0.2222222222222222,
                          "#7201a8"
                        ],
                        [
                          0.3333333333333333,
                          "#9c179e"
                        ],
                        [
                          0.4444444444444444,
                          "#bd3786"
                        ],
                        [
                          0.5555555555555556,
                          "#d8576b"
                        ],
                        [
                          0.6666666666666666,
                          "#ed7953"
                        ],
                        [
                          0.7777777777777778,
                          "#fb9f3a"
                        ],
                        [
                          0.8888888888888888,
                          "#fdca26"
                        ],
                        [
                          1,
                          "#f0f921"
                        ]
                      ],
                      "sequentialminus": [
                        [
                          0,
                          "#0d0887"
                        ],
                        [
                          0.1111111111111111,
                          "#46039f"
                        ],
                        [
                          0.2222222222222222,
                          "#7201a8"
                        ],
                        [
                          0.3333333333333333,
                          "#9c179e"
                        ],
                        [
                          0.4444444444444444,
                          "#bd3786"
                        ],
                        [
                          0.5555555555555556,
                          "#d8576b"
                        ],
                        [
                          0.6666666666666666,
                          "#ed7953"
                        ],
                        [
                          0.7777777777777778,
                          "#fb9f3a"
                        ],
                        [
                          0.8888888888888888,
                          "#fdca26"
                        ],
                        [
                          1,
                          "#f0f921"
                        ]
                      ]
                    },
                    "colorway": [
                      "#636efa",
                      "#EF553B",
                      "#00cc96",
                      "#ab63fa",
                      "#FFA15A",
                      "#19d3f3",
                      "#FF6692",
                      "#B6E880",
                      "#FF97FF",
                      "#FECB52"
                    ],
                    "font": {
                      "color": "#2a3f5f"
                    },
                    "geo": {
                      "bgcolor": "white",
                      "lakecolor": "white",
                      "landcolor": "#E5ECF6",
                      "showlakes": true,
                      "showland": true,
                      "subunitcolor": "white"
                    },
                    "hoverlabel": {
                      "align": "left"
                    },
                    "hovermode": "closest",
                    "mapbox": {
                      "style": "light"
                    },
                    "paper_bgcolor": "white",
                    "plot_bgcolor": "#E5ECF6",
                    "polar": {
                      "angularaxis": {
                        "gridcolor": "white",
                        "linecolor": "white",
                        "ticks": ""
                      },
                      "bgcolor": "#E5ECF6",
                      "radialaxis": {
                        "gridcolor": "white",
                        "linecolor": "white",
                        "ticks": ""
                      }
                    },
                    "scene": {
                      "xaxis": {
                        "backgroundcolor": "#E5ECF6",
                        "gridcolor": "white",
                        "gridwidth": 2,
                        "linecolor": "white",
                        "showbackground": true,
                        "ticks": "",
                        "zerolinecolor": "white"
                      },
                      "yaxis": {
                        "backgroundcolor": "#E5ECF6",
                        "gridcolor": "white",
                        "gridwidth": 2,
                        "linecolor": "white",
                        "showbackground": true,
                        "ticks": "",
                        "zerolinecolor": "white"
                      },
                      "zaxis": {
                        "backgroundcolor": "#E5ECF6",
                        "gridcolor": "white",
                        "gridwidth": 2,
                        "linecolor": "white",
                        "showbackground": true,
                        "ticks": "",
                        "zerolinecolor": "white"
                      }
                    },
                    "shapedefaults": {
                      "line": {
                        "color": "#2a3f5f"
                      }
                    },
                    "ternary": {
                      "aaxis": {
                        "gridcolor": "white",
                        "linecolor": "white",
                        "ticks": ""
                      },
                      "baxis": {
                        "gridcolor": "white",
                        "linecolor": "white",
                        "ticks": ""
                      },
                      "bgcolor": "#E5ECF6",
                      "caxis": {
                        "gridcolor": "white",
                        "linecolor": "white",
                        "ticks": ""
                      }
                    },
                    "title": {
                      "x": 0.05
                    },
                    "xaxis": {
                      "automargin": true,
                      "gridcolor": "white",
                      "linecolor": "white",
                      "ticks": "",
                      "title": {
                        "standoff": 15
                      },
                      "zerolinecolor": "white",
                      "zerolinewidth": 2
                    },
                    "yaxis": {
                      "automargin": true,
                      "gridcolor": "white",
                      "linecolor": "white",
                      "ticks": "",
                      "title": {
                        "standoff": 15
                      },
                      "zerolinecolor": "white",
                      "zerolinewidth": 2
                    }
                  }
                },
                "title": {
                  "text": "Highest activating images for layer 3"
                },
                "xaxis": {
                  "anchor": "y",
                  "domain": [
                    0,
                    0.08200000000000002
                  ]
                },
                "xaxis10": {
                  "anchor": "y10",
                  "domain": [
                    0.9180000000000001,
                    1
                  ],
                  "matches": "x"
                },
                "xaxis2": {
                  "anchor": "y2",
                  "domain": [
                    0.10200000000000002,
                    0.18400000000000005
                  ],
                  "matches": "x"
                },
                "xaxis3": {
                  "anchor": "y3",
                  "domain": [
                    0.20400000000000004,
                    0.28600000000000003
                  ],
                  "matches": "x"
                },
                "xaxis4": {
                  "anchor": "y4",
                  "domain": [
                    0.30600000000000005,
                    0.38800000000000007
                  ],
                  "matches": "x"
                },
                "xaxis5": {
                  "anchor": "y5",
                  "domain": [
                    0.4080000000000001,
                    0.4900000000000001
                  ],
                  "matches": "x"
                },
                "xaxis6": {
                  "anchor": "y6",
                  "domain": [
                    0.5100000000000001,
                    0.5920000000000001
                  ],
                  "matches": "x"
                },
                "xaxis7": {
                  "anchor": "y7",
                  "domain": [
                    0.6120000000000001,
                    0.6940000000000002
                  ],
                  "matches": "x"
                },
                "xaxis8": {
                  "anchor": "y8",
                  "domain": [
                    0.7140000000000001,
                    0.796
                  ],
                  "matches": "x"
                },
                "xaxis9": {
                  "anchor": "y9",
                  "domain": [
                    0.8160000000000002,
                    0.8980000000000001
                  ],
                  "matches": "x"
                },
                "yaxis": {
                  "anchor": "x",
                  "domain": [
                    0,
                    1
                  ]
                },
                "yaxis10": {
                  "anchor": "x10",
                  "domain": [
                    0,
                    1
                  ],
                  "matches": "y",
                  "showticklabels": false
                },
                "yaxis2": {
                  "anchor": "x2",
                  "domain": [
                    0,
                    1
                  ],
                  "matches": "y",
                  "showticklabels": false
                },
                "yaxis3": {
                  "anchor": "x3",
                  "domain": [
                    0,
                    1
                  ],
                  "matches": "y",
                  "showticklabels": false
                },
                "yaxis4": {
                  "anchor": "x4",
                  "domain": [
                    0,
                    1
                  ],
                  "matches": "y",
                  "showticklabels": false
                },
                "yaxis5": {
                  "anchor": "x5",
                  "domain": [
                    0,
                    1
                  ],
                  "matches": "y",
                  "showticklabels": false
                },
                "yaxis6": {
                  "anchor": "x6",
                  "domain": [
                    0,
                    1
                  ],
                  "matches": "y",
                  "showticklabels": false
                },
                "yaxis7": {
                  "anchor": "x7",
                  "domain": [
                    0,
                    1
                  ],
                  "matches": "y",
                  "showticklabels": false
                },
                "yaxis8": {
                  "anchor": "x8",
                  "domain": [
                    0,
                    1
                  ],
                  "matches": "y",
                  "showticklabels": false
                },
                "yaxis9": {
                  "anchor": "x9",
                  "domain": [
                    0,
                    1
                  ],
                  "matches": "y",
                  "showticklabels": false
                }
              }
            }
          },
          "metadata": {},
          "output_type": "display_data"
        },
        {
          "data": {
            "application/vnd.plotly.v1+json": {
              "config": {
                "plotlyServerURL": "https://plot.ly"
              },
              "data": [
                {
                  "hovertemplate": "x: %{x}<br>y: %{y}<extra></extra>",
                  "name": "0",
                  "source": "data:image/png;base64,iVBORw0KGgoAAAANSUhEUgAAABwAAAAcCAAAAABXZoBIAAABN0lEQVR4Xr2Rv0sCYRyHP+KPToQbUrIQkeimGmoIW2yoJchADKwlkGq3JQhaIoLWxqbGQEmwNomm2qJzKS6Ufk0RF4idwRn0vbfBznvv/QP8LN/3eZ7xBfo/z/8Ne/BLaLtaNw4djCf9rG2i+nj2KsbaJJ50BqQYvs/LVybXgQLNSAAQTqzvvtON4ooDGYcT+9aJ/fYBwM9Fr4E6LOWK9qJTcyPZUK3AOwDAbFG/bBCplUxQTMCbZVnM2I6IHgCQL2uaQUSnywExdRdLHz5YdLsgenuBxRKZlUHOyNdbHOVarDHq4AalHQCUEr3EejTd+shzEd4jUh1a/SI15yC8deJoYs+w7iubKxEZAKQ1owM4n434zrziY2jWmabExz6X7vgIQMmGhp+TUTmoV4+bnOfnl0TTz/0BMbtnNpiYjhkAAAAASUVORK5CYII=",
                  "type": "image",
                  "xaxis": "x",
                  "yaxis": "y"
                },
                {
                  "hovertemplate": "x: %{x}<br>y: %{y}<extra></extra>",
                  "name": "1",
                  "source": "data:image/png;base64,iVBORw0KGgoAAAANSUhEUgAAABwAAAAcCAAAAABXZoBIAAABQklEQVR4XsXRvyvEcRzH8ScuA9+TX+UUia6UQcrGgG7CYJFYDL6DWCwMKGW53cBmZ5PhkiLJLbcoIuEo3eX8OHR+dnndGb73w/f7B/BaPu/35/FePp83/F/KO1ZWU+nU6UpvkZOYPFM2G/nbAgB8ARc8x9df6OlL921ToURuovpSOja9AKXj01XUhI6bckhQ8uc7BqTWfLcgfQzmupmoDY2Y9L5mAFC3n1RiqjiPuLckxeZq8ZpfUrzrFwFlE0lJ0ZNH6TvYbTegfs965+eYUwBKziVJ93VOADrjUiQi6bzfSfgfFJv1eDYlXZsO63jTTSlQNHonJUdsZhzqtt0qm0PSqQ2HpcVsXXmlV6tyWccz+Fp2LnaAbtdDQ2bMWhnFgR6AMNBYCB/uDGcyNH9wZP2C9LRkNwCjbXlXUtj8tcw/zw9/mZqSH+fsUQAAAABJRU5ErkJggg==",
                  "type": "image",
                  "xaxis": "x2",
                  "yaxis": "y2"
                },
                {
                  "hovertemplate": "x: %{x}<br>y: %{y}<extra></extra>",
                  "name": "2",
                  "source": "data:image/png;base64,iVBORw0KGgoAAAANSUhEUgAAABwAAAAcCAAAAABXZoBIAAABE0lEQVR4XtWPuy9DYRyGX6cuqRMSA4tEhDQNCWewGkwSkZhMBhKbTZq4jJgkIv4AnQwWJjYqQnLiMunSNI0OEksjBEtd+pwanPtfwDu9z/fk932/T/rDaeuJn3jp37WLr7Y9ZMSFpPkHAHDWO+JKC59Q2NoBh6dMZ9SlnqnOJWVa1vU35Mcj8hwW3boGVKfD0iGXcKtxdXdCqTsig5uWC9Y9Z02S5G0eLPFuljMa2/RZdSfv93SvtOpUgh9lqU36IGnggz0f0m+cmiGpAwjAhtxggDoKy9Z9eNkeafml4cMaG5IaXGtMZLuk4pddbpxRKqnLlVtvUJLalx4BB4CLKVMKJiWpeTbRN1ov3ei4Enrx3+QHz1Fwzi1+fEAAAAAASUVORK5CYII=",
                  "type": "image",
                  "xaxis": "x3",
                  "yaxis": "y3"
                },
                {
                  "hovertemplate": "x: %{x}<br>y: %{y}<extra></extra>",
                  "name": "3",
                  "source": "data:image/png;base64,iVBORw0KGgoAAAANSUhEUgAAABwAAAAcCAAAAABXZoBIAAABF0lEQVR4Xs2RsSuEYRzHP6frjeFMLErUOyiZLU6WQzEwmSWTLLIgww3yD1hMSjJIJCwGddt1NnGXWLiBJCU6p8v3eQ3v+9zrnn+Az/I8v+/nN/ye3wP/jATASnB94gqIpAm+v6IyW2NkZ/93h5HFSFLe5kmAuWFoH4ibLQl7yZwBlO8ovh6WYh8yLamW9d0YgNSl9DLuhE3Rme6B5qntGVs3shpOu7nhtyZdR/fSlX3Kbq8rASbWc8YYY4K9RVcBeKm1U0mqzLsmpKWj/14SxNPGVB+9JyeaLWyFl8HMwZukW6ivr+2i632hxOhQkPYAPvseQgEwWZUkKZCkSjHfuKvccyQ/ystjNqz/SueRz3EBbs5t8jf8ANQ4gIuQIU1YAAAAAElFTkSuQmCC",
                  "type": "image",
                  "xaxis": "x4",
                  "yaxis": "y4"
                },
                {
                  "hovertemplate": "x: %{x}<br>y: %{y}<extra></extra>",
                  "name": "4",
                  "source": "data:image/png;base64,iVBORw0KGgoAAAANSUhEUgAAABwAAAAcCAAAAABXZoBIAAAAjklEQVR4Xs2QQQ7CQAzEDOJfDC8jP0t52XDYTbsExA0J39aO1DTwp0QXRXgnQy3mEcfAGsN25jqiEU7rEHB93LteSdvuciDbdnQNwPhkdA3MlqrneUlofbwxz6Hui/ha0b7Sx7/19C8LdWbM3I3SsAFwGUIbIAR3gO02BoE6zIGWhvIIGVG6tlWdJ6b4IU/pZHwfDNJx6QAAAABJRU5ErkJggg==",
                  "type": "image",
                  "xaxis": "x5",
                  "yaxis": "y5"
                },
                {
                  "hovertemplate": "x: %{x}<br>y: %{y}<extra></extra>",
                  "name": "5",
                  "source": "data:image/png;base64,iVBORw0KGgoAAAANSUhEUgAAABwAAAAcCAAAAABXZoBIAAABKklEQVR4Xr3QvUtCURzG8e9NS8tBjCKSImkpl5ZosZfBxKWCkJb6AxpqbKihliCcg5SQguZyLzCbGrQ9wSmKopYabtAbPNSgV0/3D/CZnnM+h3P4HWh9LKf4ArEpBlas3+vztHkA8O8U5cRe6DLJmyxK0lcpn0ql9qWsid2SdJWcBGBMeh01cEMqJDrqi7xUMu+N6Mjv9IykJcOwAt56a1uzpQOPiY2EMpJu3bsA1sTJvaSHETcA/Vu1MSvHbgHWayZ9bsbcxuy3VEhEo6unel92I4u7fT6AUEUfEZc1E67qphOgDYDe7cYnAD/PjBvrwbfckNM9M3eSQk3kTE97w0BPPH4hSdl2A6dfpMdyuVytTZMxX4HwvO3MaR8m/hsQvJSkXHou6JaW5g/2PI9nldsebAAAAABJRU5ErkJggg==",
                  "type": "image",
                  "xaxis": "x6",
                  "yaxis": "y6"
                },
                {
                  "hovertemplate": "x: %{x}<br>y: %{y}<extra></extra>",
                  "name": "6",
                  "source": "data:image/png;base64,iVBORw0KGgoAAAANSUhEUgAAABwAAAAcCAAAAABXZoBIAAABEUlEQVR4Xs2QP0uCURjFf5VGYBiBLhXxRn8IoqDJsaiGiJagPWhsCYdoCaHRoG8QBLb0AWxoCF43KcKWliKzJQKF2jR7Ozbovdy3T+CZzjm/e597eaCbFU+Ec4/j9/eGzq4mgdKj0wLQfx5ICiTpJ5sEnJvTl4sAtfINy/OD+a1fAwCvokrx6KToAczkdeyw4Vd9TkQg0o4D1a+0ZdFDfa/aBGxL1i9Juw6CNQc+qNYZ2FEb9gKwoGwQglGaFtK4DjFS3FrfUug7JOs6taGlDWePfZtlfUzZeCHtGD+b9qVSAsz6xn2vWbh/eV6HlbkY1Vymbs4CY7lARo3MaKe1T6UO4oy8g//2dGe6kGL/i27THyDdY62bpWGMAAAAAElFTkSuQmCC",
                  "type": "image",
                  "xaxis": "x7",
                  "yaxis": "y7"
                },
                {
                  "hovertemplate": "x: %{x}<br>y: %{y}<extra></extra>",
                  "name": "7",
                  "source": "data:image/png;base64,iVBORw0KGgoAAAANSUhEUgAAABwAAAAcCAAAAABXZoBIAAABEUlEQVR4Xs3LTStEUQDG8eeyGjWTUhbKSxNzS8pLUSZFzMaWD2CjRM3CwgZ7CxsbrGTLhrJCMUtNNjakZIgs1HgZNWle7p/FjHOu+wnmWZ3/+Z0j1e769zOXU8HL6tbKQL6tsSkIUuTUg2yJh6vS7kAQF3k7GGrp3Pv2oHA06KeGZe+6T5K6kxPbQHbFh618RSVJTr2c0CHkuiwuMWlDsXtYMNWTP6/zoaLwZGK0MOIjydkCE/P2XWWJCtZJ0vR/kqSUOX0EfsZzhRkTF+8dVqThdHndVorHdhPx2RtWrSkJn5vjbnPYdd2NIj/HIR/G0h7Ayy0AmbmwzyQlTu6obsfeOn+HSO+YJD2fvRYN1tx+AXxTcYRMGfO2AAAAAElFTkSuQmCC",
                  "type": "image",
                  "xaxis": "x8",
                  "yaxis": "y8"
                },
                {
                  "hovertemplate": "x: %{x}<br>y: %{y}<extra></extra>",
                  "name": "8",
                  "source": "data:image/png;base64,iVBORw0KGgoAAAANSUhEUgAAABwAAAAcCAAAAABXZoBIAAAA4UlEQVR4XmNgGDaAEZkTLvx0IzIfCahc+vXvx7NTgejiDAwMDAyx//79+/fv3892LNINzyCS//79utGCKqXc+uvfkw0eurq6rnv+/fvdrook1/zo37+tyhA2h9+/f//uqyAkf/77d9gMxuHwePLvfw1cLu7vvw3scB4Dg/qaf3cZGBiYGBgYGBgsGRnafyLk2CRMGNjgvBf//223hnIV9e13/v/3N40BFkJZUxgYGLZ/ZWBgYGCwlmRg+Hu1aR1EKQMDA8PUNzBP/vv371dPCEQUFrba5qW8UOaKk6uhrJECAFeMXSPSE64iAAAAAElFTkSuQmCC",
                  "type": "image",
                  "xaxis": "x9",
                  "yaxis": "y9"
                },
                {
                  "hovertemplate": "x: %{x}<br>y: %{y}<extra></extra>",
                  "name": "9",
                  "source": "data:image/png;base64,iVBORw0KGgoAAAANSUhEUgAAABwAAAAcCAAAAABXZoBIAAABBElEQVR4Xr2RMU/DMBCFnxFTuiZrsuK1ZW3GwghZkRizkp2RvWsl2NqRwm+IxGiJCQpbhViarEWw3DkMNqa5H9Dn4c7vky2/M7B/KbFPxhMAwPOtAACK9ZaJians2YtrILfsljF6lxVbg8QwNZv66sTd/K8VTzFaFsJ10kwloki4h66MFRJ891GIEjfdzztw9/bUx06tf6d9zTLJUJHLx9TUkgEopy2v2LLlNpUMQDqMbpbExC8CDEKM3FjeJQBGw9DGTL478FUvct8NKiW/Ktus5xoA9AOFk35C+Pg8Tk8fVZecqU5dejPo/C8n04WcMVAaN6OvuSQAEFcTvq9nR9Lfr34Bg5x67apSOHQAAAAASUVORK5CYII=",
                  "type": "image",
                  "xaxis": "x10",
                  "yaxis": "y10"
                }
              ],
              "layout": {
                "annotations": [
                  {
                    "font": {},
                    "showarrow": false,
                    "text": "3",
                    "x": 0.04100000000000001,
                    "xanchor": "center",
                    "xref": "paper",
                    "y": 1,
                    "yanchor": "bottom",
                    "yref": "paper"
                  },
                  {
                    "font": {},
                    "showarrow": false,
                    "text": "8",
                    "x": 0.14300000000000004,
                    "xanchor": "center",
                    "xref": "paper",
                    "y": 1,
                    "yanchor": "bottom",
                    "yref": "paper"
                  },
                  {
                    "font": {},
                    "showarrow": false,
                    "text": "0",
                    "x": 0.24500000000000005,
                    "xanchor": "center",
                    "xref": "paper",
                    "y": 1,
                    "yanchor": "bottom",
                    "yref": "paper"
                  },
                  {
                    "font": {},
                    "showarrow": false,
                    "text": "3",
                    "x": 0.3470000000000001,
                    "xanchor": "center",
                    "xref": "paper",
                    "y": 1,
                    "yanchor": "bottom",
                    "yref": "paper"
                  },
                  {
                    "font": {},
                    "showarrow": false,
                    "text": "3",
                    "x": 0.44900000000000007,
                    "xanchor": "center",
                    "xref": "paper",
                    "y": 1,
                    "yanchor": "bottom",
                    "yref": "paper"
                  },
                  {
                    "font": {},
                    "showarrow": false,
                    "text": "3",
                    "x": 0.5510000000000002,
                    "xanchor": "center",
                    "xref": "paper",
                    "y": 1,
                    "yanchor": "bottom",
                    "yref": "paper"
                  },
                  {
                    "font": {},
                    "showarrow": false,
                    "text": "0",
                    "x": 0.6530000000000001,
                    "xanchor": "center",
                    "xref": "paper",
                    "y": 1,
                    "yanchor": "bottom",
                    "yref": "paper"
                  },
                  {
                    "font": {},
                    "showarrow": false,
                    "text": "0",
                    "x": 0.7550000000000001,
                    "xanchor": "center",
                    "xref": "paper",
                    "y": 1,
                    "yanchor": "bottom",
                    "yref": "paper"
                  },
                  {
                    "font": {},
                    "showarrow": false,
                    "text": "0",
                    "x": 0.8570000000000002,
                    "xanchor": "center",
                    "xref": "paper",
                    "y": 1,
                    "yanchor": "bottom",
                    "yref": "paper"
                  },
                  {
                    "font": {},
                    "showarrow": false,
                    "text": "5",
                    "x": 0.9590000000000002,
                    "xanchor": "center",
                    "xref": "paper",
                    "y": 1,
                    "yanchor": "bottom",
                    "yref": "paper"
                  }
                ],
                "margin": {
                  "b": 0
                },
                "template": {
                  "data": {
                    "bar": [
                      {
                        "error_x": {
                          "color": "#2a3f5f"
                        },
                        "error_y": {
                          "color": "#2a3f5f"
                        },
                        "marker": {
                          "line": {
                            "color": "#E5ECF6",
                            "width": 0.5
                          },
                          "pattern": {
                            "fillmode": "overlay",
                            "size": 10,
                            "solidity": 0.2
                          }
                        },
                        "type": "bar"
                      }
                    ],
                    "barpolar": [
                      {
                        "marker": {
                          "line": {
                            "color": "#E5ECF6",
                            "width": 0.5
                          },
                          "pattern": {
                            "fillmode": "overlay",
                            "size": 10,
                            "solidity": 0.2
                          }
                        },
                        "type": "barpolar"
                      }
                    ],
                    "carpet": [
                      {
                        "aaxis": {
                          "endlinecolor": "#2a3f5f",
                          "gridcolor": "white",
                          "linecolor": "white",
                          "minorgridcolor": "white",
                          "startlinecolor": "#2a3f5f"
                        },
                        "baxis": {
                          "endlinecolor": "#2a3f5f",
                          "gridcolor": "white",
                          "linecolor": "white",
                          "minorgridcolor": "white",
                          "startlinecolor": "#2a3f5f"
                        },
                        "type": "carpet"
                      }
                    ],
                    "choropleth": [
                      {
                        "colorbar": {
                          "outlinewidth": 0,
                          "ticks": ""
                        },
                        "type": "choropleth"
                      }
                    ],
                    "contour": [
                      {
                        "colorbar": {
                          "outlinewidth": 0,
                          "ticks": ""
                        },
                        "colorscale": [
                          [
                            0,
                            "#0d0887"
                          ],
                          [
                            0.1111111111111111,
                            "#46039f"
                          ],
                          [
                            0.2222222222222222,
                            "#7201a8"
                          ],
                          [
                            0.3333333333333333,
                            "#9c179e"
                          ],
                          [
                            0.4444444444444444,
                            "#bd3786"
                          ],
                          [
                            0.5555555555555556,
                            "#d8576b"
                          ],
                          [
                            0.6666666666666666,
                            "#ed7953"
                          ],
                          [
                            0.7777777777777778,
                            "#fb9f3a"
                          ],
                          [
                            0.8888888888888888,
                            "#fdca26"
                          ],
                          [
                            1,
                            "#f0f921"
                          ]
                        ],
                        "type": "contour"
                      }
                    ],
                    "contourcarpet": [
                      {
                        "colorbar": {
                          "outlinewidth": 0,
                          "ticks": ""
                        },
                        "type": "contourcarpet"
                      }
                    ],
                    "heatmap": [
                      {
                        "colorbar": {
                          "outlinewidth": 0,
                          "ticks": ""
                        },
                        "colorscale": [
                          [
                            0,
                            "#0d0887"
                          ],
                          [
                            0.1111111111111111,
                            "#46039f"
                          ],
                          [
                            0.2222222222222222,
                            "#7201a8"
                          ],
                          [
                            0.3333333333333333,
                            "#9c179e"
                          ],
                          [
                            0.4444444444444444,
                            "#bd3786"
                          ],
                          [
                            0.5555555555555556,
                            "#d8576b"
                          ],
                          [
                            0.6666666666666666,
                            "#ed7953"
                          ],
                          [
                            0.7777777777777778,
                            "#fb9f3a"
                          ],
                          [
                            0.8888888888888888,
                            "#fdca26"
                          ],
                          [
                            1,
                            "#f0f921"
                          ]
                        ],
                        "type": "heatmap"
                      }
                    ],
                    "heatmapgl": [
                      {
                        "colorbar": {
                          "outlinewidth": 0,
                          "ticks": ""
                        },
                        "colorscale": [
                          [
                            0,
                            "#0d0887"
                          ],
                          [
                            0.1111111111111111,
                            "#46039f"
                          ],
                          [
                            0.2222222222222222,
                            "#7201a8"
                          ],
                          [
                            0.3333333333333333,
                            "#9c179e"
                          ],
                          [
                            0.4444444444444444,
                            "#bd3786"
                          ],
                          [
                            0.5555555555555556,
                            "#d8576b"
                          ],
                          [
                            0.6666666666666666,
                            "#ed7953"
                          ],
                          [
                            0.7777777777777778,
                            "#fb9f3a"
                          ],
                          [
                            0.8888888888888888,
                            "#fdca26"
                          ],
                          [
                            1,
                            "#f0f921"
                          ]
                        ],
                        "type": "heatmapgl"
                      }
                    ],
                    "histogram": [
                      {
                        "marker": {
                          "pattern": {
                            "fillmode": "overlay",
                            "size": 10,
                            "solidity": 0.2
                          }
                        },
                        "type": "histogram"
                      }
                    ],
                    "histogram2d": [
                      {
                        "colorbar": {
                          "outlinewidth": 0,
                          "ticks": ""
                        },
                        "colorscale": [
                          [
                            0,
                            "#0d0887"
                          ],
                          [
                            0.1111111111111111,
                            "#46039f"
                          ],
                          [
                            0.2222222222222222,
                            "#7201a8"
                          ],
                          [
                            0.3333333333333333,
                            "#9c179e"
                          ],
                          [
                            0.4444444444444444,
                            "#bd3786"
                          ],
                          [
                            0.5555555555555556,
                            "#d8576b"
                          ],
                          [
                            0.6666666666666666,
                            "#ed7953"
                          ],
                          [
                            0.7777777777777778,
                            "#fb9f3a"
                          ],
                          [
                            0.8888888888888888,
                            "#fdca26"
                          ],
                          [
                            1,
                            "#f0f921"
                          ]
                        ],
                        "type": "histogram2d"
                      }
                    ],
                    "histogram2dcontour": [
                      {
                        "colorbar": {
                          "outlinewidth": 0,
                          "ticks": ""
                        },
                        "colorscale": [
                          [
                            0,
                            "#0d0887"
                          ],
                          [
                            0.1111111111111111,
                            "#46039f"
                          ],
                          [
                            0.2222222222222222,
                            "#7201a8"
                          ],
                          [
                            0.3333333333333333,
                            "#9c179e"
                          ],
                          [
                            0.4444444444444444,
                            "#bd3786"
                          ],
                          [
                            0.5555555555555556,
                            "#d8576b"
                          ],
                          [
                            0.6666666666666666,
                            "#ed7953"
                          ],
                          [
                            0.7777777777777778,
                            "#fb9f3a"
                          ],
                          [
                            0.8888888888888888,
                            "#fdca26"
                          ],
                          [
                            1,
                            "#f0f921"
                          ]
                        ],
                        "type": "histogram2dcontour"
                      }
                    ],
                    "mesh3d": [
                      {
                        "colorbar": {
                          "outlinewidth": 0,
                          "ticks": ""
                        },
                        "type": "mesh3d"
                      }
                    ],
                    "parcoords": [
                      {
                        "line": {
                          "colorbar": {
                            "outlinewidth": 0,
                            "ticks": ""
                          }
                        },
                        "type": "parcoords"
                      }
                    ],
                    "pie": [
                      {
                        "automargin": true,
                        "type": "pie"
                      }
                    ],
                    "scatter": [
                      {
                        "marker": {
                          "colorbar": {
                            "outlinewidth": 0,
                            "ticks": ""
                          }
                        },
                        "type": "scatter"
                      }
                    ],
                    "scatter3d": [
                      {
                        "line": {
                          "colorbar": {
                            "outlinewidth": 0,
                            "ticks": ""
                          }
                        },
                        "marker": {
                          "colorbar": {
                            "outlinewidth": 0,
                            "ticks": ""
                          }
                        },
                        "type": "scatter3d"
                      }
                    ],
                    "scattercarpet": [
                      {
                        "marker": {
                          "colorbar": {
                            "outlinewidth": 0,
                            "ticks": ""
                          }
                        },
                        "type": "scattercarpet"
                      }
                    ],
                    "scattergeo": [
                      {
                        "marker": {
                          "colorbar": {
                            "outlinewidth": 0,
                            "ticks": ""
                          }
                        },
                        "type": "scattergeo"
                      }
                    ],
                    "scattergl": [
                      {
                        "marker": {
                          "colorbar": {
                            "outlinewidth": 0,
                            "ticks": ""
                          }
                        },
                        "type": "scattergl"
                      }
                    ],
                    "scattermapbox": [
                      {
                        "marker": {
                          "colorbar": {
                            "outlinewidth": 0,
                            "ticks": ""
                          }
                        },
                        "type": "scattermapbox"
                      }
                    ],
                    "scatterpolar": [
                      {
                        "marker": {
                          "colorbar": {
                            "outlinewidth": 0,
                            "ticks": ""
                          }
                        },
                        "type": "scatterpolar"
                      }
                    ],
                    "scatterpolargl": [
                      {
                        "marker": {
                          "colorbar": {
                            "outlinewidth": 0,
                            "ticks": ""
                          }
                        },
                        "type": "scatterpolargl"
                      }
                    ],
                    "scatterternary": [
                      {
                        "marker": {
                          "colorbar": {
                            "outlinewidth": 0,
                            "ticks": ""
                          }
                        },
                        "type": "scatterternary"
                      }
                    ],
                    "surface": [
                      {
                        "colorbar": {
                          "outlinewidth": 0,
                          "ticks": ""
                        },
                        "colorscale": [
                          [
                            0,
                            "#0d0887"
                          ],
                          [
                            0.1111111111111111,
                            "#46039f"
                          ],
                          [
                            0.2222222222222222,
                            "#7201a8"
                          ],
                          [
                            0.3333333333333333,
                            "#9c179e"
                          ],
                          [
                            0.4444444444444444,
                            "#bd3786"
                          ],
                          [
                            0.5555555555555556,
                            "#d8576b"
                          ],
                          [
                            0.6666666666666666,
                            "#ed7953"
                          ],
                          [
                            0.7777777777777778,
                            "#fb9f3a"
                          ],
                          [
                            0.8888888888888888,
                            "#fdca26"
                          ],
                          [
                            1,
                            "#f0f921"
                          ]
                        ],
                        "type": "surface"
                      }
                    ],
                    "table": [
                      {
                        "cells": {
                          "fill": {
                            "color": "#EBF0F8"
                          },
                          "line": {
                            "color": "white"
                          }
                        },
                        "header": {
                          "fill": {
                            "color": "#C8D4E3"
                          },
                          "line": {
                            "color": "white"
                          }
                        },
                        "type": "table"
                      }
                    ]
                  },
                  "layout": {
                    "annotationdefaults": {
                      "arrowcolor": "#2a3f5f",
                      "arrowhead": 0,
                      "arrowwidth": 1
                    },
                    "autotypenumbers": "strict",
                    "coloraxis": {
                      "colorbar": {
                        "outlinewidth": 0,
                        "ticks": ""
                      }
                    },
                    "colorscale": {
                      "diverging": [
                        [
                          0,
                          "#8e0152"
                        ],
                        [
                          0.1,
                          "#c51b7d"
                        ],
                        [
                          0.2,
                          "#de77ae"
                        ],
                        [
                          0.3,
                          "#f1b6da"
                        ],
                        [
                          0.4,
                          "#fde0ef"
                        ],
                        [
                          0.5,
                          "#f7f7f7"
                        ],
                        [
                          0.6,
                          "#e6f5d0"
                        ],
                        [
                          0.7,
                          "#b8e186"
                        ],
                        [
                          0.8,
                          "#7fbc41"
                        ],
                        [
                          0.9,
                          "#4d9221"
                        ],
                        [
                          1,
                          "#276419"
                        ]
                      ],
                      "sequential": [
                        [
                          0,
                          "#0d0887"
                        ],
                        [
                          0.1111111111111111,
                          "#46039f"
                        ],
                        [
                          0.2222222222222222,
                          "#7201a8"
                        ],
                        [
                          0.3333333333333333,
                          "#9c179e"
                        ],
                        [
                          0.4444444444444444,
                          "#bd3786"
                        ],
                        [
                          0.5555555555555556,
                          "#d8576b"
                        ],
                        [
                          0.6666666666666666,
                          "#ed7953"
                        ],
                        [
                          0.7777777777777778,
                          "#fb9f3a"
                        ],
                        [
                          0.8888888888888888,
                          "#fdca26"
                        ],
                        [
                          1,
                          "#f0f921"
                        ]
                      ],
                      "sequentialminus": [
                        [
                          0,
                          "#0d0887"
                        ],
                        [
                          0.1111111111111111,
                          "#46039f"
                        ],
                        [
                          0.2222222222222222,
                          "#7201a8"
                        ],
                        [
                          0.3333333333333333,
                          "#9c179e"
                        ],
                        [
                          0.4444444444444444,
                          "#bd3786"
                        ],
                        [
                          0.5555555555555556,
                          "#d8576b"
                        ],
                        [
                          0.6666666666666666,
                          "#ed7953"
                        ],
                        [
                          0.7777777777777778,
                          "#fb9f3a"
                        ],
                        [
                          0.8888888888888888,
                          "#fdca26"
                        ],
                        [
                          1,
                          "#f0f921"
                        ]
                      ]
                    },
                    "colorway": [
                      "#636efa",
                      "#EF553B",
                      "#00cc96",
                      "#ab63fa",
                      "#FFA15A",
                      "#19d3f3",
                      "#FF6692",
                      "#B6E880",
                      "#FF97FF",
                      "#FECB52"
                    ],
                    "font": {
                      "color": "#2a3f5f"
                    },
                    "geo": {
                      "bgcolor": "white",
                      "lakecolor": "white",
                      "landcolor": "#E5ECF6",
                      "showlakes": true,
                      "showland": true,
                      "subunitcolor": "white"
                    },
                    "hoverlabel": {
                      "align": "left"
                    },
                    "hovermode": "closest",
                    "mapbox": {
                      "style": "light"
                    },
                    "paper_bgcolor": "white",
                    "plot_bgcolor": "#E5ECF6",
                    "polar": {
                      "angularaxis": {
                        "gridcolor": "white",
                        "linecolor": "white",
                        "ticks": ""
                      },
                      "bgcolor": "#E5ECF6",
                      "radialaxis": {
                        "gridcolor": "white",
                        "linecolor": "white",
                        "ticks": ""
                      }
                    },
                    "scene": {
                      "xaxis": {
                        "backgroundcolor": "#E5ECF6",
                        "gridcolor": "white",
                        "gridwidth": 2,
                        "linecolor": "white",
                        "showbackground": true,
                        "ticks": "",
                        "zerolinecolor": "white"
                      },
                      "yaxis": {
                        "backgroundcolor": "#E5ECF6",
                        "gridcolor": "white",
                        "gridwidth": 2,
                        "linecolor": "white",
                        "showbackground": true,
                        "ticks": "",
                        "zerolinecolor": "white"
                      },
                      "zaxis": {
                        "backgroundcolor": "#E5ECF6",
                        "gridcolor": "white",
                        "gridwidth": 2,
                        "linecolor": "white",
                        "showbackground": true,
                        "ticks": "",
                        "zerolinecolor": "white"
                      }
                    },
                    "shapedefaults": {
                      "line": {
                        "color": "#2a3f5f"
                      }
                    },
                    "ternary": {
                      "aaxis": {
                        "gridcolor": "white",
                        "linecolor": "white",
                        "ticks": ""
                      },
                      "baxis": {
                        "gridcolor": "white",
                        "linecolor": "white",
                        "ticks": ""
                      },
                      "bgcolor": "#E5ECF6",
                      "caxis": {
                        "gridcolor": "white",
                        "linecolor": "white",
                        "ticks": ""
                      }
                    },
                    "title": {
                      "x": 0.05
                    },
                    "xaxis": {
                      "automargin": true,
                      "gridcolor": "white",
                      "linecolor": "white",
                      "ticks": "",
                      "title": {
                        "standoff": 15
                      },
                      "zerolinecolor": "white",
                      "zerolinewidth": 2
                    },
                    "yaxis": {
                      "automargin": true,
                      "gridcolor": "white",
                      "linecolor": "white",
                      "ticks": "",
                      "title": {
                        "standoff": 15
                      },
                      "zerolinecolor": "white",
                      "zerolinewidth": 2
                    }
                  }
                },
                "title": {
                  "text": "Highest activating images for layer 4"
                },
                "xaxis": {
                  "anchor": "y",
                  "domain": [
                    0,
                    0.08200000000000002
                  ]
                },
                "xaxis10": {
                  "anchor": "y10",
                  "domain": [
                    0.9180000000000001,
                    1
                  ],
                  "matches": "x"
                },
                "xaxis2": {
                  "anchor": "y2",
                  "domain": [
                    0.10200000000000002,
                    0.18400000000000005
                  ],
                  "matches": "x"
                },
                "xaxis3": {
                  "anchor": "y3",
                  "domain": [
                    0.20400000000000004,
                    0.28600000000000003
                  ],
                  "matches": "x"
                },
                "xaxis4": {
                  "anchor": "y4",
                  "domain": [
                    0.30600000000000005,
                    0.38800000000000007
                  ],
                  "matches": "x"
                },
                "xaxis5": {
                  "anchor": "y5",
                  "domain": [
                    0.4080000000000001,
                    0.4900000000000001
                  ],
                  "matches": "x"
                },
                "xaxis6": {
                  "anchor": "y6",
                  "domain": [
                    0.5100000000000001,
                    0.5920000000000001
                  ],
                  "matches": "x"
                },
                "xaxis7": {
                  "anchor": "y7",
                  "domain": [
                    0.6120000000000001,
                    0.6940000000000002
                  ],
                  "matches": "x"
                },
                "xaxis8": {
                  "anchor": "y8",
                  "domain": [
                    0.7140000000000001,
                    0.796
                  ],
                  "matches": "x"
                },
                "xaxis9": {
                  "anchor": "y9",
                  "domain": [
                    0.8160000000000002,
                    0.8980000000000001
                  ],
                  "matches": "x"
                },
                "yaxis": {
                  "anchor": "x",
                  "domain": [
                    0,
                    1
                  ]
                },
                "yaxis10": {
                  "anchor": "x10",
                  "domain": [
                    0,
                    1
                  ],
                  "matches": "y",
                  "showticklabels": false
                },
                "yaxis2": {
                  "anchor": "x2",
                  "domain": [
                    0,
                    1
                  ],
                  "matches": "y",
                  "showticklabels": false
                },
                "yaxis3": {
                  "anchor": "x3",
                  "domain": [
                    0,
                    1
                  ],
                  "matches": "y",
                  "showticklabels": false
                },
                "yaxis4": {
                  "anchor": "x4",
                  "domain": [
                    0,
                    1
                  ],
                  "matches": "y",
                  "showticklabels": false
                },
                "yaxis5": {
                  "anchor": "x5",
                  "domain": [
                    0,
                    1
                  ],
                  "matches": "y",
                  "showticklabels": false
                },
                "yaxis6": {
                  "anchor": "x6",
                  "domain": [
                    0,
                    1
                  ],
                  "matches": "y",
                  "showticklabels": false
                },
                "yaxis7": {
                  "anchor": "x7",
                  "domain": [
                    0,
                    1
                  ],
                  "matches": "y",
                  "showticklabels": false
                },
                "yaxis8": {
                  "anchor": "x8",
                  "domain": [
                    0,
                    1
                  ],
                  "matches": "y",
                  "showticklabels": false
                },
                "yaxis9": {
                  "anchor": "x9",
                  "domain": [
                    0,
                    1
                  ],
                  "matches": "y",
                  "showticklabels": false
                }
              }
            }
          },
          "metadata": {},
          "output_type": "display_data"
        },
        {
          "data": {
            "application/vnd.plotly.v1+json": {
              "config": {
                "plotlyServerURL": "https://plot.ly"
              },
              "data": [
                {
                  "hovertemplate": "x: %{x}<br>y: %{y}<extra></extra>",
                  "name": "0",
                  "source": "data:image/png;base64,iVBORw0KGgoAAAANSUhEUgAAABwAAAAcCAAAAABXZoBIAAABN0lEQVR4Xr2Rv0sCYRyHP+KPToQbUrIQkeimGmoIW2yoJchADKwlkGq3JQhaIoLWxqbGQEmwNomm2qJzKS6Ufk0RF4idwRn0vbfBznvv/QP8LN/3eZ7xBfo/z/8Ne/BLaLtaNw4djCf9rG2i+nj2KsbaJJ50BqQYvs/LVybXgQLNSAAQTqzvvtON4ooDGYcT+9aJ/fYBwM9Fr4E6LOWK9qJTcyPZUK3AOwDAbFG/bBCplUxQTMCbZVnM2I6IHgCQL2uaQUSnywExdRdLHz5YdLsgenuBxRKZlUHOyNdbHOVarDHq4AalHQCUEr3EejTd+shzEd4jUh1a/SI15yC8deJoYs+w7iubKxEZAKQ1owM4n434zrziY2jWmabExz6X7vgIQMmGhp+TUTmoV4+bnOfnl0TTz/0BMbtnNpiYjhkAAAAASUVORK5CYII=",
                  "type": "image",
                  "xaxis": "x",
                  "yaxis": "y"
                },
                {
                  "hovertemplate": "x: %{x}<br>y: %{y}<extra></extra>",
                  "name": "1",
                  "source": "data:image/png;base64,iVBORw0KGgoAAAANSUhEUgAAABwAAAAcCAAAAABXZoBIAAABQklEQVR4XsXRvyvEcRzH8ScuA9+TX+UUia6UQcrGgG7CYJFYDL6DWCwMKGW53cBmZ5PhkiLJLbcoIuEo3eX8OHR+dnndGb73w/f7B/BaPu/35/FePp83/F/KO1ZWU+nU6UpvkZOYPFM2G/nbAgB8ARc8x9df6OlL921ToURuovpSOja9AKXj01XUhI6bckhQ8uc7BqTWfLcgfQzmupmoDY2Y9L5mAFC3n1RiqjiPuLckxeZq8ZpfUrzrFwFlE0lJ0ZNH6TvYbTegfs965+eYUwBKziVJ93VOADrjUiQi6bzfSfgfFJv1eDYlXZsO63jTTSlQNHonJUdsZhzqtt0qm0PSqQ2HpcVsXXmlV6tyWccz+Fp2LnaAbtdDQ2bMWhnFgR6AMNBYCB/uDGcyNH9wZP2C9LRkNwCjbXlXUtj8tcw/zw9/mZqSH+fsUQAAAABJRU5ErkJggg==",
                  "type": "image",
                  "xaxis": "x2",
                  "yaxis": "y2"
                },
                {
                  "hovertemplate": "x: %{x}<br>y: %{y}<extra></extra>",
                  "name": "2",
                  "source": "data:image/png;base64,iVBORw0KGgoAAAANSUhEUgAAABwAAAAcCAAAAABXZoBIAAABE0lEQVR4XtWPuy9DYRyGX6cuqRMSA4tEhDQNCWewGkwSkZhMBhKbTZq4jJgkIv4AnQwWJjYqQnLiMunSNI0OEksjBEtd+pwanPtfwDu9z/fk932/T/rDaeuJn3jp37WLr7Y9ZMSFpPkHAHDWO+JKC59Q2NoBh6dMZ9SlnqnOJWVa1vU35Mcj8hwW3boGVKfD0iGXcKtxdXdCqTsig5uWC9Y9Z02S5G0eLPFuljMa2/RZdSfv93SvtOpUgh9lqU36IGnggz0f0m+cmiGpAwjAhtxggDoKy9Z9eNkeafml4cMaG5IaXGtMZLuk4pddbpxRKqnLlVtvUJLalx4BB4CLKVMKJiWpeTbRN1ov3ei4Enrx3+QHz1Fwzi1+fEAAAAAASUVORK5CYII=",
                  "type": "image",
                  "xaxis": "x3",
                  "yaxis": "y3"
                },
                {
                  "hovertemplate": "x: %{x}<br>y: %{y}<extra></extra>",
                  "name": "3",
                  "source": "data:image/png;base64,iVBORw0KGgoAAAANSUhEUgAAABwAAAAcCAAAAABXZoBIAAABF0lEQVR4Xs2RsSuEYRzHP6frjeFMLErUOyiZLU6WQzEwmSWTLLIgww3yD1hMSjJIJCwGddt1NnGXWLiBJCU6p8v3eQ3v+9zrnn+Az/I8v+/nN/ye3wP/jATASnB94gqIpAm+v6IyW2NkZ/93h5HFSFLe5kmAuWFoH4ibLQl7yZwBlO8ovh6WYh8yLamW9d0YgNSl9DLuhE3Rme6B5qntGVs3shpOu7nhtyZdR/fSlX3Kbq8rASbWc8YYY4K9RVcBeKm1U0mqzLsmpKWj/14SxNPGVB+9JyeaLWyFl8HMwZukW6ivr+2i632hxOhQkPYAPvseQgEwWZUkKZCkSjHfuKvccyQ/ystjNqz/SueRz3EBbs5t8jf8ANQ4gIuQIU1YAAAAAElFTkSuQmCC",
                  "type": "image",
                  "xaxis": "x4",
                  "yaxis": "y4"
                },
                {
                  "hovertemplate": "x: %{x}<br>y: %{y}<extra></extra>",
                  "name": "4",
                  "source": "data:image/png;base64,iVBORw0KGgoAAAANSUhEUgAAABwAAAAcCAAAAABXZoBIAAAAjklEQVR4Xs2QQQ7CQAzEDOJfDC8jP0t52XDYTbsExA0J39aO1DTwp0QXRXgnQy3mEcfAGsN25jqiEU7rEHB93LteSdvuciDbdnQNwPhkdA3MlqrneUlofbwxz6Hui/ha0b7Sx7/19C8LdWbM3I3SsAFwGUIbIAR3gO02BoE6zIGWhvIIGVG6tlWdJ6b4IU/pZHwfDNJx6QAAAABJRU5ErkJggg==",
                  "type": "image",
                  "xaxis": "x5",
                  "yaxis": "y5"
                },
                {
                  "hovertemplate": "x: %{x}<br>y: %{y}<extra></extra>",
                  "name": "5",
                  "source": "data:image/png;base64,iVBORw0KGgoAAAANSUhEUgAAABwAAAAcCAAAAABXZoBIAAABKklEQVR4Xr3QvUtCURzG8e9NS8tBjCKSImkpl5ZosZfBxKWCkJb6AxpqbKihliCcg5SQguZyLzCbGrQ9wSmKopYabtAbPNSgV0/3D/CZnnM+h3P4HWh9LKf4ArEpBlas3+vztHkA8O8U5cRe6DLJmyxK0lcpn0ql9qWsid2SdJWcBGBMeh01cEMqJDrqi7xUMu+N6Mjv9IykJcOwAt56a1uzpQOPiY2EMpJu3bsA1sTJvaSHETcA/Vu1MSvHbgHWayZ9bsbcxuy3VEhEo6unel92I4u7fT6AUEUfEZc1E67qphOgDYDe7cYnAD/PjBvrwbfckNM9M3eSQk3kTE97w0BPPH4hSdl2A6dfpMdyuVytTZMxX4HwvO3MaR8m/hsQvJSkXHou6JaW5g/2PI9nldsebAAAAABJRU5ErkJggg==",
                  "type": "image",
                  "xaxis": "x6",
                  "yaxis": "y6"
                },
                {
                  "hovertemplate": "x: %{x}<br>y: %{y}<extra></extra>",
                  "name": "6",
                  "source": "data:image/png;base64,iVBORw0KGgoAAAANSUhEUgAAABwAAAAcCAAAAABXZoBIAAABEUlEQVR4Xs2QP0uCURjFf5VGYBiBLhXxRn8IoqDJsaiGiJagPWhsCYdoCaHRoG8QBLb0AWxoCF43KcKWliKzJQKF2jR7Ozbovdy3T+CZzjm/e597eaCbFU+Ec4/j9/eGzq4mgdKj0wLQfx5ICiTpJ5sEnJvTl4sAtfINy/OD+a1fAwCvokrx6KToAczkdeyw4Vd9TkQg0o4D1a+0ZdFDfa/aBGxL1i9Juw6CNQc+qNYZ2FEb9gKwoGwQglGaFtK4DjFS3FrfUug7JOs6taGlDWePfZtlfUzZeCHtGD+b9qVSAsz6xn2vWbh/eV6HlbkY1Vymbs4CY7lARo3MaKe1T6UO4oy8g//2dGe6kGL/i27THyDdY62bpWGMAAAAAElFTkSuQmCC",
                  "type": "image",
                  "xaxis": "x7",
                  "yaxis": "y7"
                },
                {
                  "hovertemplate": "x: %{x}<br>y: %{y}<extra></extra>",
                  "name": "7",
                  "source": "data:image/png;base64,iVBORw0KGgoAAAANSUhEUgAAABwAAAAcCAAAAABXZoBIAAABEUlEQVR4Xs3LTStEUQDG8eeyGjWTUhbKSxNzS8pLUSZFzMaWD2CjRM3CwgZ7CxsbrGTLhrJCMUtNNjakZIgs1HgZNWle7p/FjHOu+wnmWZ3/+Z0j1e769zOXU8HL6tbKQL6tsSkIUuTUg2yJh6vS7kAQF3k7GGrp3Pv2oHA06KeGZe+6T5K6kxPbQHbFh618RSVJTr2c0CHkuiwuMWlDsXtYMNWTP6/zoaLwZGK0MOIjydkCE/P2XWWJCtZJ0vR/kqSUOX0EfsZzhRkTF+8dVqThdHndVorHdhPx2RtWrSkJn5vjbnPYdd2NIj/HIR/G0h7Ayy0AmbmwzyQlTu6obsfeOn+HSO+YJD2fvRYN1tx+AXxTcYRMGfO2AAAAAElFTkSuQmCC",
                  "type": "image",
                  "xaxis": "x8",
                  "yaxis": "y8"
                },
                {
                  "hovertemplate": "x: %{x}<br>y: %{y}<extra></extra>",
                  "name": "8",
                  "source": "data:image/png;base64,iVBORw0KGgoAAAANSUhEUgAAABwAAAAcCAAAAABXZoBIAAAA4UlEQVR4XmNgGDaAEZkTLvx0IzIfCahc+vXvx7NTgejiDAwMDAyx//79+/fv3892LNINzyCS//79utGCKqXc+uvfkw0eurq6rnv+/fvdrook1/zo37+tyhA2h9+/f//uqyAkf/77d9gMxuHwePLvfw1cLu7vvw3scB4Dg/qaf3cZGBiYGBgYGBgsGRnafyLk2CRMGNjgvBf//223hnIV9e13/v/3N40BFkJZUxgYGLZ/ZWBgYGCwlmRg+Hu1aR1EKQMDA8PUNzBP/vv371dPCEQUFrba5qW8UOaKk6uhrJECAFeMXSPSE64iAAAAAElFTkSuQmCC",
                  "type": "image",
                  "xaxis": "x9",
                  "yaxis": "y9"
                },
                {
                  "hovertemplate": "x: %{x}<br>y: %{y}<extra></extra>",
                  "name": "9",
                  "source": "data:image/png;base64,iVBORw0KGgoAAAANSUhEUgAAABwAAAAcCAAAAABXZoBIAAABBElEQVR4Xr2RMU/DMBCFnxFTuiZrsuK1ZW3GwghZkRizkp2RvWsl2NqRwm+IxGiJCQpbhViarEWw3DkMNqa5H9Dn4c7vky2/M7B/KbFPxhMAwPOtAACK9ZaJians2YtrILfsljF6lxVbg8QwNZv66sTd/K8VTzFaFsJ10kwloki4h66MFRJ891GIEjfdzztw9/bUx06tf6d9zTLJUJHLx9TUkgEopy2v2LLlNpUMQDqMbpbExC8CDEKM3FjeJQBGw9DGTL478FUvct8NKiW/Ktus5xoA9AOFk35C+Pg8Tk8fVZecqU5dejPo/C8n04WcMVAaN6OvuSQAEFcTvq9nR9Lfr34Bg5x67apSOHQAAAAASUVORK5CYII=",
                  "type": "image",
                  "xaxis": "x10",
                  "yaxis": "y10"
                }
              ],
              "layout": {
                "annotations": [
                  {
                    "font": {},
                    "showarrow": false,
                    "text": "3",
                    "x": 0.04100000000000001,
                    "xanchor": "center",
                    "xref": "paper",
                    "y": 1,
                    "yanchor": "bottom",
                    "yref": "paper"
                  },
                  {
                    "font": {},
                    "showarrow": false,
                    "text": "8",
                    "x": 0.14300000000000004,
                    "xanchor": "center",
                    "xref": "paper",
                    "y": 1,
                    "yanchor": "bottom",
                    "yref": "paper"
                  },
                  {
                    "font": {},
                    "showarrow": false,
                    "text": "0",
                    "x": 0.24500000000000005,
                    "xanchor": "center",
                    "xref": "paper",
                    "y": 1,
                    "yanchor": "bottom",
                    "yref": "paper"
                  },
                  {
                    "font": {},
                    "showarrow": false,
                    "text": "3",
                    "x": 0.3470000000000001,
                    "xanchor": "center",
                    "xref": "paper",
                    "y": 1,
                    "yanchor": "bottom",
                    "yref": "paper"
                  },
                  {
                    "font": {},
                    "showarrow": false,
                    "text": "3",
                    "x": 0.44900000000000007,
                    "xanchor": "center",
                    "xref": "paper",
                    "y": 1,
                    "yanchor": "bottom",
                    "yref": "paper"
                  },
                  {
                    "font": {},
                    "showarrow": false,
                    "text": "3",
                    "x": 0.5510000000000002,
                    "xanchor": "center",
                    "xref": "paper",
                    "y": 1,
                    "yanchor": "bottom",
                    "yref": "paper"
                  },
                  {
                    "font": {},
                    "showarrow": false,
                    "text": "0",
                    "x": 0.6530000000000001,
                    "xanchor": "center",
                    "xref": "paper",
                    "y": 1,
                    "yanchor": "bottom",
                    "yref": "paper"
                  },
                  {
                    "font": {},
                    "showarrow": false,
                    "text": "0",
                    "x": 0.7550000000000001,
                    "xanchor": "center",
                    "xref": "paper",
                    "y": 1,
                    "yanchor": "bottom",
                    "yref": "paper"
                  },
                  {
                    "font": {},
                    "showarrow": false,
                    "text": "0",
                    "x": 0.8570000000000002,
                    "xanchor": "center",
                    "xref": "paper",
                    "y": 1,
                    "yanchor": "bottom",
                    "yref": "paper"
                  },
                  {
                    "font": {},
                    "showarrow": false,
                    "text": "5",
                    "x": 0.9590000000000002,
                    "xanchor": "center",
                    "xref": "paper",
                    "y": 1,
                    "yanchor": "bottom",
                    "yref": "paper"
                  }
                ],
                "margin": {
                  "b": 0
                },
                "template": {
                  "data": {
                    "bar": [
                      {
                        "error_x": {
                          "color": "#2a3f5f"
                        },
                        "error_y": {
                          "color": "#2a3f5f"
                        },
                        "marker": {
                          "line": {
                            "color": "#E5ECF6",
                            "width": 0.5
                          },
                          "pattern": {
                            "fillmode": "overlay",
                            "size": 10,
                            "solidity": 0.2
                          }
                        },
                        "type": "bar"
                      }
                    ],
                    "barpolar": [
                      {
                        "marker": {
                          "line": {
                            "color": "#E5ECF6",
                            "width": 0.5
                          },
                          "pattern": {
                            "fillmode": "overlay",
                            "size": 10,
                            "solidity": 0.2
                          }
                        },
                        "type": "barpolar"
                      }
                    ],
                    "carpet": [
                      {
                        "aaxis": {
                          "endlinecolor": "#2a3f5f",
                          "gridcolor": "white",
                          "linecolor": "white",
                          "minorgridcolor": "white",
                          "startlinecolor": "#2a3f5f"
                        },
                        "baxis": {
                          "endlinecolor": "#2a3f5f",
                          "gridcolor": "white",
                          "linecolor": "white",
                          "minorgridcolor": "white",
                          "startlinecolor": "#2a3f5f"
                        },
                        "type": "carpet"
                      }
                    ],
                    "choropleth": [
                      {
                        "colorbar": {
                          "outlinewidth": 0,
                          "ticks": ""
                        },
                        "type": "choropleth"
                      }
                    ],
                    "contour": [
                      {
                        "colorbar": {
                          "outlinewidth": 0,
                          "ticks": ""
                        },
                        "colorscale": [
                          [
                            0,
                            "#0d0887"
                          ],
                          [
                            0.1111111111111111,
                            "#46039f"
                          ],
                          [
                            0.2222222222222222,
                            "#7201a8"
                          ],
                          [
                            0.3333333333333333,
                            "#9c179e"
                          ],
                          [
                            0.4444444444444444,
                            "#bd3786"
                          ],
                          [
                            0.5555555555555556,
                            "#d8576b"
                          ],
                          [
                            0.6666666666666666,
                            "#ed7953"
                          ],
                          [
                            0.7777777777777778,
                            "#fb9f3a"
                          ],
                          [
                            0.8888888888888888,
                            "#fdca26"
                          ],
                          [
                            1,
                            "#f0f921"
                          ]
                        ],
                        "type": "contour"
                      }
                    ],
                    "contourcarpet": [
                      {
                        "colorbar": {
                          "outlinewidth": 0,
                          "ticks": ""
                        },
                        "type": "contourcarpet"
                      }
                    ],
                    "heatmap": [
                      {
                        "colorbar": {
                          "outlinewidth": 0,
                          "ticks": ""
                        },
                        "colorscale": [
                          [
                            0,
                            "#0d0887"
                          ],
                          [
                            0.1111111111111111,
                            "#46039f"
                          ],
                          [
                            0.2222222222222222,
                            "#7201a8"
                          ],
                          [
                            0.3333333333333333,
                            "#9c179e"
                          ],
                          [
                            0.4444444444444444,
                            "#bd3786"
                          ],
                          [
                            0.5555555555555556,
                            "#d8576b"
                          ],
                          [
                            0.6666666666666666,
                            "#ed7953"
                          ],
                          [
                            0.7777777777777778,
                            "#fb9f3a"
                          ],
                          [
                            0.8888888888888888,
                            "#fdca26"
                          ],
                          [
                            1,
                            "#f0f921"
                          ]
                        ],
                        "type": "heatmap"
                      }
                    ],
                    "heatmapgl": [
                      {
                        "colorbar": {
                          "outlinewidth": 0,
                          "ticks": ""
                        },
                        "colorscale": [
                          [
                            0,
                            "#0d0887"
                          ],
                          [
                            0.1111111111111111,
                            "#46039f"
                          ],
                          [
                            0.2222222222222222,
                            "#7201a8"
                          ],
                          [
                            0.3333333333333333,
                            "#9c179e"
                          ],
                          [
                            0.4444444444444444,
                            "#bd3786"
                          ],
                          [
                            0.5555555555555556,
                            "#d8576b"
                          ],
                          [
                            0.6666666666666666,
                            "#ed7953"
                          ],
                          [
                            0.7777777777777778,
                            "#fb9f3a"
                          ],
                          [
                            0.8888888888888888,
                            "#fdca26"
                          ],
                          [
                            1,
                            "#f0f921"
                          ]
                        ],
                        "type": "heatmapgl"
                      }
                    ],
                    "histogram": [
                      {
                        "marker": {
                          "pattern": {
                            "fillmode": "overlay",
                            "size": 10,
                            "solidity": 0.2
                          }
                        },
                        "type": "histogram"
                      }
                    ],
                    "histogram2d": [
                      {
                        "colorbar": {
                          "outlinewidth": 0,
                          "ticks": ""
                        },
                        "colorscale": [
                          [
                            0,
                            "#0d0887"
                          ],
                          [
                            0.1111111111111111,
                            "#46039f"
                          ],
                          [
                            0.2222222222222222,
                            "#7201a8"
                          ],
                          [
                            0.3333333333333333,
                            "#9c179e"
                          ],
                          [
                            0.4444444444444444,
                            "#bd3786"
                          ],
                          [
                            0.5555555555555556,
                            "#d8576b"
                          ],
                          [
                            0.6666666666666666,
                            "#ed7953"
                          ],
                          [
                            0.7777777777777778,
                            "#fb9f3a"
                          ],
                          [
                            0.8888888888888888,
                            "#fdca26"
                          ],
                          [
                            1,
                            "#f0f921"
                          ]
                        ],
                        "type": "histogram2d"
                      }
                    ],
                    "histogram2dcontour": [
                      {
                        "colorbar": {
                          "outlinewidth": 0,
                          "ticks": ""
                        },
                        "colorscale": [
                          [
                            0,
                            "#0d0887"
                          ],
                          [
                            0.1111111111111111,
                            "#46039f"
                          ],
                          [
                            0.2222222222222222,
                            "#7201a8"
                          ],
                          [
                            0.3333333333333333,
                            "#9c179e"
                          ],
                          [
                            0.4444444444444444,
                            "#bd3786"
                          ],
                          [
                            0.5555555555555556,
                            "#d8576b"
                          ],
                          [
                            0.6666666666666666,
                            "#ed7953"
                          ],
                          [
                            0.7777777777777778,
                            "#fb9f3a"
                          ],
                          [
                            0.8888888888888888,
                            "#fdca26"
                          ],
                          [
                            1,
                            "#f0f921"
                          ]
                        ],
                        "type": "histogram2dcontour"
                      }
                    ],
                    "mesh3d": [
                      {
                        "colorbar": {
                          "outlinewidth": 0,
                          "ticks": ""
                        },
                        "type": "mesh3d"
                      }
                    ],
                    "parcoords": [
                      {
                        "line": {
                          "colorbar": {
                            "outlinewidth": 0,
                            "ticks": ""
                          }
                        },
                        "type": "parcoords"
                      }
                    ],
                    "pie": [
                      {
                        "automargin": true,
                        "type": "pie"
                      }
                    ],
                    "scatter": [
                      {
                        "marker": {
                          "colorbar": {
                            "outlinewidth": 0,
                            "ticks": ""
                          }
                        },
                        "type": "scatter"
                      }
                    ],
                    "scatter3d": [
                      {
                        "line": {
                          "colorbar": {
                            "outlinewidth": 0,
                            "ticks": ""
                          }
                        },
                        "marker": {
                          "colorbar": {
                            "outlinewidth": 0,
                            "ticks": ""
                          }
                        },
                        "type": "scatter3d"
                      }
                    ],
                    "scattercarpet": [
                      {
                        "marker": {
                          "colorbar": {
                            "outlinewidth": 0,
                            "ticks": ""
                          }
                        },
                        "type": "scattercarpet"
                      }
                    ],
                    "scattergeo": [
                      {
                        "marker": {
                          "colorbar": {
                            "outlinewidth": 0,
                            "ticks": ""
                          }
                        },
                        "type": "scattergeo"
                      }
                    ],
                    "scattergl": [
                      {
                        "marker": {
                          "colorbar": {
                            "outlinewidth": 0,
                            "ticks": ""
                          }
                        },
                        "type": "scattergl"
                      }
                    ],
                    "scattermapbox": [
                      {
                        "marker": {
                          "colorbar": {
                            "outlinewidth": 0,
                            "ticks": ""
                          }
                        },
                        "type": "scattermapbox"
                      }
                    ],
                    "scatterpolar": [
                      {
                        "marker": {
                          "colorbar": {
                            "outlinewidth": 0,
                            "ticks": ""
                          }
                        },
                        "type": "scatterpolar"
                      }
                    ],
                    "scatterpolargl": [
                      {
                        "marker": {
                          "colorbar": {
                            "outlinewidth": 0,
                            "ticks": ""
                          }
                        },
                        "type": "scatterpolargl"
                      }
                    ],
                    "scatterternary": [
                      {
                        "marker": {
                          "colorbar": {
                            "outlinewidth": 0,
                            "ticks": ""
                          }
                        },
                        "type": "scatterternary"
                      }
                    ],
                    "surface": [
                      {
                        "colorbar": {
                          "outlinewidth": 0,
                          "ticks": ""
                        },
                        "colorscale": [
                          [
                            0,
                            "#0d0887"
                          ],
                          [
                            0.1111111111111111,
                            "#46039f"
                          ],
                          [
                            0.2222222222222222,
                            "#7201a8"
                          ],
                          [
                            0.3333333333333333,
                            "#9c179e"
                          ],
                          [
                            0.4444444444444444,
                            "#bd3786"
                          ],
                          [
                            0.5555555555555556,
                            "#d8576b"
                          ],
                          [
                            0.6666666666666666,
                            "#ed7953"
                          ],
                          [
                            0.7777777777777778,
                            "#fb9f3a"
                          ],
                          [
                            0.8888888888888888,
                            "#fdca26"
                          ],
                          [
                            1,
                            "#f0f921"
                          ]
                        ],
                        "type": "surface"
                      }
                    ],
                    "table": [
                      {
                        "cells": {
                          "fill": {
                            "color": "#EBF0F8"
                          },
                          "line": {
                            "color": "white"
                          }
                        },
                        "header": {
                          "fill": {
                            "color": "#C8D4E3"
                          },
                          "line": {
                            "color": "white"
                          }
                        },
                        "type": "table"
                      }
                    ]
                  },
                  "layout": {
                    "annotationdefaults": {
                      "arrowcolor": "#2a3f5f",
                      "arrowhead": 0,
                      "arrowwidth": 1
                    },
                    "autotypenumbers": "strict",
                    "coloraxis": {
                      "colorbar": {
                        "outlinewidth": 0,
                        "ticks": ""
                      }
                    },
                    "colorscale": {
                      "diverging": [
                        [
                          0,
                          "#8e0152"
                        ],
                        [
                          0.1,
                          "#c51b7d"
                        ],
                        [
                          0.2,
                          "#de77ae"
                        ],
                        [
                          0.3,
                          "#f1b6da"
                        ],
                        [
                          0.4,
                          "#fde0ef"
                        ],
                        [
                          0.5,
                          "#f7f7f7"
                        ],
                        [
                          0.6,
                          "#e6f5d0"
                        ],
                        [
                          0.7,
                          "#b8e186"
                        ],
                        [
                          0.8,
                          "#7fbc41"
                        ],
                        [
                          0.9,
                          "#4d9221"
                        ],
                        [
                          1,
                          "#276419"
                        ]
                      ],
                      "sequential": [
                        [
                          0,
                          "#0d0887"
                        ],
                        [
                          0.1111111111111111,
                          "#46039f"
                        ],
                        [
                          0.2222222222222222,
                          "#7201a8"
                        ],
                        [
                          0.3333333333333333,
                          "#9c179e"
                        ],
                        [
                          0.4444444444444444,
                          "#bd3786"
                        ],
                        [
                          0.5555555555555556,
                          "#d8576b"
                        ],
                        [
                          0.6666666666666666,
                          "#ed7953"
                        ],
                        [
                          0.7777777777777778,
                          "#fb9f3a"
                        ],
                        [
                          0.8888888888888888,
                          "#fdca26"
                        ],
                        [
                          1,
                          "#f0f921"
                        ]
                      ],
                      "sequentialminus": [
                        [
                          0,
                          "#0d0887"
                        ],
                        [
                          0.1111111111111111,
                          "#46039f"
                        ],
                        [
                          0.2222222222222222,
                          "#7201a8"
                        ],
                        [
                          0.3333333333333333,
                          "#9c179e"
                        ],
                        [
                          0.4444444444444444,
                          "#bd3786"
                        ],
                        [
                          0.5555555555555556,
                          "#d8576b"
                        ],
                        [
                          0.6666666666666666,
                          "#ed7953"
                        ],
                        [
                          0.7777777777777778,
                          "#fb9f3a"
                        ],
                        [
                          0.8888888888888888,
                          "#fdca26"
                        ],
                        [
                          1,
                          "#f0f921"
                        ]
                      ]
                    },
                    "colorway": [
                      "#636efa",
                      "#EF553B",
                      "#00cc96",
                      "#ab63fa",
                      "#FFA15A",
                      "#19d3f3",
                      "#FF6692",
                      "#B6E880",
                      "#FF97FF",
                      "#FECB52"
                    ],
                    "font": {
                      "color": "#2a3f5f"
                    },
                    "geo": {
                      "bgcolor": "white",
                      "lakecolor": "white",
                      "landcolor": "#E5ECF6",
                      "showlakes": true,
                      "showland": true,
                      "subunitcolor": "white"
                    },
                    "hoverlabel": {
                      "align": "left"
                    },
                    "hovermode": "closest",
                    "mapbox": {
                      "style": "light"
                    },
                    "paper_bgcolor": "white",
                    "plot_bgcolor": "#E5ECF6",
                    "polar": {
                      "angularaxis": {
                        "gridcolor": "white",
                        "linecolor": "white",
                        "ticks": ""
                      },
                      "bgcolor": "#E5ECF6",
                      "radialaxis": {
                        "gridcolor": "white",
                        "linecolor": "white",
                        "ticks": ""
                      }
                    },
                    "scene": {
                      "xaxis": {
                        "backgroundcolor": "#E5ECF6",
                        "gridcolor": "white",
                        "gridwidth": 2,
                        "linecolor": "white",
                        "showbackground": true,
                        "ticks": "",
                        "zerolinecolor": "white"
                      },
                      "yaxis": {
                        "backgroundcolor": "#E5ECF6",
                        "gridcolor": "white",
                        "gridwidth": 2,
                        "linecolor": "white",
                        "showbackground": true,
                        "ticks": "",
                        "zerolinecolor": "white"
                      },
                      "zaxis": {
                        "backgroundcolor": "#E5ECF6",
                        "gridcolor": "white",
                        "gridwidth": 2,
                        "linecolor": "white",
                        "showbackground": true,
                        "ticks": "",
                        "zerolinecolor": "white"
                      }
                    },
                    "shapedefaults": {
                      "line": {
                        "color": "#2a3f5f"
                      }
                    },
                    "ternary": {
                      "aaxis": {
                        "gridcolor": "white",
                        "linecolor": "white",
                        "ticks": ""
                      },
                      "baxis": {
                        "gridcolor": "white",
                        "linecolor": "white",
                        "ticks": ""
                      },
                      "bgcolor": "#E5ECF6",
                      "caxis": {
                        "gridcolor": "white",
                        "linecolor": "white",
                        "ticks": ""
                      }
                    },
                    "title": {
                      "x": 0.05
                    },
                    "xaxis": {
                      "automargin": true,
                      "gridcolor": "white",
                      "linecolor": "white",
                      "ticks": "",
                      "title": {
                        "standoff": 15
                      },
                      "zerolinecolor": "white",
                      "zerolinewidth": 2
                    },
                    "yaxis": {
                      "automargin": true,
                      "gridcolor": "white",
                      "linecolor": "white",
                      "ticks": "",
                      "title": {
                        "standoff": 15
                      },
                      "zerolinecolor": "white",
                      "zerolinewidth": 2
                    }
                  }
                },
                "title": {
                  "text": "Highest activating images for layer 5"
                },
                "xaxis": {
                  "anchor": "y",
                  "domain": [
                    0,
                    0.08200000000000002
                  ]
                },
                "xaxis10": {
                  "anchor": "y10",
                  "domain": [
                    0.9180000000000001,
                    1
                  ],
                  "matches": "x"
                },
                "xaxis2": {
                  "anchor": "y2",
                  "domain": [
                    0.10200000000000002,
                    0.18400000000000005
                  ],
                  "matches": "x"
                },
                "xaxis3": {
                  "anchor": "y3",
                  "domain": [
                    0.20400000000000004,
                    0.28600000000000003
                  ],
                  "matches": "x"
                },
                "xaxis4": {
                  "anchor": "y4",
                  "domain": [
                    0.30600000000000005,
                    0.38800000000000007
                  ],
                  "matches": "x"
                },
                "xaxis5": {
                  "anchor": "y5",
                  "domain": [
                    0.4080000000000001,
                    0.4900000000000001
                  ],
                  "matches": "x"
                },
                "xaxis6": {
                  "anchor": "y6",
                  "domain": [
                    0.5100000000000001,
                    0.5920000000000001
                  ],
                  "matches": "x"
                },
                "xaxis7": {
                  "anchor": "y7",
                  "domain": [
                    0.6120000000000001,
                    0.6940000000000002
                  ],
                  "matches": "x"
                },
                "xaxis8": {
                  "anchor": "y8",
                  "domain": [
                    0.7140000000000001,
                    0.796
                  ],
                  "matches": "x"
                },
                "xaxis9": {
                  "anchor": "y9",
                  "domain": [
                    0.8160000000000002,
                    0.8980000000000001
                  ],
                  "matches": "x"
                },
                "yaxis": {
                  "anchor": "x",
                  "domain": [
                    0,
                    1
                  ]
                },
                "yaxis10": {
                  "anchor": "x10",
                  "domain": [
                    0,
                    1
                  ],
                  "matches": "y",
                  "showticklabels": false
                },
                "yaxis2": {
                  "anchor": "x2",
                  "domain": [
                    0,
                    1
                  ],
                  "matches": "y",
                  "showticklabels": false
                },
                "yaxis3": {
                  "anchor": "x3",
                  "domain": [
                    0,
                    1
                  ],
                  "matches": "y",
                  "showticklabels": false
                },
                "yaxis4": {
                  "anchor": "x4",
                  "domain": [
                    0,
                    1
                  ],
                  "matches": "y",
                  "showticklabels": false
                },
                "yaxis5": {
                  "anchor": "x5",
                  "domain": [
                    0,
                    1
                  ],
                  "matches": "y",
                  "showticklabels": false
                },
                "yaxis6": {
                  "anchor": "x6",
                  "domain": [
                    0,
                    1
                  ],
                  "matches": "y",
                  "showticklabels": false
                },
                "yaxis7": {
                  "anchor": "x7",
                  "domain": [
                    0,
                    1
                  ],
                  "matches": "y",
                  "showticklabels": false
                },
                "yaxis8": {
                  "anchor": "x8",
                  "domain": [
                    0,
                    1
                  ],
                  "matches": "y",
                  "showticklabels": false
                },
                "yaxis9": {
                  "anchor": "x9",
                  "domain": [
                    0,
                    1
                  ],
                  "matches": "y",
                  "showticklabels": false
                }
              }
            }
          },
          "metadata": {},
          "output_type": "display_data"
        },
        {
          "data": {
            "application/vnd.plotly.v1+json": {
              "config": {
                "plotlyServerURL": "https://plot.ly"
              },
              "data": [
                {
                  "hovertemplate": "x: %{x}<br>y: %{y}<extra></extra>",
                  "name": "0",
                  "source": "data:image/png;base64,iVBORw0KGgoAAAANSUhEUgAAABwAAAAcCAAAAABXZoBIAAAAdklEQVR4Xt2OwRECMQwDF4bCVJqpzKEy8SE5JweZe7MvWxrJhr9EEbbtsLU6rsxm2HaEIN2Tj242CAAkeLYuz2jkzsh2rOIH2c5V7OTvTjb30MaLzb3do+QpeDtGTxvAfUyCNpaVXEtLMsSrGlBrv3DNbEW8xBt6bEiXH/2y+gAAAABJRU5ErkJggg==",
                  "type": "image",
                  "xaxis": "x",
                  "yaxis": "y"
                },
                {
                  "hovertemplate": "x: %{x}<br>y: %{y}<extra></extra>",
                  "name": "1",
                  "source": "data:image/png;base64,iVBORw0KGgoAAAANSUhEUgAAABwAAAAcCAAAAABXZoBIAAAA40lEQVR4XmNgoAlgROPzx3o8WHMAymFBlhEMsrdUZGB4AJNkQpb0mWl65xyyADKwzhFlcPvzxwtdHA7c/vxBF0KAnX870YXgwPjJHwd0MRhg3/VnJxu6IAw4/XlshC4GB5//NKELwQDn1v9LFdAFYaDoz3tFdDEYCP7wpxhdDAYEL/65hCqCiBXubdYMKq8zgw+8Ndm+EEkFAwMDA0Pi37+X9///+/fv3//n0eW8/v758+fP3z/Pr5170YImJ3X2758/f/6sdVXlZVCTRJNs+/P3z85yXTRRKLD99LkUZ6AOGgAAtTROoJB8MEUAAAAASUVORK5CYII=",
                  "type": "image",
                  "xaxis": "x2",
                  "yaxis": "y2"
                },
                {
                  "hovertemplate": "x: %{x}<br>y: %{y}<extra></extra>",
                  "name": "2",
                  "source": "data:image/png;base64,iVBORw0KGgoAAAANSUhEUgAAABwAAAAcCAAAAABXZoBIAAABIklEQVR4Xs2PMUtCYRSGH0PuVJGQhARNUlAQDZFT0BA0uOQQjm0J0SAtTQU1BTU0VLQIjU0RkWD0G0wrIh2FxCC5EOpQ8l4bbt9V7tAW9Czfy/N+h8OBP2bovuxXHqG8Sn5nCOXVPvBLw7504neG4aLsCb80PPwyiKOPqN9BwH06jh1203g/wFPbfAAcvQOweFOXJN3tjOFNOh07DAzcxig0nuszS1blfK87eQhwJF0MAmy8SKbDURHgUpp3RVqCPlOPmmAo95TWzykpI3ZNICW9rUBku9rMLgBklPbKYEHu1s2qmkmYbCjhlUSkr9MoMHucbeXWX7Ua8O4kkNyaplXJANZcgsd4rdMtYTkWn3JT6bp49Qm9JQRH1gA4q/XIf8U35MBr1203ZxMAAAAASUVORK5CYII=",
                  "type": "image",
                  "xaxis": "x3",
                  "yaxis": "y3"
                },
                {
                  "hovertemplate": "x: %{x}<br>y: %{y}<extra></extra>",
                  "name": "3",
                  "source": "data:image/png;base64,iVBORw0KGgoAAAANSUhEUgAAABwAAAAcCAAAAABXZoBIAAAA5klEQVR4XtWQsUoDQRRFzwYhpVZBTBc7PyBl/iB2AQu/QPAD0qVOwMYggRRWwVawERHEysJyO2EbQUyVStjmTsbC7Mvu284up3rvHGYYBnaJpDS3zk+TdPxZMsb+MJOCsisfACaSFKT8uesT7Q9Jb6NHSfe+cRP0028ykJQWbq8Yeo315AFIYFaLcR0jQIRYizl0W1wMgPfCGcdh81rNfQIWRTwxZddyuTxbcXRgu6MNU0l9E41S/IIcuDNRjsA3sLLNxQ6QVdWW1xBCsM2dTGP8+yigFqu4+ATcVtWW5vDl+tDLf/ALcgBbsRCAlwcAAAAASUVORK5CYII=",
                  "type": "image",
                  "xaxis": "x4",
                  "yaxis": "y4"
                },
                {
                  "hovertemplate": "x: %{x}<br>y: %{y}<extra></extra>",
                  "name": "4",
                  "source": "data:image/png;base64,iVBORw0KGgoAAAANSUhEUgAAABwAAAAcCAAAAABXZoBIAAAA4ElEQVR4XsWRPU4CURRGz/AjGFyAlRACxlBRUNFT2mBMXAAFMVEbOpZASWJhaUEhodKCxATXYFjB0NhZIIZkgC82vuHNXYCe6t5zXnGTB/9PV22rYq63u5Z1jmb0fWGdoxZGN9Y5SovNrXWOzGQ7ANKBDQA9jYDUU8cGoBi+nwEnmudtgnvdAdlHvdoClfVzAJSl/cEpN5znAoBLGMcxphZp0qC61EP83qO/0+d0qc2xDQBchZI0s/qXg8OGvoqeyHhzxBEfoSeSvGjor4nT6uYvE7GQXY38PcHp6s2qP+cHg909SspFQosAAAAASUVORK5CYII=",
                  "type": "image",
                  "xaxis": "x5",
                  "yaxis": "y5"
                },
                {
                  "hovertemplate": "x: %{x}<br>y: %{y}<extra></extra>",
                  "name": "5",
                  "source": "data:image/png;base64,iVBORw0KGgoAAAANSUhEUgAAABwAAAAcCAAAAABXZoBIAAAA2UlEQVR4Xt2NoQ7CQBBE5wi/gCSVUNuiK0FjCRrNR5DgsHiwBCTBQZAkSMBh2waH3blDXEnp9b6AObGTe3m7wN9EFTMZYbJ9PQ73Ci2yp1Ao75ULAASZpn157DLMJOtH0eBIYRq6UHMNADhR8xY4kHIBAAyEwqUDc+bTsBXEN2pqJlU4TinvZyaUZUpZVCFC6+gNLpr2BNAs5r3XTTrAaw4Y8zXqWZRmowIA4FGadQil4si2782flKYHKqiWbZ61xpiubV6zcbbNa+qiec3r1bY63LaHO/fPlw++RWhh1l7ckQAAAABJRU5ErkJggg==",
                  "type": "image",
                  "xaxis": "x6",
                  "yaxis": "y6"
                },
                {
                  "hovertemplate": "x: %{x}<br>y: %{y}<extra></extra>",
                  "name": "6",
                  "source": "data:image/png;base64,iVBORw0KGgoAAAANSUhEUgAAABwAAAAcCAAAAABXZoBIAAAA+0lEQVR4XmNgoAuwfFiC4LAgmAwMDAzKayX+I3hMCCYDAwPDVglkHopO1ulqz9lfIYsgAe9/v6ykmNFFIUD9879OdDE4aPz3lg9dDAY0fv2tUVUT4USIILnWn+XLt6s3Xp1pRwjBAd+Df1v/Pf7279+/Xazocgzp/y7zhIiqF9X8+dePLsdQ+e8khNHx7waqDAMDw9p/NhCGIFwS7iBm3b9nISwvmBACWP1bAWFYvv1XiyrFwGD1HyJp8fbvQowQVP5wioWBgbHuzb8mdCkGBoab/xIZxLr//atBl2BgYGAo//fz0Zt/d60xzGRgYGBga/79799EHnThQQUA7BJPrR6HQ54AAAAASUVORK5CYII=",
                  "type": "image",
                  "xaxis": "x7",
                  "yaxis": "y7"
                },
                {
                  "hovertemplate": "x: %{x}<br>y: %{y}<extra></extra>",
                  "name": "7",
                  "source": "data:image/png;base64,iVBORw0KGgoAAAANSUhEUgAAABwAAAAcCAAAAABXZoBIAAABNUlEQVR4Xs3SvUvDQBzG8ccMkmhaESoaiOAigqCu7lpHB4mBDjroIBZE/A8cWhfB1oqbQ3cLdpGCbiKVtqAgXbo4WEQDSqH4MtgncUjjJdkFf9N973NwHBzwz6Yn1JK+gZX3uefQNgCo2iZJsq6FBWOJmk2y+UFmQxQ9apM2b42RHbIhBzFPkvadDsy2yfWAzbSYzfB7EQBOyZTfBkssXD+yCgAwuyi5Ft1euCrGLjpF7/C9twCQYHNKHsCwCgAwyX5hao17opBhpVdUzu7ERU282EsAvDsdZ/9S4PSQUxYl12mIUqo8U0RG+KSLOuDbqChE2PhdK4b1uisISAqcPCFzfkOan1sAMG4eW2TSfaw3Wp1f+dJaxaLNVrovYMAqu3OYivm23W8iLc/HH8rAzbmP/mx+AKIlhSNkotIPAAAAAElFTkSuQmCC",
                  "type": "image",
                  "xaxis": "x8",
                  "yaxis": "y8"
                },
                {
                  "hovertemplate": "x: %{x}<br>y: %{y}<extra></extra>",
                  "name": "8",
                  "source": "data:image/png;base64,iVBORw0KGgoAAAANSUhEUgAAABwAAAAcCAAAAABXZoBIAAAAgElEQVR4Xs2PsQ2AMBADHZSGmoYC2kjUNJkBMQDrMCBZgAGYIoQS+4uUCHf3J/ll4IP4PdrTmzGLbBgAbAxW9gxGNk6IAbhjR2Rrh5bASolXlJdGrkVQaw8gEKq8gIVQa2cnX1UeBfxVawNwyoEz5TwQau1W25lqO1NtJ3Tn7/IADHgRMwTx/xsAAAAASUVORK5CYII=",
                  "type": "image",
                  "xaxis": "x9",
                  "yaxis": "y9"
                },
                {
                  "hovertemplate": "x: %{x}<br>y: %{y}<extra></extra>",
                  "name": "9",
                  "source": "data:image/png;base64,iVBORw0KGgoAAAANSUhEUgAAABwAAAAcCAAAAABXZoBIAAAA1klEQVR4XmNgGGDAWDD9bQkzuigU1P379+8fP7ooBCi/aeGa9h+HpGAfA8N9XDoZOBmM/1zkQBeFgzX/4tCFYIB9wo/LODVu+vdMA10MBhJ+/Ht/rZ0bXRgCjE49+PLv3ydddHEoENU0WfrPE10UAdS+tcDZTEjiDAwMDAy3fumgCyGBDx9EYUwMnQwMB17DWAhJFWcGBgYGhkjec3AhOGBf0sbAwMBg+Rqba13/7Sn2LD72/l80llDg2vbv379//7bGsaHLMDAwMPCZTnvTqMeILkxvAAC2ej79r95k0wAAAABJRU5ErkJggg==",
                  "type": "image",
                  "xaxis": "x10",
                  "yaxis": "y10"
                }
              ],
              "layout": {
                "annotations": [
                  {
                    "font": {},
                    "showarrow": false,
                    "text": "7",
                    "x": 0.04100000000000001,
                    "xanchor": "center",
                    "xref": "paper",
                    "y": 1,
                    "yanchor": "bottom",
                    "yref": "paper"
                  },
                  {
                    "font": {},
                    "showarrow": false,
                    "text": "2",
                    "x": 0.14300000000000004,
                    "xanchor": "center",
                    "xref": "paper",
                    "y": 1,
                    "yanchor": "bottom",
                    "yref": "paper"
                  },
                  {
                    "font": {},
                    "showarrow": false,
                    "text": "6",
                    "x": 0.24500000000000005,
                    "xanchor": "center",
                    "xref": "paper",
                    "y": 1,
                    "yanchor": "bottom",
                    "yref": "paper"
                  },
                  {
                    "font": {},
                    "showarrow": false,
                    "text": "9",
                    "x": 0.3470000000000001,
                    "xanchor": "center",
                    "xref": "paper",
                    "y": 1,
                    "yanchor": "bottom",
                    "yref": "paper"
                  },
                  {
                    "font": {},
                    "showarrow": false,
                    "text": "4",
                    "x": 0.44900000000000007,
                    "xanchor": "center",
                    "xref": "paper",
                    "y": 1,
                    "yanchor": "bottom",
                    "yref": "paper"
                  },
                  {
                    "font": {},
                    "showarrow": false,
                    "text": "9",
                    "x": 0.5510000000000002,
                    "xanchor": "center",
                    "xref": "paper",
                    "y": 1,
                    "yanchor": "bottom",
                    "yref": "paper"
                  },
                  {
                    "font": {},
                    "showarrow": false,
                    "text": "6",
                    "x": 0.6530000000000001,
                    "xanchor": "center",
                    "xref": "paper",
                    "y": 1,
                    "yanchor": "bottom",
                    "yref": "paper"
                  },
                  {
                    "font": {},
                    "showarrow": false,
                    "text": "0",
                    "x": 0.7550000000000001,
                    "xanchor": "center",
                    "xref": "paper",
                    "y": 1,
                    "yanchor": "bottom",
                    "yref": "paper"
                  },
                  {
                    "font": {},
                    "showarrow": false,
                    "text": "1",
                    "x": 0.8570000000000002,
                    "xanchor": "center",
                    "xref": "paper",
                    "y": 1,
                    "yanchor": "bottom",
                    "yref": "paper"
                  },
                  {
                    "font": {},
                    "showarrow": false,
                    "text": "3",
                    "x": 0.9590000000000002,
                    "xanchor": "center",
                    "xref": "paper",
                    "y": 1,
                    "yanchor": "bottom",
                    "yref": "paper"
                  }
                ],
                "margin": {
                  "b": 0
                },
                "template": {
                  "data": {
                    "bar": [
                      {
                        "error_x": {
                          "color": "#2a3f5f"
                        },
                        "error_y": {
                          "color": "#2a3f5f"
                        },
                        "marker": {
                          "line": {
                            "color": "#E5ECF6",
                            "width": 0.5
                          },
                          "pattern": {
                            "fillmode": "overlay",
                            "size": 10,
                            "solidity": 0.2
                          }
                        },
                        "type": "bar"
                      }
                    ],
                    "barpolar": [
                      {
                        "marker": {
                          "line": {
                            "color": "#E5ECF6",
                            "width": 0.5
                          },
                          "pattern": {
                            "fillmode": "overlay",
                            "size": 10,
                            "solidity": 0.2
                          }
                        },
                        "type": "barpolar"
                      }
                    ],
                    "carpet": [
                      {
                        "aaxis": {
                          "endlinecolor": "#2a3f5f",
                          "gridcolor": "white",
                          "linecolor": "white",
                          "minorgridcolor": "white",
                          "startlinecolor": "#2a3f5f"
                        },
                        "baxis": {
                          "endlinecolor": "#2a3f5f",
                          "gridcolor": "white",
                          "linecolor": "white",
                          "minorgridcolor": "white",
                          "startlinecolor": "#2a3f5f"
                        },
                        "type": "carpet"
                      }
                    ],
                    "choropleth": [
                      {
                        "colorbar": {
                          "outlinewidth": 0,
                          "ticks": ""
                        },
                        "type": "choropleth"
                      }
                    ],
                    "contour": [
                      {
                        "colorbar": {
                          "outlinewidth": 0,
                          "ticks": ""
                        },
                        "colorscale": [
                          [
                            0,
                            "#0d0887"
                          ],
                          [
                            0.1111111111111111,
                            "#46039f"
                          ],
                          [
                            0.2222222222222222,
                            "#7201a8"
                          ],
                          [
                            0.3333333333333333,
                            "#9c179e"
                          ],
                          [
                            0.4444444444444444,
                            "#bd3786"
                          ],
                          [
                            0.5555555555555556,
                            "#d8576b"
                          ],
                          [
                            0.6666666666666666,
                            "#ed7953"
                          ],
                          [
                            0.7777777777777778,
                            "#fb9f3a"
                          ],
                          [
                            0.8888888888888888,
                            "#fdca26"
                          ],
                          [
                            1,
                            "#f0f921"
                          ]
                        ],
                        "type": "contour"
                      }
                    ],
                    "contourcarpet": [
                      {
                        "colorbar": {
                          "outlinewidth": 0,
                          "ticks": ""
                        },
                        "type": "contourcarpet"
                      }
                    ],
                    "heatmap": [
                      {
                        "colorbar": {
                          "outlinewidth": 0,
                          "ticks": ""
                        },
                        "colorscale": [
                          [
                            0,
                            "#0d0887"
                          ],
                          [
                            0.1111111111111111,
                            "#46039f"
                          ],
                          [
                            0.2222222222222222,
                            "#7201a8"
                          ],
                          [
                            0.3333333333333333,
                            "#9c179e"
                          ],
                          [
                            0.4444444444444444,
                            "#bd3786"
                          ],
                          [
                            0.5555555555555556,
                            "#d8576b"
                          ],
                          [
                            0.6666666666666666,
                            "#ed7953"
                          ],
                          [
                            0.7777777777777778,
                            "#fb9f3a"
                          ],
                          [
                            0.8888888888888888,
                            "#fdca26"
                          ],
                          [
                            1,
                            "#f0f921"
                          ]
                        ],
                        "type": "heatmap"
                      }
                    ],
                    "heatmapgl": [
                      {
                        "colorbar": {
                          "outlinewidth": 0,
                          "ticks": ""
                        },
                        "colorscale": [
                          [
                            0,
                            "#0d0887"
                          ],
                          [
                            0.1111111111111111,
                            "#46039f"
                          ],
                          [
                            0.2222222222222222,
                            "#7201a8"
                          ],
                          [
                            0.3333333333333333,
                            "#9c179e"
                          ],
                          [
                            0.4444444444444444,
                            "#bd3786"
                          ],
                          [
                            0.5555555555555556,
                            "#d8576b"
                          ],
                          [
                            0.6666666666666666,
                            "#ed7953"
                          ],
                          [
                            0.7777777777777778,
                            "#fb9f3a"
                          ],
                          [
                            0.8888888888888888,
                            "#fdca26"
                          ],
                          [
                            1,
                            "#f0f921"
                          ]
                        ],
                        "type": "heatmapgl"
                      }
                    ],
                    "histogram": [
                      {
                        "marker": {
                          "pattern": {
                            "fillmode": "overlay",
                            "size": 10,
                            "solidity": 0.2
                          }
                        },
                        "type": "histogram"
                      }
                    ],
                    "histogram2d": [
                      {
                        "colorbar": {
                          "outlinewidth": 0,
                          "ticks": ""
                        },
                        "colorscale": [
                          [
                            0,
                            "#0d0887"
                          ],
                          [
                            0.1111111111111111,
                            "#46039f"
                          ],
                          [
                            0.2222222222222222,
                            "#7201a8"
                          ],
                          [
                            0.3333333333333333,
                            "#9c179e"
                          ],
                          [
                            0.4444444444444444,
                            "#bd3786"
                          ],
                          [
                            0.5555555555555556,
                            "#d8576b"
                          ],
                          [
                            0.6666666666666666,
                            "#ed7953"
                          ],
                          [
                            0.7777777777777778,
                            "#fb9f3a"
                          ],
                          [
                            0.8888888888888888,
                            "#fdca26"
                          ],
                          [
                            1,
                            "#f0f921"
                          ]
                        ],
                        "type": "histogram2d"
                      }
                    ],
                    "histogram2dcontour": [
                      {
                        "colorbar": {
                          "outlinewidth": 0,
                          "ticks": ""
                        },
                        "colorscale": [
                          [
                            0,
                            "#0d0887"
                          ],
                          [
                            0.1111111111111111,
                            "#46039f"
                          ],
                          [
                            0.2222222222222222,
                            "#7201a8"
                          ],
                          [
                            0.3333333333333333,
                            "#9c179e"
                          ],
                          [
                            0.4444444444444444,
                            "#bd3786"
                          ],
                          [
                            0.5555555555555556,
                            "#d8576b"
                          ],
                          [
                            0.6666666666666666,
                            "#ed7953"
                          ],
                          [
                            0.7777777777777778,
                            "#fb9f3a"
                          ],
                          [
                            0.8888888888888888,
                            "#fdca26"
                          ],
                          [
                            1,
                            "#f0f921"
                          ]
                        ],
                        "type": "histogram2dcontour"
                      }
                    ],
                    "mesh3d": [
                      {
                        "colorbar": {
                          "outlinewidth": 0,
                          "ticks": ""
                        },
                        "type": "mesh3d"
                      }
                    ],
                    "parcoords": [
                      {
                        "line": {
                          "colorbar": {
                            "outlinewidth": 0,
                            "ticks": ""
                          }
                        },
                        "type": "parcoords"
                      }
                    ],
                    "pie": [
                      {
                        "automargin": true,
                        "type": "pie"
                      }
                    ],
                    "scatter": [
                      {
                        "marker": {
                          "colorbar": {
                            "outlinewidth": 0,
                            "ticks": ""
                          }
                        },
                        "type": "scatter"
                      }
                    ],
                    "scatter3d": [
                      {
                        "line": {
                          "colorbar": {
                            "outlinewidth": 0,
                            "ticks": ""
                          }
                        },
                        "marker": {
                          "colorbar": {
                            "outlinewidth": 0,
                            "ticks": ""
                          }
                        },
                        "type": "scatter3d"
                      }
                    ],
                    "scattercarpet": [
                      {
                        "marker": {
                          "colorbar": {
                            "outlinewidth": 0,
                            "ticks": ""
                          }
                        },
                        "type": "scattercarpet"
                      }
                    ],
                    "scattergeo": [
                      {
                        "marker": {
                          "colorbar": {
                            "outlinewidth": 0,
                            "ticks": ""
                          }
                        },
                        "type": "scattergeo"
                      }
                    ],
                    "scattergl": [
                      {
                        "marker": {
                          "colorbar": {
                            "outlinewidth": 0,
                            "ticks": ""
                          }
                        },
                        "type": "scattergl"
                      }
                    ],
                    "scattermapbox": [
                      {
                        "marker": {
                          "colorbar": {
                            "outlinewidth": 0,
                            "ticks": ""
                          }
                        },
                        "type": "scattermapbox"
                      }
                    ],
                    "scatterpolar": [
                      {
                        "marker": {
                          "colorbar": {
                            "outlinewidth": 0,
                            "ticks": ""
                          }
                        },
                        "type": "scatterpolar"
                      }
                    ],
                    "scatterpolargl": [
                      {
                        "marker": {
                          "colorbar": {
                            "outlinewidth": 0,
                            "ticks": ""
                          }
                        },
                        "type": "scatterpolargl"
                      }
                    ],
                    "scatterternary": [
                      {
                        "marker": {
                          "colorbar": {
                            "outlinewidth": 0,
                            "ticks": ""
                          }
                        },
                        "type": "scatterternary"
                      }
                    ],
                    "surface": [
                      {
                        "colorbar": {
                          "outlinewidth": 0,
                          "ticks": ""
                        },
                        "colorscale": [
                          [
                            0,
                            "#0d0887"
                          ],
                          [
                            0.1111111111111111,
                            "#46039f"
                          ],
                          [
                            0.2222222222222222,
                            "#7201a8"
                          ],
                          [
                            0.3333333333333333,
                            "#9c179e"
                          ],
                          [
                            0.4444444444444444,
                            "#bd3786"
                          ],
                          [
                            0.5555555555555556,
                            "#d8576b"
                          ],
                          [
                            0.6666666666666666,
                            "#ed7953"
                          ],
                          [
                            0.7777777777777778,
                            "#fb9f3a"
                          ],
                          [
                            0.8888888888888888,
                            "#fdca26"
                          ],
                          [
                            1,
                            "#f0f921"
                          ]
                        ],
                        "type": "surface"
                      }
                    ],
                    "table": [
                      {
                        "cells": {
                          "fill": {
                            "color": "#EBF0F8"
                          },
                          "line": {
                            "color": "white"
                          }
                        },
                        "header": {
                          "fill": {
                            "color": "#C8D4E3"
                          },
                          "line": {
                            "color": "white"
                          }
                        },
                        "type": "table"
                      }
                    ]
                  },
                  "layout": {
                    "annotationdefaults": {
                      "arrowcolor": "#2a3f5f",
                      "arrowhead": 0,
                      "arrowwidth": 1
                    },
                    "autotypenumbers": "strict",
                    "coloraxis": {
                      "colorbar": {
                        "outlinewidth": 0,
                        "ticks": ""
                      }
                    },
                    "colorscale": {
                      "diverging": [
                        [
                          0,
                          "#8e0152"
                        ],
                        [
                          0.1,
                          "#c51b7d"
                        ],
                        [
                          0.2,
                          "#de77ae"
                        ],
                        [
                          0.3,
                          "#f1b6da"
                        ],
                        [
                          0.4,
                          "#fde0ef"
                        ],
                        [
                          0.5,
                          "#f7f7f7"
                        ],
                        [
                          0.6,
                          "#e6f5d0"
                        ],
                        [
                          0.7,
                          "#b8e186"
                        ],
                        [
                          0.8,
                          "#7fbc41"
                        ],
                        [
                          0.9,
                          "#4d9221"
                        ],
                        [
                          1,
                          "#276419"
                        ]
                      ],
                      "sequential": [
                        [
                          0,
                          "#0d0887"
                        ],
                        [
                          0.1111111111111111,
                          "#46039f"
                        ],
                        [
                          0.2222222222222222,
                          "#7201a8"
                        ],
                        [
                          0.3333333333333333,
                          "#9c179e"
                        ],
                        [
                          0.4444444444444444,
                          "#bd3786"
                        ],
                        [
                          0.5555555555555556,
                          "#d8576b"
                        ],
                        [
                          0.6666666666666666,
                          "#ed7953"
                        ],
                        [
                          0.7777777777777778,
                          "#fb9f3a"
                        ],
                        [
                          0.8888888888888888,
                          "#fdca26"
                        ],
                        [
                          1,
                          "#f0f921"
                        ]
                      ],
                      "sequentialminus": [
                        [
                          0,
                          "#0d0887"
                        ],
                        [
                          0.1111111111111111,
                          "#46039f"
                        ],
                        [
                          0.2222222222222222,
                          "#7201a8"
                        ],
                        [
                          0.3333333333333333,
                          "#9c179e"
                        ],
                        [
                          0.4444444444444444,
                          "#bd3786"
                        ],
                        [
                          0.5555555555555556,
                          "#d8576b"
                        ],
                        [
                          0.6666666666666666,
                          "#ed7953"
                        ],
                        [
                          0.7777777777777778,
                          "#fb9f3a"
                        ],
                        [
                          0.8888888888888888,
                          "#fdca26"
                        ],
                        [
                          1,
                          "#f0f921"
                        ]
                      ]
                    },
                    "colorway": [
                      "#636efa",
                      "#EF553B",
                      "#00cc96",
                      "#ab63fa",
                      "#FFA15A",
                      "#19d3f3",
                      "#FF6692",
                      "#B6E880",
                      "#FF97FF",
                      "#FECB52"
                    ],
                    "font": {
                      "color": "#2a3f5f"
                    },
                    "geo": {
                      "bgcolor": "white",
                      "lakecolor": "white",
                      "landcolor": "#E5ECF6",
                      "showlakes": true,
                      "showland": true,
                      "subunitcolor": "white"
                    },
                    "hoverlabel": {
                      "align": "left"
                    },
                    "hovermode": "closest",
                    "mapbox": {
                      "style": "light"
                    },
                    "paper_bgcolor": "white",
                    "plot_bgcolor": "#E5ECF6",
                    "polar": {
                      "angularaxis": {
                        "gridcolor": "white",
                        "linecolor": "white",
                        "ticks": ""
                      },
                      "bgcolor": "#E5ECF6",
                      "radialaxis": {
                        "gridcolor": "white",
                        "linecolor": "white",
                        "ticks": ""
                      }
                    },
                    "scene": {
                      "xaxis": {
                        "backgroundcolor": "#E5ECF6",
                        "gridcolor": "white",
                        "gridwidth": 2,
                        "linecolor": "white",
                        "showbackground": true,
                        "ticks": "",
                        "zerolinecolor": "white"
                      },
                      "yaxis": {
                        "backgroundcolor": "#E5ECF6",
                        "gridcolor": "white",
                        "gridwidth": 2,
                        "linecolor": "white",
                        "showbackground": true,
                        "ticks": "",
                        "zerolinecolor": "white"
                      },
                      "zaxis": {
                        "backgroundcolor": "#E5ECF6",
                        "gridcolor": "white",
                        "gridwidth": 2,
                        "linecolor": "white",
                        "showbackground": true,
                        "ticks": "",
                        "zerolinecolor": "white"
                      }
                    },
                    "shapedefaults": {
                      "line": {
                        "color": "#2a3f5f"
                      }
                    },
                    "ternary": {
                      "aaxis": {
                        "gridcolor": "white",
                        "linecolor": "white",
                        "ticks": ""
                      },
                      "baxis": {
                        "gridcolor": "white",
                        "linecolor": "white",
                        "ticks": ""
                      },
                      "bgcolor": "#E5ECF6",
                      "caxis": {
                        "gridcolor": "white",
                        "linecolor": "white",
                        "ticks": ""
                      }
                    },
                    "title": {
                      "x": 0.05
                    },
                    "xaxis": {
                      "automargin": true,
                      "gridcolor": "white",
                      "linecolor": "white",
                      "ticks": "",
                      "title": {
                        "standoff": 15
                      },
                      "zerolinecolor": "white",
                      "zerolinewidth": 2
                    },
                    "yaxis": {
                      "automargin": true,
                      "gridcolor": "white",
                      "linecolor": "white",
                      "ticks": "",
                      "title": {
                        "standoff": 15
                      },
                      "zerolinecolor": "white",
                      "zerolinewidth": 2
                    }
                  }
                },
                "title": {
                  "text": "Highest activating images for layer 6"
                },
                "xaxis": {
                  "anchor": "y",
                  "domain": [
                    0,
                    0.08200000000000002
                  ]
                },
                "xaxis10": {
                  "anchor": "y10",
                  "domain": [
                    0.9180000000000001,
                    1
                  ],
                  "matches": "x"
                },
                "xaxis2": {
                  "anchor": "y2",
                  "domain": [
                    0.10200000000000002,
                    0.18400000000000005
                  ],
                  "matches": "x"
                },
                "xaxis3": {
                  "anchor": "y3",
                  "domain": [
                    0.20400000000000004,
                    0.28600000000000003
                  ],
                  "matches": "x"
                },
                "xaxis4": {
                  "anchor": "y4",
                  "domain": [
                    0.30600000000000005,
                    0.38800000000000007
                  ],
                  "matches": "x"
                },
                "xaxis5": {
                  "anchor": "y5",
                  "domain": [
                    0.4080000000000001,
                    0.4900000000000001
                  ],
                  "matches": "x"
                },
                "xaxis6": {
                  "anchor": "y6",
                  "domain": [
                    0.5100000000000001,
                    0.5920000000000001
                  ],
                  "matches": "x"
                },
                "xaxis7": {
                  "anchor": "y7",
                  "domain": [
                    0.6120000000000001,
                    0.6940000000000002
                  ],
                  "matches": "x"
                },
                "xaxis8": {
                  "anchor": "y8",
                  "domain": [
                    0.7140000000000001,
                    0.796
                  ],
                  "matches": "x"
                },
                "xaxis9": {
                  "anchor": "y9",
                  "domain": [
                    0.8160000000000002,
                    0.8980000000000001
                  ],
                  "matches": "x"
                },
                "yaxis": {
                  "anchor": "x",
                  "domain": [
                    0,
                    1
                  ]
                },
                "yaxis10": {
                  "anchor": "x10",
                  "domain": [
                    0,
                    1
                  ],
                  "matches": "y",
                  "showticklabels": false
                },
                "yaxis2": {
                  "anchor": "x2",
                  "domain": [
                    0,
                    1
                  ],
                  "matches": "y",
                  "showticklabels": false
                },
                "yaxis3": {
                  "anchor": "x3",
                  "domain": [
                    0,
                    1
                  ],
                  "matches": "y",
                  "showticklabels": false
                },
                "yaxis4": {
                  "anchor": "x4",
                  "domain": [
                    0,
                    1
                  ],
                  "matches": "y",
                  "showticklabels": false
                },
                "yaxis5": {
                  "anchor": "x5",
                  "domain": [
                    0,
                    1
                  ],
                  "matches": "y",
                  "showticklabels": false
                },
                "yaxis6": {
                  "anchor": "x6",
                  "domain": [
                    0,
                    1
                  ],
                  "matches": "y",
                  "showticklabels": false
                },
                "yaxis7": {
                  "anchor": "x7",
                  "domain": [
                    0,
                    1
                  ],
                  "matches": "y",
                  "showticklabels": false
                },
                "yaxis8": {
                  "anchor": "x8",
                  "domain": [
                    0,
                    1
                  ],
                  "matches": "y",
                  "showticklabels": false
                },
                "yaxis9": {
                  "anchor": "x9",
                  "domain": [
                    0,
                    1
                  ],
                  "matches": "y",
                  "showticklabels": false
                }
              }
            }
          },
          "metadata": {},
          "output_type": "display_data"
        }
      ],
      "source": [
        "max_activations = [ap.layer_max_activations(layerId, agg_func = np.average) for layerId in range(len(model.layers))]\n",
        "titles = [f\"Highest activating images for layer {layerId}\" for layerId in range(len(max_activations))]\n",
        "show_images(x_test, y_test_l, max_activations, titles)"
      ]
    },
    {
      "cell_type": "markdown",
      "metadata": {},
      "source": [
        "# Neural Activation Patterns"
      ]
    },
    {
      "cell_type": "code",
      "execution_count": 92,
      "metadata": {},
      "outputs": [],
      "source": [
        "nSamplesPerLayer = 10\n",
        "layerId = 3"
      ]
    },
    {
      "cell_type": "markdown",
      "metadata": {},
      "source": [
        "### Show overview of patterns with respect to output data (y) "
      ]
    },
    {
      "cell_type": "code",
      "execution_count": 101,
      "metadata": {},
      "outputs": [
        {
          "name": "stdout",
          "output_type": "stream",
          "text": [
            "                 counts  counts_norm\n",
            "patternId label                     \n",
            "-1.0      0          57     0.487179\n",
            "          1           9     0.076923\n",
            "          2          99     0.846154\n",
            "          3          89     0.760684\n",
            "          4         101     0.863248\n",
            "          5          87     0.743590\n",
            "          6          75     0.641026\n",
            "          7          85     0.726496\n",
            "          8          77     0.658120\n",
            "          9          78     0.666667\n",
            " 0.0      2           9     0.076923\n",
            " 1.0      2           7     0.059829\n",
            " 2.0      0          28     0.239316\n",
            "          2           1     0.008547\n",
            " 3.0      3          18     0.153846\n",
            " 4.0      8          12     0.102564\n",
            " 5.0      6           7     0.059829\n",
            " 6.0      6           5     0.042735\n",
            " 7.0      4           9     0.076923\n",
            " 8.0      9           6     0.051282\n",
            " 9.0      1         117     1.000000\n",
            "          7           1     0.008547\n",
            " 10.0     9           5     0.042735\n",
            " 11.0     7          11     0.094017\n",
            " 12.0     7           2     0.017094\n",
            "          9           5     0.042735\n"
          ]
        },
        {
          "data": {
            "application/vnd.plotly.v1+json": {
              "config": {
                "plotlyServerURL": "https://plot.ly"
              },
              "data": [
                {
                  "hovertemplate": "label=%{x}<br>patternId=%{y}<br>counts=%{marker.size}<extra></extra>",
                  "legendgroup": "",
                  "marker": {
                    "color": "#636efa",
                    "size": [
                      57,
                      9,
                      99,
                      89,
                      101,
                      87,
                      75,
                      85,
                      77,
                      78,
                      9,
                      7,
                      28,
                      1,
                      18,
                      12,
                      7,
                      5,
                      9,
                      6,
                      117,
                      1,
                      5,
                      11,
                      2,
                      5
                    ],
                    "sizemode": "area",
                    "sizeref": 0.8125,
                    "symbol": "square"
                  },
                  "mode": "markers",
                  "name": "",
                  "orientation": "v",
                  "showlegend": false,
                  "type": "scatter",
                  "x": [
                    0,
                    1,
                    2,
                    3,
                    4,
                    5,
                    6,
                    7,
                    8,
                    9,
                    2,
                    2,
                    0,
                    2,
                    3,
                    8,
                    6,
                    6,
                    4,
                    9,
                    1,
                    7,
                    9,
                    7,
                    7,
                    9
                  ],
                  "xaxis": "x",
                  "y": [
                    -1,
                    -1,
                    -1,
                    -1,
                    -1,
                    -1,
                    -1,
                    -1,
                    -1,
                    -1,
                    0,
                    1,
                    2,
                    2,
                    3,
                    4,
                    5,
                    6,
                    7,
                    8,
                    9,
                    9,
                    10,
                    11,
                    12,
                    12
                  ],
                  "yaxis": "y"
                }
              ],
              "layout": {
                "legend": {
                  "itemsizing": "constant",
                  "tracegroupgap": 0
                },
                "template": {
                  "data": {
                    "bar": [
                      {
                        "error_x": {
                          "color": "#2a3f5f"
                        },
                        "error_y": {
                          "color": "#2a3f5f"
                        },
                        "marker": {
                          "line": {
                            "color": "white",
                            "width": 0.5
                          },
                          "pattern": {
                            "fillmode": "overlay",
                            "size": 10,
                            "solidity": 0.2
                          }
                        },
                        "type": "bar"
                      }
                    ],
                    "barpolar": [
                      {
                        "marker": {
                          "line": {
                            "color": "white",
                            "width": 0.5
                          },
                          "pattern": {
                            "fillmode": "overlay",
                            "size": 10,
                            "solidity": 0.2
                          }
                        },
                        "type": "barpolar"
                      }
                    ],
                    "carpet": [
                      {
                        "aaxis": {
                          "endlinecolor": "#2a3f5f",
                          "gridcolor": "#C8D4E3",
                          "linecolor": "#C8D4E3",
                          "minorgridcolor": "#C8D4E3",
                          "startlinecolor": "#2a3f5f"
                        },
                        "baxis": {
                          "endlinecolor": "#2a3f5f",
                          "gridcolor": "#C8D4E3",
                          "linecolor": "#C8D4E3",
                          "minorgridcolor": "#C8D4E3",
                          "startlinecolor": "#2a3f5f"
                        },
                        "type": "carpet"
                      }
                    ],
                    "choropleth": [
                      {
                        "colorbar": {
                          "outlinewidth": 0,
                          "ticks": ""
                        },
                        "type": "choropleth"
                      }
                    ],
                    "contour": [
                      {
                        "colorbar": {
                          "outlinewidth": 0,
                          "ticks": ""
                        },
                        "colorscale": [
                          [
                            0,
                            "#0d0887"
                          ],
                          [
                            0.1111111111111111,
                            "#46039f"
                          ],
                          [
                            0.2222222222222222,
                            "#7201a8"
                          ],
                          [
                            0.3333333333333333,
                            "#9c179e"
                          ],
                          [
                            0.4444444444444444,
                            "#bd3786"
                          ],
                          [
                            0.5555555555555556,
                            "#d8576b"
                          ],
                          [
                            0.6666666666666666,
                            "#ed7953"
                          ],
                          [
                            0.7777777777777778,
                            "#fb9f3a"
                          ],
                          [
                            0.8888888888888888,
                            "#fdca26"
                          ],
                          [
                            1,
                            "#f0f921"
                          ]
                        ],
                        "type": "contour"
                      }
                    ],
                    "contourcarpet": [
                      {
                        "colorbar": {
                          "outlinewidth": 0,
                          "ticks": ""
                        },
                        "type": "contourcarpet"
                      }
                    ],
                    "heatmap": [
                      {
                        "colorbar": {
                          "outlinewidth": 0,
                          "ticks": ""
                        },
                        "colorscale": [
                          [
                            0,
                            "#0d0887"
                          ],
                          [
                            0.1111111111111111,
                            "#46039f"
                          ],
                          [
                            0.2222222222222222,
                            "#7201a8"
                          ],
                          [
                            0.3333333333333333,
                            "#9c179e"
                          ],
                          [
                            0.4444444444444444,
                            "#bd3786"
                          ],
                          [
                            0.5555555555555556,
                            "#d8576b"
                          ],
                          [
                            0.6666666666666666,
                            "#ed7953"
                          ],
                          [
                            0.7777777777777778,
                            "#fb9f3a"
                          ],
                          [
                            0.8888888888888888,
                            "#fdca26"
                          ],
                          [
                            1,
                            "#f0f921"
                          ]
                        ],
                        "type": "heatmap"
                      }
                    ],
                    "heatmapgl": [
                      {
                        "colorbar": {
                          "outlinewidth": 0,
                          "ticks": ""
                        },
                        "colorscale": [
                          [
                            0,
                            "#0d0887"
                          ],
                          [
                            0.1111111111111111,
                            "#46039f"
                          ],
                          [
                            0.2222222222222222,
                            "#7201a8"
                          ],
                          [
                            0.3333333333333333,
                            "#9c179e"
                          ],
                          [
                            0.4444444444444444,
                            "#bd3786"
                          ],
                          [
                            0.5555555555555556,
                            "#d8576b"
                          ],
                          [
                            0.6666666666666666,
                            "#ed7953"
                          ],
                          [
                            0.7777777777777778,
                            "#fb9f3a"
                          ],
                          [
                            0.8888888888888888,
                            "#fdca26"
                          ],
                          [
                            1,
                            "#f0f921"
                          ]
                        ],
                        "type": "heatmapgl"
                      }
                    ],
                    "histogram": [
                      {
                        "marker": {
                          "pattern": {
                            "fillmode": "overlay",
                            "size": 10,
                            "solidity": 0.2
                          }
                        },
                        "type": "histogram"
                      }
                    ],
                    "histogram2d": [
                      {
                        "colorbar": {
                          "outlinewidth": 0,
                          "ticks": ""
                        },
                        "colorscale": [
                          [
                            0,
                            "#0d0887"
                          ],
                          [
                            0.1111111111111111,
                            "#46039f"
                          ],
                          [
                            0.2222222222222222,
                            "#7201a8"
                          ],
                          [
                            0.3333333333333333,
                            "#9c179e"
                          ],
                          [
                            0.4444444444444444,
                            "#bd3786"
                          ],
                          [
                            0.5555555555555556,
                            "#d8576b"
                          ],
                          [
                            0.6666666666666666,
                            "#ed7953"
                          ],
                          [
                            0.7777777777777778,
                            "#fb9f3a"
                          ],
                          [
                            0.8888888888888888,
                            "#fdca26"
                          ],
                          [
                            1,
                            "#f0f921"
                          ]
                        ],
                        "type": "histogram2d"
                      }
                    ],
                    "histogram2dcontour": [
                      {
                        "colorbar": {
                          "outlinewidth": 0,
                          "ticks": ""
                        },
                        "colorscale": [
                          [
                            0,
                            "#0d0887"
                          ],
                          [
                            0.1111111111111111,
                            "#46039f"
                          ],
                          [
                            0.2222222222222222,
                            "#7201a8"
                          ],
                          [
                            0.3333333333333333,
                            "#9c179e"
                          ],
                          [
                            0.4444444444444444,
                            "#bd3786"
                          ],
                          [
                            0.5555555555555556,
                            "#d8576b"
                          ],
                          [
                            0.6666666666666666,
                            "#ed7953"
                          ],
                          [
                            0.7777777777777778,
                            "#fb9f3a"
                          ],
                          [
                            0.8888888888888888,
                            "#fdca26"
                          ],
                          [
                            1,
                            "#f0f921"
                          ]
                        ],
                        "type": "histogram2dcontour"
                      }
                    ],
                    "mesh3d": [
                      {
                        "colorbar": {
                          "outlinewidth": 0,
                          "ticks": ""
                        },
                        "type": "mesh3d"
                      }
                    ],
                    "parcoords": [
                      {
                        "line": {
                          "colorbar": {
                            "outlinewidth": 0,
                            "ticks": ""
                          }
                        },
                        "type": "parcoords"
                      }
                    ],
                    "pie": [
                      {
                        "automargin": true,
                        "type": "pie"
                      }
                    ],
                    "scatter": [
                      {
                        "marker": {
                          "colorbar": {
                            "outlinewidth": 0,
                            "ticks": ""
                          }
                        },
                        "type": "scatter"
                      }
                    ],
                    "scatter3d": [
                      {
                        "line": {
                          "colorbar": {
                            "outlinewidth": 0,
                            "ticks": ""
                          }
                        },
                        "marker": {
                          "colorbar": {
                            "outlinewidth": 0,
                            "ticks": ""
                          }
                        },
                        "type": "scatter3d"
                      }
                    ],
                    "scattercarpet": [
                      {
                        "marker": {
                          "colorbar": {
                            "outlinewidth": 0,
                            "ticks": ""
                          }
                        },
                        "type": "scattercarpet"
                      }
                    ],
                    "scattergeo": [
                      {
                        "marker": {
                          "colorbar": {
                            "outlinewidth": 0,
                            "ticks": ""
                          }
                        },
                        "type": "scattergeo"
                      }
                    ],
                    "scattergl": [
                      {
                        "marker": {
                          "colorbar": {
                            "outlinewidth": 0,
                            "ticks": ""
                          }
                        },
                        "type": "scattergl"
                      }
                    ],
                    "scattermapbox": [
                      {
                        "marker": {
                          "colorbar": {
                            "outlinewidth": 0,
                            "ticks": ""
                          }
                        },
                        "type": "scattermapbox"
                      }
                    ],
                    "scatterpolar": [
                      {
                        "marker": {
                          "colorbar": {
                            "outlinewidth": 0,
                            "ticks": ""
                          }
                        },
                        "type": "scatterpolar"
                      }
                    ],
                    "scatterpolargl": [
                      {
                        "marker": {
                          "colorbar": {
                            "outlinewidth": 0,
                            "ticks": ""
                          }
                        },
                        "type": "scatterpolargl"
                      }
                    ],
                    "scatterternary": [
                      {
                        "marker": {
                          "colorbar": {
                            "outlinewidth": 0,
                            "ticks": ""
                          }
                        },
                        "type": "scatterternary"
                      }
                    ],
                    "surface": [
                      {
                        "colorbar": {
                          "outlinewidth": 0,
                          "ticks": ""
                        },
                        "colorscale": [
                          [
                            0,
                            "#0d0887"
                          ],
                          [
                            0.1111111111111111,
                            "#46039f"
                          ],
                          [
                            0.2222222222222222,
                            "#7201a8"
                          ],
                          [
                            0.3333333333333333,
                            "#9c179e"
                          ],
                          [
                            0.4444444444444444,
                            "#bd3786"
                          ],
                          [
                            0.5555555555555556,
                            "#d8576b"
                          ],
                          [
                            0.6666666666666666,
                            "#ed7953"
                          ],
                          [
                            0.7777777777777778,
                            "#fb9f3a"
                          ],
                          [
                            0.8888888888888888,
                            "#fdca26"
                          ],
                          [
                            1,
                            "#f0f921"
                          ]
                        ],
                        "type": "surface"
                      }
                    ],
                    "table": [
                      {
                        "cells": {
                          "fill": {
                            "color": "#EBF0F8"
                          },
                          "line": {
                            "color": "white"
                          }
                        },
                        "header": {
                          "fill": {
                            "color": "#C8D4E3"
                          },
                          "line": {
                            "color": "white"
                          }
                        },
                        "type": "table"
                      }
                    ]
                  },
                  "layout": {
                    "annotationdefaults": {
                      "arrowcolor": "#2a3f5f",
                      "arrowhead": 0,
                      "arrowwidth": 1
                    },
                    "autotypenumbers": "strict",
                    "coloraxis": {
                      "colorbar": {
                        "outlinewidth": 0,
                        "ticks": ""
                      }
                    },
                    "colorscale": {
                      "diverging": [
                        [
                          0,
                          "#8e0152"
                        ],
                        [
                          0.1,
                          "#c51b7d"
                        ],
                        [
                          0.2,
                          "#de77ae"
                        ],
                        [
                          0.3,
                          "#f1b6da"
                        ],
                        [
                          0.4,
                          "#fde0ef"
                        ],
                        [
                          0.5,
                          "#f7f7f7"
                        ],
                        [
                          0.6,
                          "#e6f5d0"
                        ],
                        [
                          0.7,
                          "#b8e186"
                        ],
                        [
                          0.8,
                          "#7fbc41"
                        ],
                        [
                          0.9,
                          "#4d9221"
                        ],
                        [
                          1,
                          "#276419"
                        ]
                      ],
                      "sequential": [
                        [
                          0,
                          "#0d0887"
                        ],
                        [
                          0.1111111111111111,
                          "#46039f"
                        ],
                        [
                          0.2222222222222222,
                          "#7201a8"
                        ],
                        [
                          0.3333333333333333,
                          "#9c179e"
                        ],
                        [
                          0.4444444444444444,
                          "#bd3786"
                        ],
                        [
                          0.5555555555555556,
                          "#d8576b"
                        ],
                        [
                          0.6666666666666666,
                          "#ed7953"
                        ],
                        [
                          0.7777777777777778,
                          "#fb9f3a"
                        ],
                        [
                          0.8888888888888888,
                          "#fdca26"
                        ],
                        [
                          1,
                          "#f0f921"
                        ]
                      ],
                      "sequentialminus": [
                        [
                          0,
                          "#0d0887"
                        ],
                        [
                          0.1111111111111111,
                          "#46039f"
                        ],
                        [
                          0.2222222222222222,
                          "#7201a8"
                        ],
                        [
                          0.3333333333333333,
                          "#9c179e"
                        ],
                        [
                          0.4444444444444444,
                          "#bd3786"
                        ],
                        [
                          0.5555555555555556,
                          "#d8576b"
                        ],
                        [
                          0.6666666666666666,
                          "#ed7953"
                        ],
                        [
                          0.7777777777777778,
                          "#fb9f3a"
                        ],
                        [
                          0.8888888888888888,
                          "#fdca26"
                        ],
                        [
                          1,
                          "#f0f921"
                        ]
                      ]
                    },
                    "colorway": [
                      "#636efa",
                      "#EF553B",
                      "#00cc96",
                      "#ab63fa",
                      "#FFA15A",
                      "#19d3f3",
                      "#FF6692",
                      "#B6E880",
                      "#FF97FF",
                      "#FECB52"
                    ],
                    "font": {
                      "color": "#2a3f5f"
                    },
                    "geo": {
                      "bgcolor": "white",
                      "lakecolor": "white",
                      "landcolor": "white",
                      "showlakes": true,
                      "showland": true,
                      "subunitcolor": "#C8D4E3"
                    },
                    "hoverlabel": {
                      "align": "left"
                    },
                    "hovermode": "closest",
                    "mapbox": {
                      "style": "light"
                    },
                    "paper_bgcolor": "white",
                    "plot_bgcolor": "white",
                    "polar": {
                      "angularaxis": {
                        "gridcolor": "#EBF0F8",
                        "linecolor": "#EBF0F8",
                        "ticks": ""
                      },
                      "bgcolor": "white",
                      "radialaxis": {
                        "gridcolor": "#EBF0F8",
                        "linecolor": "#EBF0F8",
                        "ticks": ""
                      }
                    },
                    "scene": {
                      "xaxis": {
                        "backgroundcolor": "white",
                        "gridcolor": "#DFE8F3",
                        "gridwidth": 2,
                        "linecolor": "#EBF0F8",
                        "showbackground": true,
                        "ticks": "",
                        "zerolinecolor": "#EBF0F8"
                      },
                      "yaxis": {
                        "backgroundcolor": "white",
                        "gridcolor": "#DFE8F3",
                        "gridwidth": 2,
                        "linecolor": "#EBF0F8",
                        "showbackground": true,
                        "ticks": "",
                        "zerolinecolor": "#EBF0F8"
                      },
                      "zaxis": {
                        "backgroundcolor": "white",
                        "gridcolor": "#DFE8F3",
                        "gridwidth": 2,
                        "linecolor": "#EBF0F8",
                        "showbackground": true,
                        "ticks": "",
                        "zerolinecolor": "#EBF0F8"
                      }
                    },
                    "shapedefaults": {
                      "line": {
                        "color": "#2a3f5f"
                      }
                    },
                    "ternary": {
                      "aaxis": {
                        "gridcolor": "#DFE8F3",
                        "linecolor": "#A2B1C6",
                        "ticks": ""
                      },
                      "baxis": {
                        "gridcolor": "#DFE8F3",
                        "linecolor": "#A2B1C6",
                        "ticks": ""
                      },
                      "bgcolor": "white",
                      "caxis": {
                        "gridcolor": "#DFE8F3",
                        "linecolor": "#A2B1C6",
                        "ticks": ""
                      }
                    },
                    "title": {
                      "x": 0.05
                    },
                    "xaxis": {
                      "automargin": true,
                      "gridcolor": "#EBF0F8",
                      "linecolor": "#EBF0F8",
                      "ticks": "",
                      "title": {
                        "standoff": 15
                      },
                      "zerolinecolor": "#EBF0F8",
                      "zerolinewidth": 2
                    },
                    "yaxis": {
                      "automargin": true,
                      "gridcolor": "#EBF0F8",
                      "linecolor": "#EBF0F8",
                      "ticks": "",
                      "title": {
                        "standoff": 15
                      },
                      "zerolinecolor": "#EBF0F8",
                      "zerolinewidth": 2
                    }
                  }
                },
                "title": {
                  "text": "Number of labels belonging to each pattern - size normalized with respect to label"
                },
                "xaxis": {
                  "anchor": "y",
                  "categoryarray": [
                    0,
                    1,
                    2,
                    3,
                    4,
                    5,
                    6,
                    7,
                    8,
                    9
                  ],
                  "categoryorder": "array",
                  "constrain": "domain",
                  "domain": [
                    0,
                    1
                  ],
                  "mirror": true,
                  "range": [
                    -0.5,
                    10.5
                  ],
                  "showline": true,
                  "tickson": "boundaries",
                  "title": {
                    "text": "label"
                  },
                  "type": "category"
                },
                "yaxis": {
                  "anchor": "x",
                  "categoryarray": [
                    -1,
                    0,
                    1,
                    2,
                    3,
                    4,
                    5,
                    6,
                    7,
                    8,
                    9,
                    10,
                    11,
                    12
                  ],
                  "categoryorder": "array",
                  "domain": [
                    0,
                    1
                  ],
                  "mirror": true,
                  "scaleanchor": "x",
                  "scaleratio": 1,
                  "showline": true,
                  "tickson": "boundaries",
                  "title": {
                    "text": "patternId"
                  },
                  "type": "category"
                }
              }
            }
          },
          "metadata": {},
          "output_type": "display_data"
        }
      ],
      "source": [
        "%reload_ext autoreload\n",
        "%autoreload 2\n",
        "\n",
        "import nap\n",
        "ap.layer_summary(layerId)"
      ]
    },
    {
      "cell_type": "markdown",
      "metadata": {},
      "source": [
        "## Show inputs treated the same way by the network"
      ]
    },
    {
      "cell_type": "code",
      "execution_count": null,
      "metadata": {},
      "outputs": [],
      "source": [
        "sorted_patterns = ap.sorted(layerId)\n",
        "\n",
        "for pattern_id, pattern in sorted_patterns.groupby('patternId'):\n",
        "    avg = ap.average(pattern.index)\n",
        "    centers = pattern.head(1).index\n",
        "    outliers = pattern.tail(3).index\n",
        "    show_pattern(avg, centers, outliers, x_test, y_test_l, F\"Layer {layerId}, Pattern: {pattern_id}, Size: {len(pattern)}\")"
      ]
    },
    {
      "cell_type": "code",
      "execution_count": null,
      "metadata": {},
      "outputs": [],
      "source": [
        "layerId = 3\n",
        "filterId = 1\n",
        "sorted_patterns = nap.sort(ap.filter_patterns(layerId, filterId))\n",
        "\n",
        "for pattern_id, pattern in sorted_patterns.groupby('patternId'):\n",
        "    avg = ap.average(pattern.index)\n",
        "    centers = pattern.head(1).index\n",
        "    outliers = pattern.tail(3).index\n",
        "    show_pattern(avg, centers, outliers, x_test, y_test_l, F\"Layer {layerId}, Filter: {filterId}, Pattern: {pattern_id}, Size: {len(pattern)}\")"
      ]
    },
    {
      "cell_type": "code",
      "execution_count": null,
      "metadata": {},
      "outputs": [],
      "source": [
        "\n",
        "frac = 0.1\n",
        "pattern_samples = ap.head(layerId, nSamplesPerLayer) \n",
        "titles = []\n",
        "patterns = []\n",
        "for pattern_id, pattern in pattern_samples.groupby('patternId'):\n",
        "    patterns.append(pattern.index)\n",
        "    titles.append(F\"Layer {layerId}, Pattern: {pattern_id} - Images most likely belonging to pattern\")\n",
        "show_images(x_test, y_test_l, patterns, titles)"
      ]
    },
    {
      "cell_type": "markdown",
      "metadata": {
        "id": "KO8clYzAqEBa"
      },
      "source": [
        "### Show aggregated inputs treated the same way "
      ]
    },
    {
      "cell_type": "code",
      "execution_count": null,
      "metadata": {},
      "outputs": [],
      "source": [
        "for layerId, layer in enumerate(model.layers):\n",
        "    averages = []\n",
        "    pattern_labels = []\n",
        "    for pattern_id, pattern in ap.layer_patterns(layerId).groupby('patternId'):\n",
        "        averages.append(ap.average(pattern.index))\n",
        "        pattern_labels.append(f\"Id: {pattern_id}, Size: {len(pattern)}\")\n",
        "    nPatterns = len(averages)\n",
        "    indices = list(range(nPatterns))\n",
        "    show_images(averages, pattern_labels, [indices], [f\"Layer {layerId} - Pattern averages\"])"
      ]
    },
    {
      "cell_type": "markdown",
      "metadata": {},
      "source": [
        "\n",
        "### Show activation for each feature. Warning!!! slow code. "
      ]
    },
    {
      "cell_type": "code",
      "execution_count": null,
      "metadata": {},
      "outputs": [],
      "source": [
        "\n",
        "# Convert to slow, but plotting friendly pandas DataFrame\n",
        "activations_df = {'input_data': [], 'layer': [], 'feature': [], 'activation':[]}\n",
        "for dp in range(len(layer_activations)):\n",
        "  for feature in range(len(ap.layer_activations[0])):\n",
        "      for activation in layer_activations[:][feature]:\n",
        "        activations_df['input_data'].append(dp)\n",
        "        activations_df['layer'].append(patternOnLayer)\n",
        "        activations_df['feature'].append(feature)\n",
        "        activations_df['activation'].append(activation)\n",
        "\n",
        "activations_df = pd.DataFrame(activations_df)\n",
        "activations_df.describe()"
      ]
    },
    {
      "cell_type": "code",
      "execution_count": null,
      "metadata": {},
      "outputs": [],
      "source": [
        "px.scatter(activations_df, x='feature', y='activation')"
      ]
    }
  ],
  "metadata": {
    "colab": {
      "name": "activation_clustering.ipynb",
      "provenance": []
    },
    "kernelspec": {
      "display_name": "Python 3",
      "name": "python3"
    },
    "language_info": {
      "codemirror_mode": {
        "name": "ipython",
        "version": 3
      },
      "file_extension": ".py",
      "mimetype": "text/x-python",
      "name": "python",
      "nbconvert_exporter": "python",
      "pygments_lexer": "ipython3",
      "version": "3.8.10"
    }
  },
  "nbformat": 4,
  "nbformat_minor": 0
}
